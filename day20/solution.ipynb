{
 "cells": [
  {
   "cell_type": "code",
   "execution_count": 1,
   "id": "731e01f2-f9f9-4bc1-9011-398fb073aca5",
   "metadata": {},
   "outputs": [],
   "source": [
    "import re\n",
    "import numpy as np\n",
    "import math\n",
    "import copy\n",
    "from matplotlib import pyplot as plt\n",
    "from collections import Counter"
   ]
  },
  {
   "cell_type": "code",
   "execution_count": 173,
   "id": "266e0848-ca2c-4049-bef6-551100c4efde",
   "metadata": {},
   "outputs": [],
   "source": [
    "with open(\"example.txt\") as f:\n",
    "    data = f.read()\n",
    "    lines = data.strip().split(\"\\n\")\n",
    "    records = data.strip().split(\"\\n\\n\")"
   ]
  },
  {
   "cell_type": "code",
   "execution_count": 276,
   "id": "5b56b8d6-41e2-41f3-b509-307c41bad83f",
   "metadata": {},
   "outputs": [],
   "source": [
    "with open(\"input.txt\") as f:\n",
    "    data = f.read()\n",
    "    lines = data.strip().split(\"\\n\")   \n",
    "    records = data.strip().split(\"\\n\\n\")"
   ]
  },
  {
   "cell_type": "code",
   "execution_count": 277,
   "id": "a8822b7d-f2a4-4a54-b8f1-5d6f777f0f95",
   "metadata": {},
   "outputs": [],
   "source": [
    "#board = np.array([list(x) for x in lines])\n",
    "#plt.matshow(screen)"
   ]
  },
  {
   "cell_type": "code",
   "execution_count": 278,
   "id": "2d12a54f-eb68-4e3b-9d7a-60d47e4e039d",
   "metadata": {},
   "outputs": [],
   "source": [
    "part2 = True\n",
    "factor = 811589153 if part2 else 1\n",
    "nums = [int(x)*factor for x in lines]\n",
    "#print(nums)\n",
    "counts = Counter(nums)\n",
    "#print(counts)\n",
    "deduplicated = {}\n",
    "for i in range(len(nums)):\n",
    "    deduplicated[i] = nums[i]\n",
    "id_to_num = deduplicated"
   ]
  },
  {
   "cell_type": "code",
   "execution_count": 279,
   "id": "2f78fbca-6b41-4481-a3d1-db81083c8df9",
   "metadata": {},
   "outputs": [],
   "source": [
    "#print(id_to_num)"
   ]
  },
  {
   "cell_type": "code",
   "execution_count": 280,
   "id": "342a9162-e597-467f-9b91-c473989585f8",
   "metadata": {},
   "outputs": [],
   "source": [
    "def printNums(pos_to_id,id_to_num):\n",
    "    for pos,n_id in pos_to_id.items():\n",
    "        print(id_to_num[n_id],end=\" \")\n",
    "    print()"
   ]
  },
  {
   "cell_type": "code",
   "execution_count": 283,
   "id": "903f4bdd-f638-4902-bf24-bf9c327c9b95",
   "metadata": {},
   "outputs": [],
   "source": [
    "id_to_pos = {i:i for i in id_to_num}\n",
    "pos_to_id = copy.copy(id_to_pos)\n",
    "#print(id_to_num)"
   ]
  },
  {
   "cell_type": "code",
   "execution_count": 284,
   "id": "629bffdf-2f98-4344-a1a1-b70c8e08eaec",
   "metadata": {},
   "outputs": [
    {
     "name": "stdout",
     "output_type": "stream",
     "text": [
      "##############################\n",
      "##############################\n",
      "##############################\n",
      "##############################\n",
      "##############################\n",
      "##############################\n",
      "##############################\n",
      "##############################\n",
      "##############################\n",
      "##############################\n"
     ]
    }
   ],
   "source": [
    "num_itters = 10 if part2 else 1\n",
    "for _ in range(num_itters):\n",
    "    #printNums(pos_to_id,id_to_num)\n",
    "\n",
    "    print(\"##############################\")\n",
    "\n",
    "    for n_id,num in id_to_num.items():\n",
    "        #printNums(pos_to_id,id_to_num)\n",
    "        pos = id_to_pos[n_id]\n",
    "        #dnum = num-1 if num < 0 else num\n",
    "        #dnum = dnum%(len(id_to_num))\n",
    "        #if num < 0:\n",
    "            #dnum -= 1\n",
    "            #len(id_to_num)\n",
    "        #print(\"working on\",pos_to_id[pos])\n",
    "        #print(\"double check\",n_id)\n",
    "        #print(\"moving\",id_to_num[n_id])\n",
    "        #print(\"dnum is\",dnum)\n",
    "        assert(pos_to_id[pos] == n_id)\n",
    "\n",
    "        new_pos = (pos + num) % (len(id_to_num)-1)\n",
    "       # print(\"from\",pos,\"to\",new_pos)\n",
    "        #print(\"dnum is\",dnum)\n",
    "        # remove\n",
    "        for j in range(pos+1,len(id_to_num)):\n",
    "            tmp_id = pos_to_id[j]\n",
    "            id_to_pos[tmp_id] = j - 1\n",
    "            pos_to_id[id_to_pos[tmp_id]] = tmp_id\n",
    "        \n",
    "        #print(\"post delete\")\n",
    "        #printNums(pos_to_id,id_to_num)\n",
    "        \n",
    "        # insert\n",
    "        for j in range(len(id_to_num)-2,new_pos-1,-1):\n",
    "            tmp_id = pos_to_id[j]\n",
    "            id_to_pos[tmp_id] = j+1\n",
    "            pos_to_id[id_to_pos[tmp_id]] = tmp_id\n",
    "        \n",
    "        pos_to_id[new_pos] = n_id\n",
    "        id_to_pos[n_id] = new_pos\n",
    "            #new_nums.insert(new_ind+1,num)\n",
    "            #del new_nums[ind]\n",
    "            #del new_nums[ind+1]\n"
   ]
  },
  {
   "cell_type": "code",
   "execution_count": 285,
   "id": "e35e719d-e9ca-4612-ab98-ecdc36080c01",
   "metadata": {},
   "outputs": [
    {
     "name": "stdout",
     "output_type": "stream",
     "text": [
      "0\n",
      "2701\n"
     ]
    }
   ],
   "source": [
    "#printNums(pos_to_id,id_to_num)\n",
    "for i,num in id_to_num.items():\n",
    "    if num == 0:\n",
    "        id_0 = i\n",
    "        break\n",
    "#id_0 = 2701\n",
    "print(id_to_num[id_0])\n",
    "print(id_0)"
   ]
  },
  {
   "cell_type": "code",
   "execution_count": 286,
   "id": "2e124030-62f3-4b54-be06-aa5a2e26580d",
   "metadata": {},
   "outputs": [
    {
     "name": "stdout",
     "output_type": "stream",
     "text": [
      "3738991227871\n",
      "-143651280081\n",
      "-729618648547\n",
      "2865721299243\n"
     ]
    }
   ],
   "source": [
    "ind = id_to_pos[id_0]\n",
    "accum = 0\n",
    "for i in [1000,2000,3000]:\n",
    "    x = (ind+i)%len(id_to_num)\n",
    "    accum += id_to_num[pos_to_id[x]]\n",
    "    print(id_to_num[pos_to_id[x]])\n",
    "print(accum)"
   ]
  },
  {
   "cell_type": "code",
   "execution_count": 263,
   "id": "36f6176b-d91e-4e1c-9576-55c230a54e27",
   "metadata": {},
   "outputs": [
    {
     "data": {
      "text/plain": [
       "4"
      ]
     },
     "execution_count": 263,
     "metadata": {},
     "output_type": "execute_result"
    }
   ],
   "source": [
    "(1-3)%6"
   ]
  },
  {
   "cell_type": "code",
   "execution_count": 99,
   "id": "aec49449-605d-42c2-9590-f95fbd640ee2",
   "metadata": {},
   "outputs": [
    {
     "name": "stdout",
     "output_type": "stream",
     "text": [
      "5\n"
     ]
    }
   ],
   "source": [
    "print(ind)"
   ]
  },
  {
   "cell_type": "code",
   "execution_count": 100,
   "id": "63f09186-28fc-4125-abec-0e57e49b00db",
   "metadata": {},
   "outputs": [],
   "source": [
    "foo = [0,1,2,3]"
   ]
  },
  {
   "cell_type": "code",
   "execution_count": 101,
   "id": "9b77c7a4-7d79-4552-8ab5-ea7bc67d7955",
   "metadata": {},
   "outputs": [
    {
     "name": "stdout",
     "output_type": "stream",
     "text": [
      "[0, 10, 1, 2, 3]\n"
     ]
    }
   ],
   "source": [
    "foo.insert(1,10)\n",
    "print(foo)"
   ]
  },
  {
   "cell_type": "code",
   "execution_count": 102,
   "id": "667029b7-624a-42e8-9143-f6d39c56a9b8",
   "metadata": {},
   "outputs": [
    {
     "name": "stdout",
     "output_type": "stream",
     "text": [
      "-2 1 2 -3 4 0 3 \n"
     ]
    }
   ],
   "source": [
    "printNums(pos_to_id,id_to_num)\n"
   ]
  },
  {
   "cell_type": "code",
   "execution_count": 103,
   "id": "a78bff86-1c0d-4f01-9055-b3ab500c5bd2",
   "metadata": {},
   "outputs": [],
   "source": [
    "# guessed -2740"
   ]
  },
  {
   "cell_type": "code",
   "execution_count": null,
   "id": "3477b8b2-8f6a-40e7-9c5f-4f14a5ff0b7b",
   "metadata": {},
   "outputs": [],
   "source": [
    "# part2 guess -19363705601427"
   ]
  },
  {
   "cell_type": "code",
   "execution_count": null,
   "id": "df25d612-1ec5-49f5-a95a-5b0f4498f49c",
   "metadata": {},
   "outputs": [],
   "source": []
  },
  {
   "cell_type": "code",
   "execution_count": null,
   "id": "29f9217b-a202-4b6b-8aec-c7afc2f0b324",
   "metadata": {},
   "outputs": [],
   "source": [
    "id_to_pos = {i:i for i in id_to_num}\n",
    "pos_to_id = copy.copy(id_to_pos)\n",
    "#print(new_nums)"
   ]
  },
  {
   "cell_type": "code",
   "execution_count": 249,
   "id": "4c6575b2-1b60-4dd2-83a4-4f932ac960bf",
   "metadata": {},
   "outputs": [
    {
     "name": "stdout",
     "output_type": "stream",
     "text": [
      "3246356612 -1623178306 1623178306 -2434767459 2434767459 0 811589153 \n"
     ]
    },
    {
     "ename": "KeyboardInterrupt",
     "evalue": "",
     "output_type": "error",
     "traceback": [
      "\u001b[1;31m---------------------------------------------------------------------------\u001b[0m",
      "\u001b[1;31mKeyboardInterrupt\u001b[0m                         Traceback (most recent call last)",
      "\u001b[1;32m~\\AppData\\Local\\Temp\\ipykernel_2744\\2308327431.py\u001b[0m in \u001b[0;36m<module>\u001b[1;34m\u001b[0m\n\u001b[0;32m     10\u001b[0m             \u001b[1;31m#print(\"looped\")\u001b[0m\u001b[1;33m\u001b[0m\u001b[1;33m\u001b[0m\u001b[0m\n\u001b[0;32m     11\u001b[0m             \u001b[0mtmp_id\u001b[0m \u001b[1;33m=\u001b[0m \u001b[0mpos_to_id\u001b[0m\u001b[1;33m[\u001b[0m\u001b[1;33m(\u001b[0m\u001b[0mpos\u001b[0m\u001b[1;33m+\u001b[0m\u001b[0mj\u001b[0m\u001b[1;33m+\u001b[0m\u001b[1;36m1\u001b[0m\u001b[1;33m)\u001b[0m\u001b[1;33m%\u001b[0m\u001b[0mlen\u001b[0m\u001b[1;33m(\u001b[0m\u001b[0mid_to_num\u001b[0m\u001b[1;33m)\u001b[0m\u001b[1;33m]\u001b[0m\u001b[1;33m\u001b[0m\u001b[1;33m\u001b[0m\u001b[0m\n\u001b[1;32m---> 12\u001b[1;33m             \u001b[0mid_to_pos\u001b[0m\u001b[1;33m[\u001b[0m\u001b[0mtmp_id\u001b[0m\u001b[1;33m]\u001b[0m \u001b[1;33m=\u001b[0m \u001b[1;33m(\u001b[0m\u001b[0mpos\u001b[0m\u001b[1;33m+\u001b[0m\u001b[0mj\u001b[0m\u001b[1;33m)\u001b[0m\u001b[1;33m%\u001b[0m\u001b[0mlen\u001b[0m\u001b[1;33m(\u001b[0m\u001b[0mid_to_num\u001b[0m\u001b[1;33m)\u001b[0m\u001b[1;33m\u001b[0m\u001b[1;33m\u001b[0m\u001b[0m\n\u001b[0m\u001b[0;32m     13\u001b[0m             \u001b[0mpos_to_id\u001b[0m\u001b[1;33m[\u001b[0m\u001b[0mid_to_pos\u001b[0m\u001b[1;33m[\u001b[0m\u001b[0mtmp_id\u001b[0m\u001b[1;33m]\u001b[0m\u001b[1;33m]\u001b[0m \u001b[1;33m=\u001b[0m \u001b[0mtmp_id\u001b[0m\u001b[1;33m\u001b[0m\u001b[1;33m\u001b[0m\u001b[0m\n\u001b[0;32m     14\u001b[0m         \u001b[0mpos_to_id\u001b[0m\u001b[1;33m[\u001b[0m\u001b[0mnew_pos\u001b[0m\u001b[1;33m]\u001b[0m \u001b[1;33m=\u001b[0m \u001b[0mn_id\u001b[0m\u001b[1;33m\u001b[0m\u001b[1;33m\u001b[0m\u001b[0m\n",
      "\u001b[1;31mKeyboardInterrupt\u001b[0m: "
     ]
    }
   ],
   "source": [
    "for n_id,num in id_to_num.items():\n",
    "    printNums(pos_to_id,id_to_num)\n",
    "    pos = id_to_pos[n_id]\n",
    "    dnum = num\n",
    "    new_pos = (pos + dnum + len(id_to_num)) % len(id_to_num)\n",
    "    if num > 0:\n",
    "        #print(\"pos < new_pos\")\n",
    "        # need to insert num at new_pos and shift everything down one\n",
    "        for j in range(num):\n",
    "            #print(\"looped\")\n",
    "            tmp_id = pos_to_id[(pos+j+1)%len(id_to_num)]\n",
    "            id_to_pos[tmp_id] = (pos+j)%len(id_to_num)\n",
    "            pos_to_id[id_to_pos[tmp_id]] = tmp_id\n",
    "        pos_to_id[new_pos] = n_id\n",
    "        id_to_pos[n_id] = new_pos\n",
    "        #new_nums.insert(new_ind+1,num)\n",
    "        #del new_nums[ind]\n",
    "    elif num < 0: # index is larger than new_ind\n",
    "        #print(\"pos >= new_pos\")\n",
    "\n",
    "        # need to insert num at new_pos and shift everything up one\n",
    "        for j in range(0,num,-1):\n",
    "            tmp_id = pos_to_id[(pos+j-1+len(id_to_num))%len(id_to_num)]\n",
    "            id_to_pos[tmp_id] = (pos+j+len(id_to_num))%len(id_to_num)\n",
    "            pos_to_id[id_to_pos[tmp_id]] = tmp_id\n",
    "        pos_to_id[new_pos] = n_id\n",
    "        id_to_pos[n_id] = new_pos\n",
    "        #new_nums.insert(new_ind+1,num)\n",
    "        #del new_nums[ind+1]\n",
    "#print(new_nums)"
   ]
  },
  {
   "cell_type": "code",
   "execution_count": null,
   "id": "cb867571-8e2a-478b-906c-703187827d78",
   "metadata": {},
   "outputs": [],
   "source": [
    "printNums(pos_to_id,id_to_num)\n"
   ]
  },
  {
   "cell_type": "code",
   "execution_count": 250,
   "id": "6fd692f9-336d-45f4-be81-1de328336326",
   "metadata": {},
   "outputs": [
    {
     "name": "stdout",
     "output_type": "stream",
     "text": [
      "2865721299243\n"
     ]
    }
   ],
   "source": [
    "numbers = [int(x) * 811589153 for x in open('input.txt')]\n",
    "indices = list(range(len(numbers)))\n",
    "\n",
    "for i in indices * 10:\n",
    "    indices.pop(j := indices.index(i))\n",
    "    indices.insert((j+numbers[i]) % len(indices), i)\n",
    "\n",
    "zero = indices.index(numbers.index(0))\n",
    "print(sum(numbers[indices[(zero+p) % len(numbers)]] for p in [1000,2000,3000]))"
   ]
  },
  {
   "cell_type": "code",
   "execution_count": 254,
   "id": "c924880d-4b7e-4880-8281-d6e0acc30c81",
   "metadata": {},
   "outputs": [
    {
     "name": "stdout",
     "output_type": "stream",
     "text": [
      "[3738991227871, -143651280081, -729618648547]\n"
     ]
    }
   ],
   "source": [
    "print([numbers[indices[(zero+p) % len(numbers)]] for p in [1000,2000,3000]])"
   ]
  },
  {
   "cell_type": "code",
   "execution_count": null,
   "id": "045d0295-bccf-41ee-baaf-996739255f74",
   "metadata": {},
   "outputs": [],
   "source": []
  }
 ],
 "metadata": {
  "kernelspec": {
   "display_name": "Python 3 (ipykernel)",
   "language": "python",
   "name": "python3"
  },
  "language_info": {
   "codemirror_mode": {
    "name": "ipython",
    "version": 3
   },
   "file_extension": ".py",
   "mimetype": "text/x-python",
   "name": "python",
   "nbconvert_exporter": "python",
   "pygments_lexer": "ipython3",
   "version": "3.9.13"
  }
 },
 "nbformat": 4,
 "nbformat_minor": 5
}
