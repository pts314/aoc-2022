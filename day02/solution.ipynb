{
 "cells": [
  {
   "cell_type": "code",
   "execution_count": 40,
   "id": "37e33679-f7e9-48d9-8fef-3655c5545cab",
   "metadata": {},
   "outputs": [],
   "source": [
    "with open(\"input.txt\") as f:\n",
    "    data = f.read()"
   ]
  },
  {
   "cell_type": "code",
   "execution_count": 28,
   "id": "4c5944ac-54d5-4018-85e0-2355037ee8a4",
   "metadata": {},
   "outputs": [],
   "source": [
    "with open(\"example.txt\") as f:\n",
    "    data = f.read()"
   ]
  },
  {
   "cell_type": "code",
   "execution_count": 17,
   "id": "53809c09-a9bb-4438-9eed-6fd84140944a",
   "metadata": {},
   "outputs": [],
   "source": [
    "shapeScore = {\n",
    "    \"X\" : 1,\n",
    "    \"Y\" : 2,\n",
    "    \"Z\" : 3\n",
    "}\n",
    "translate = {\n",
    "    \"A\" : \"X\",\n",
    "    \"B\" : \"Y\",\n",
    "    \"C\" : \"Z\"\n",
    "}\n",
    "wins = {\n",
    "    \"A\" : \"Y\",\n",
    "    \"B\" : \"Z\",\n",
    "    \"C\" : \"X\"\n",
    "}\n",
    "# rock is A\n",
    "def win(p1,p2):\n",
    "    if translate[p1] == p2:\n",
    "        return 3\n",
    "    elif wins[p1] == p2:\n",
    "        return 6\n",
    "    else:\n",
    "        return 0\n",
    "def score(p2):\n",
    "    return shapeScore[p2]\n",
    "\n",
    "def doline(line):\n",
    "    return win(line.split(\" \")[0], line.split(\" \")[1])+score(line.split(\" \")[1])"
   ]
  },
  {
   "cell_type": "code",
   "execution_count": 21,
   "id": "c0c6dd4d-880d-4b99-82e7-2b7730078a99",
   "metadata": {},
   "outputs": [],
   "source": [
    "sum1 = 0\n",
    "for line in data.strip().split(\"\\n\"):\n",
    "    sum1 += doline(line)"
   ]
  },
  {
   "cell_type": "code",
   "execution_count": 22,
   "id": "3616b628-2369-4488-8ef3-d82186ad9491",
   "metadata": {},
   "outputs": [
    {
     "name": "stdout",
     "output_type": "stream",
     "text": [
      "12740\n"
     ]
    }
   ],
   "source": [
    "print(sum1)"
   ]
  },
  {
   "cell_type": "code",
   "execution_count": 41,
   "id": "d9770fc0-0487-4174-bb6d-485efc693f3f",
   "metadata": {},
   "outputs": [],
   "source": [
    "shapeScore = {\n",
    "    \"A\" : 1,\n",
    "    \"B\" : 2,\n",
    "    \"C\" : 3\n",
    "}\n",
    "translate = {\n",
    "    \"A\" : \"X\",\n",
    "    \"B\" : \"Y\",\n",
    "    \"C\" : \"Z\"\n",
    "}\n",
    "wins = {\n",
    "    \"A\" : \"B\",\n",
    "    \"B\" : \"C\",\n",
    "    \"C\" : \"A\"\n",
    "}\n",
    "lose = {\n",
    "    \"A\" : \"C\",\n",
    "    \"B\" : \"A\",\n",
    "    \"C\" : \"B\"\n",
    "}\n",
    "# rock is A\n",
    "def win(p1,p2):\n",
    "    if p2 == \"X\":\n",
    "        return lose[p1],0\n",
    "    if p2 == \"Y\":\n",
    "        return p1,3\n",
    "    if p2 == \"Z\":\n",
    "        return wins[p1],6\n",
    "    \n",
    "def score(p2):\n",
    "    return shapeScore[p2]\n",
    "\n",
    "def doline(line):\n",
    "    tile, score1 = win(line.split(\" \")[0], line.split(\" \")[1])\n",
    "    #print(tile,score1)\n",
    "    return score(tile)+score1"
   ]
  },
  {
   "cell_type": "code",
   "execution_count": 42,
   "id": "0f7e791e-b04c-4f25-b7b3-f7d290d6fa83",
   "metadata": {},
   "outputs": [],
   "source": [
    "sum1=0\n",
    "for line in data.strip().split(\"\\n\"):\n",
    "   # print(line)\n",
    "    p =doline(line)\n",
    "   # print(p)\n",
    "    sum1+=p"
   ]
  },
  {
   "cell_type": "code",
   "execution_count": 43,
   "id": "d01263e8-dda7-4cdb-a620-d2b6aa7ea3e2",
   "metadata": {},
   "outputs": [
    {
     "name": "stdout",
     "output_type": "stream",
     "text": [
      "11980\n"
     ]
    }
   ],
   "source": [
    "print(sum1)"
   ]
  },
  {
   "cell_type": "code",
   "execution_count": null,
   "id": "c4aea61f-3383-445f-b2f4-45dafd39993a",
   "metadata": {},
   "outputs": [],
   "source": []
  }
 ],
 "metadata": {
  "kernelspec": {
   "display_name": "Python 3 (ipykernel)",
   "language": "python",
   "name": "python3"
  },
  "language_info": {
   "codemirror_mode": {
    "name": "ipython",
    "version": 3
   },
   "file_extension": ".py",
   "mimetype": "text/x-python",
   "name": "python",
   "nbconvert_exporter": "python",
   "pygments_lexer": "ipython3",
   "version": "3.9.13"
  }
 },
 "nbformat": 4,
 "nbformat_minor": 5
}
