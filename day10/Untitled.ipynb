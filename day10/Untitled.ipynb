{
 "cells": [
  {
   "cell_type": "code",
   "execution_count": 26,
   "id": "4e0bfaf6-1928-4abe-88f0-c66d756a0024",
   "metadata": {},
   "outputs": [],
   "source": [
    "import numpy as np\n",
    "from matplotlib import pyplot as plt"
   ]
  },
  {
   "cell_type": "code",
   "execution_count": 150,
   "id": "8fd7c708-943d-475d-ade1-e4ebc0e8577d",
   "metadata": {},
   "outputs": [],
   "source": [
    "with open(\"example.txt\") as f:\n",
    "    data = f.read()\n",
    "    lines = data.strip().split(\"\\n\")"
   ]
  },
  {
   "cell_type": "code",
   "execution_count": 158,
   "id": "84753140-9ed2-4497-8416-8b6813dd617a",
   "metadata": {},
   "outputs": [],
   "source": [
    "with open(\"input.txt\") as f:\n",
    "    data = f.read()\n",
    "    lines = data.strip().split(\"\\n\")"
   ]
  },
  {
   "cell_type": "code",
   "execution_count": 159,
   "id": "e34d3bce-c891-4097-acd4-0d37730dd621",
   "metadata": {},
   "outputs": [],
   "source": [
    "cycle = 0\n",
    "val = 1\n",
    "val_history = [0]\n",
    "for line in lines:\n",
    "    if \"noop\" in line:\n",
    "        val_history.append(val)\n",
    "        cycle += 1\n",
    "    if \"addx\" in line:\n",
    "        _,amt = line.split()\n",
    "        for _ in range(2):\n",
    "            val_history.append(val)\n",
    "            cycle +=1\n",
    "        val += int(amt)\n",
    "        \n",
    "        "
   ]
  },
  {
   "cell_type": "code",
   "execution_count": 160,
   "id": "2829562f-d07e-453c-ab35-5c7604bb25c5",
   "metadata": {},
   "outputs": [],
   "source": [
    "def signal_strength(val_history,cycle):\n",
    "    return cycle*val_history[cycle]"
   ]
  },
  {
   "cell_type": "code",
   "execution_count": 161,
   "id": "4e963086-bb2b-4e5d-8542-86e22b60fe01",
   "metadata": {},
   "outputs": [],
   "source": [
    "sig = 0\n",
    "for i in range(20,221,40):\n",
    "    sig += signal_strength(val_history,i)"
   ]
  },
  {
   "cell_type": "code",
   "execution_count": 162,
   "id": "32a3dd22-cda8-42fb-a52d-e154e320e236",
   "metadata": {},
   "outputs": [
    {
     "name": "stdout",
     "output_type": "stream",
     "text": [
      "11220\n"
     ]
    }
   ],
   "source": [
    "print(sig)"
   ]
  },
  {
   "cell_type": "code",
   "execution_count": 184,
   "id": "f488aa82-df5d-42eb-a08a-b3c9ad4939fd",
   "metadata": {},
   "outputs": [],
   "source": [
    "screen = np.zeros([6,40])"
   ]
  },
  {
   "cell_type": "code",
   "execution_count": 185,
   "id": "335dd10e-ee83-4ccd-9b3a-4958fbc30dbc",
   "metadata": {},
   "outputs": [
    {
     "name": "stdout",
     "output_type": "stream",
     "text": [
      "0 -1\n",
      "1 -1\n",
      "2 4\n",
      "3 4\n",
      "4 38\n",
      "5 38\n",
      "6 36\n",
      "7 36\n",
      "8 7\n",
      "9 7\n",
      "10 9\n",
      "11 9\n",
      "12 14\n",
      "13 14\n",
      "14 16\n",
      "15 16\n",
      "16 19\n",
      "17 19\n",
      "18 17\n",
      "19 17\n",
      "20 16\n",
      "21 16\n",
      "22 24\n",
      "23 24\n",
      "24 26\n",
      "25 26\n",
      "26 32\n",
      "27 32\n",
      "28 6\n",
      "29 6\n",
      "30 29\n",
      "31 29\n",
      "32 3\n",
      "33 3\n",
      "34 36\n",
      "35 36\n",
      "36 38\n",
      "37 38\n",
      "38 1\n",
      "39 1\n"
     ]
    }
   ],
   "source": [
    "part2_1 = \"\"\n",
    "for cycle,loc in enumerate(val_history):\n",
    "    #print(cycle)\n",
    "    if cycle == 0:\n",
    "        continue\n",
    "    #print(cycle)\n",
    "    c = cycle-1\n",
    "    l = loc\n",
    "    c_l = c % 40\n",
    "    if (c//40) == 1:\n",
    "        print(c_l,l)\n",
    "    #print(\"c is:\",c)\n",
    "    #print(c_l,l)\n",
    "    if abs(c_l-l) <= 1:\n",
    "        #print(\".\")\n",
    "        #print(\"setting\",c//40,c%40)\n",
    "        screen[c//40][c%40] = 1\n",
    "        part2_1+=\"#\"\n",
    "    else:\n",
    "        part2_1+=\" \""
   ]
  },
  {
   "cell_type": "code",
   "execution_count": 186,
   "id": "f195b1b1-db8c-4e98-b834-df33f8498dd4",
   "metadata": {
    "tags": []
   },
   "outputs": [
    {
     "data": {
      "text/plain": [
       "<matplotlib.image.AxesImage at 0x15fd4611100>"
      ]
     },
     "execution_count": 186,
     "metadata": {},
     "output_type": "execute_result"
    },
    {
     "data": {
      "image/png": "[encoded data removed]",
      "text/plain": [
       "<Figure size 1600x240 with 1 Axes>"
      ]
     },
     "metadata": {},
     "output_type": "display_data"
    }
   ],
   "source": [
    "plt.matshow(screen)"
   ]
  },
  {
   "cell_type": "code",
   "execution_count": 91,
   "id": "cde19b2f-6730-4f06-a28c-3de73172c79d",
   "metadata": {},
   "outputs": [
    {
     "data": {
      "text/plain": [
       "240"
      ]
     },
     "execution_count": 133,
     "metadata": {},
     "output_type": "execute_result"
    }
   ],
   "source": [
    "len(val_history)"
   ]
  },
  {
   "cell_type": "code",
   "execution_count": 92,
   "id": "65e95990-2ec0-4430-80f3-729041b4bdb8",
   "metadata": {},
   "outputs": [
    {
     "name": "stdout",
     "output_type": "stream",
     "text": [
      "[1, 1, 1, 27, 27, 6, 6, 8, 8, 11]\n"
     ]
    }
   ],
   "source": [
    "print(val_history[:10])"
   ]
  },
  {
   "cell_type": "code",
   "execution_count": 167,
   "id": "1c1548ad-18a8-4829-8e21-e99064c96578",
   "metadata": {},
   "outputs": [
    {
     "name": "stdout",
     "output_type": "stream",
     "text": [
      "11220 \n",
      " # # #     # # # #   # # #       # #         # #   # # # #   #         #     #   #     #         #   #     #   #     #         #   #         #         #   #     # # #         #     #     #   #     #         #   # # #     #         # #       #     #     #       # # #     # # # #         #   #         #         #   #     #     #   #         #         #     #   #     #   #         #         #   #     # # #     # # # #   #         #     #     # #     # # # #   # # # #   #     #    \n"
     ]
    }
   ],
   "source": [
    "from itertools import accumulate\n",
    "\n",
    "f = lambda x: int(x) if x[-1].isdigit() else 0\n",
    "xs = [*map(f, open('input.txt').read().split())]\n",
    "\n",
    "part1, part2 = 0, '\\n'\n",
    "for i, x in enumerate(accumulate([1]+xs), 1):\n",
    "    part1 += i*x if i%40==20 else 0\n",
    "    part2 += '#' if (i-1)%40-x in [-1,0,1] else ' '\n",
    "\n",
    "print(part1, *part2)"
   ]
  },
  {
   "cell_type": "code",
   "execution_count": 182,
   "id": "07520733-4779-4bfc-ab44-e8c40eeb8e17",
   "metadata": {},
   "outputs": [
    {
     "name": "stdout",
     "output_type": "stream",
     "text": [
      "\n",
      "\n",
      "###  #### ###   ##    ## #### #    #  # \n",
      "#  #    # #  # #  #    # #    #    # #  \n",
      "###    #  #  # #  #    # ###  #    ##   \n",
      "#  #  #   ###  ####    # #    #    # #  \n",
      "#  # #    #    #  # #  # #    #    # #  \n",
      "###  #### #    #  #  ##  #### #### #  # \n",
      " "
     ]
    }
   ],
   "source": [
    "for i,x in enumerate(part2):\n",
    "    print(x,end=\"\")\n",
    "    if i%40 == 0:\n",
    "        print(\"\")"
   ]
  },
  {
   "cell_type": "code",
   "execution_count": 183,
   "id": "a5fce043-93c8-4fc1-a1bc-ac1e77b7d7a2",
   "metadata": {},
   "outputs": [
    {
     "name": "stdout",
     "output_type": "stream",
     "text": [
      " \n",
      "###  #### ###   ##    ## #### #    #  # \n",
      "#  #    # #  # #  #    # #    #    # #  \n",
      "###    #  #  # #  #    # ###  #    ##   \n",
      "#  #  #   ###  ####    # #    #    # #  \n",
      "#  # #    #    #  # #  # #    #    # #  \n",
      "###  #### #    #  #  ##  #### #### #  # \n"
     ]
    }
   ],
   "source": [
    "for i,x in enumerate(\" \"+part2_1):\n",
    "    print(x,end=\"\")\n",
    "    if i%40 == 0:\n",
    "        print(\"\")"
   ]
  },
  {
   "cell_type": "code",
   "execution_count": null,
   "id": "628e3115-1d57-4523-a326-b2b8f8bb8c01",
   "metadata": {},
   "outputs": [],
   "source": []
  }
 ],
 "metadata": {
  "kernelspec": {
   "display_name": "Python 3 (ipykernel)",
   "language": "python",
   "name": "python3"
  },
  "language_info": {
   "codemirror_mode": {
    "name": "ipython",
    "version": 3
   },
   "file_extension": ".py",
   "mimetype": "text/x-python",
   "name": "python",
   "nbconvert_exporter": "python",
   "pygments_lexer": "ipython3",
   "version": "3.9.13"
  }
 },
 "nbformat": 4,
 "nbformat_minor": 5
}
