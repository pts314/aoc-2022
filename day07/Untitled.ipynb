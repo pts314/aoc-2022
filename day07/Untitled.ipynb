{
 "cells": [
  {
   "cell_type": "code",
   "execution_count": 4,
   "id": "7baac320-f48a-42a0-bafb-f3dff6f39e7b",
   "metadata": {},
   "outputs": [],
   "source": [
    "from collections import defaultdict"
   ]
  },
  {
   "cell_type": "code",
   "execution_count": 17,
   "id": "2329fb77-a1a1-41c0-adc3-fc73f8b16d7c",
   "metadata": {},
   "outputs": [],
   "source": [
    "with open(\"example.txt\") as f:\n",
    "    data = f.read()"
   ]
  },
  {
   "cell_type": "code",
   "execution_count": 36,
   "id": "2525af0d-8ea6-4443-adbd-a2f987de65ab",
   "metadata": {},
   "outputs": [],
   "source": [
    "with open(\"input.txt\") as f:\n",
    "    data = f.read()"
   ]
  },
  {
   "cell_type": "code",
   "execution_count": 38,
   "id": "901ebf61-396a-4aa0-bf13-4d4ee452081d",
   "metadata": {},
   "outputs": [],
   "source": [
    "#print(data)"
   ]
  },
  {
   "cell_type": "code",
   "execution_count": 43,
   "id": "92f8d506-cb27-4eca-aeb7-ee5090487c67",
   "metadata": {},
   "outputs": [
    {
     "name": "stdout",
     "output_type": "stream",
     "text": [
      "{'bsncwlw': {'gzsrhr.snp': 264332, 'ttctlvjp': 94633}, 'dssnr': {'vmqbwtd.dqv': 101990}, 'lpj.tpq': 290062, 'rfhsnp.mfv': 183564, 'sfb': {'dth': {'btvzp': 214526}, 'gmgwq': {'czj.rsc': 270924, 'lfnhb': {'cvffv.wzr': 110202, 'lfnhb': 45842, 'mjqww.zhl': 181410, 'snqqrvwd.tsb': 72379, 'vdjjgd.lnb': 46957, 'vrsdff': {'jrcgrvp.plv': 191477, 'mjqww': 292376, 'vdjjgd.lnb': 97997, 'zplw.cmd': 5027}}, 'snqqrvwd.hbq': 97804, 'tjcpgqnm.dvv': 99847}, 'hmvtj': {'dqvjbhg': {'vdjjgd.lnb': 98579}}, 'jrcgrvp': {'dzrcrcz': {'bppp.qfg': 218954, 'zwhtbhg.jms': 206406}, 'lfnhb.frn': 3233, 'sln': {'fvsc': 269167, 'mjtb.gpd': 274943}, 'sqtj': {'cvjwqpz': {'fpd.ljl': 46716}, 'djqjv': {'gplnb': {'gqrlz': {'pmshlv': 43021, 'vrsdff': 124139, 'zpgwmgf': 255316}, 'srpcmhq': {'jrcgrvp': 128669, 'lfnhb': {'lfnhb': 150844, 'vngjfb.nlm': 202341}, 'vrsdff.pgt': 243510, 'vzmfbcv.pbc': 134902, 'znfw': {'cdnh': {'bhlmzppw.gzp': 83983, 'fdvcmbt': {'hzgmnswh': {'wshrmd': {'vrsdff.rtc': 314723}}, 'wtt': {'tqsvdvfp.ggd': 32262}}, 'fphdhzbw.fnf': 14625, 'ndbztbq': {'sgvn.rss': 91717}, 'rzvzpn.gzv': 217778}, 'ctpslqg': {'hnpc.cht': 249954, 'vdjjgd.lnb': 119625}, 'jrcgrvp': {'lfnhb': {'ncdpc.mvm': 115317}, 'prrhq': {'mjqww.mhs': 78208, 'qqhtc.tmr': 280559, 'ttctlvjp': 275434}}, 'tmjnj': {'cgvctg.sqm': 20439, 'ftlrq.pll': 69239, 'gwgpwlg.dhd': 127427, 'snqqrvwd': {'mjsgdblr': 27706, 'vdjjgd.lnb': 64740}, 'vbqdpjp': {'pchgrt': {'hmtsjzf': 59640}}}, 'ttfczgwn': {'pmshlv': 85314}}}, 'vrsdff': {'jrcgrvp.vgn': 315614}}, 'jgbn.zhm': 282457, 'jrcgrvp': {'wqmmcclb': 184058}, 'lfnhb': {'cplb': 201903, 'jgbn.zhm': 79091, 'tpjq.qpr': 1778, 'wtvwvw.gwf': 62410}}, 'frrdhnsz.ltt': 11761, 'htc': {'hhlvws': {'lfnhb.wbt': 174639, 'qrjsccz.mbm': 174488, 'vrz.ctn': 107151}, 'jrcgrvp.phz': 229278, 'njh': {'vzhhrvqj': {'rnhn.nwm': 154428}}}, 'lfnhb': {'mmq.fqh': 230816, 'nbwtcrpl': {'ftflrgzj': {'glpnz': {'cdw': {'jgbn.zhm': 164522, 'jhdbcd.swb': 93952}, 'hjntz': {'vdjjgd.lnb': 257626}, 'jdszmcd': {'lfnhb': {'jrcgrvp': 144608}, 'nwmjhbt': {'cnlwmv.pvq': 81512}}, 'mjqww.gdv': 250018}, 'vrsdff.ppc': 282475}, 'mjqww.zqd': 86404, 'mwpd.gwc': 159575, 'nsjfj': {'shsgq': 158675}, 'pfg': {'lfnhb.tjc': 98277, 'snqqrvwd': {'ffr.zpv': 121715, 'jgbn.zhm': 105094}, 'vtmmz': 170691}}, 'rlz': {'bmlqhfnm': 247967, 'mtg': 270713, 'wvblbnz': 207128}, 'rnmdwrw.ljf': 62597, 'rtw': 552, 'vdjjgd.lnb': 232443, 'vgvq': {'jrcgrvp': 209343}}, 'mcfdlh': {'pbtp.pmh': 15958}, 'mjqww': {'jrcgrvp': {'jrcgrvp': 189839, 'pdzcm.gqm': 73108}, 'lfnhb': {'fgcmvwd': {'mjqww.zdr': 28530}, 'jgbn.zhm': 42810, 'jrcgrvp': {'gpgtds.sdh': 5386}, 'vdpbmtf': {'crwdp.hhm': 284528, 'pmshlv': 54212}}, 'pmshlv': 55522, 'qvmhbp': {'jrcgrvp': {'ndmprm': {'jqrdvnbp': {'snqqrvwd': 299157}, 'mjqww': {'mjqww': {'pmshlv': 40424}, 'snqqrvwd.fvp': 101780}}, 'rqzhqpt.dbj': 254907, 'tvbrzjrq': {'bbb.lmg': 172207, 'mjqww': {'vrsdff': {'dbfqmmvq': {'qghnzsv.rgc': 19934}}}, 'snqqrvwd': {'vdjjgd.lnb': 27161}, 'ttctlvjp': 218707, 'vngjfb.nlm': 289582}, 'zjbwrbw': 226311}, 'ptlmpl': {'hlwzt': 235908, 'mbdsf.lvm': 171817}, 'vhql': {'ddzm.qnz': 167713, 'ggnccf.sbd': 1725, 'gmstw': {'jrcgrvp.lqt': 299744, 'jshshg': {'jgbn.zhm': 169710, 'vnclc': 309539}, 'pmjmngss': {'mjqww.qph': 305357}, 'vrsdff': 145296, 'vzrwgjpc.msq': 152354}, 'jzp.ldj': 229981, 'lfnhb.qzs': 80353, 'tnjnlj': {'jwtj': {'jjtbcdpv': {'lprglf.pbt': 247459, 'wjwf.btb': 8862}, 'lfnhb': 101453, 'ppvbjrhr': {'mjplqgvf.bzc': 83453}, 'tplsqph': {'nzfjn.plg': 300026, 'zwh': {'vngjfb.nlm': 160407}}}, 'pghml': {'bpjf.clf': 88913}}, 'ttctlvjp': 286555}, 'wwt': 160711}, 'zldldv': {'vngjfb.nlm': 160867}}}, 'ttctlvjp': 268936, 'tzqsbwnb': {'lfnhb': {'wprbvfc.llh': 230926}, 'stdnrj': {'nrctwt.hpw': 118152}, 'wgfvcjcf': {'bmcscsw.tvj': 12672}, 'wrtnvm': {'jgbn.zhm': 162743}}}, 'mjqww': {'bqpmsnv': {'jgbn.zhm': 90710, 'plvbfgp.cvp': 240953}, 'cfzqvmlc': {'vcfwwlb': {'vdjjgd.lnb': 11321}}, 'mjqww.zpw': 135084, 'srf': 63486, 'tfzbhps': {'brv': 300432, 'jrcgrvp': 273987, 'mjqww': {'mjqww': {'bqgbbwm': 82140}, 'mzp': 250614, 'rfwwp': {'cgmzd': {'jqnhv.qpl': 75395, 'pmshlv': 218635, 'vngjfb.nlm': 17021}, 'jrcgrvp': {'dhfqqwt.wtn': 58428, 'jgbn.zhm': 196643, 'snqqrvwd': {'dzpvwv.ncp': 238675, 'lfnhb.mrb': 69199}, 'vdjjgd.lnb': 309352}, 'njnpg': 3536, 'vdjjgd.lnb': 40653, 'vngjfb.nlm': 99587}, 'vrsdff': {'jqmss.lhp': 67256, 'jrvsrhlf': {'snqqrvwd': 191305}, 'lhbmv.bwl': 101311}, 'zqzmpqhd.sgm': 89064}, 'qjsjj': {'bljbhwg': {'ttctlvjp': 7022}, 'fbzg': {'vlm.wtf': 290427}, 'gth.wwq': 73749, 'lfnhb': {'hchjd.gvt': 232147, 'pbdsbh.mtj': 87988}, 'lfnhb.ccj': 296698, 'mjqww': 62939, 'rcltts': {'pmshlv': 271382, 'whthc': {'pvltmhwq.hww': 248784}}}, 'rjqrnfct': 8449, 'rvm': {'fgblz': {'ftwzjf': 146821, 'ttctlvjp': 34704}, 'tmdlnjw': 219799, 'trs': 280804, 'ttctlvjp': 198792, 'vdjjgd.lnb': 103869, 'vngjfb.nlm': 117484, 'vrsdff': {'jfgdp': {'vdjjgd.lnb': 247425, 'vngjfb.nlm': 215872}, 'rslfvqnj': 113986}}, 'vrsdff': {'rlbbqld': {'mjqww': {'fjpnsv': {'gssqhzr': {'rtqjsrh.qbr': 194501, 'vdjjgd.lnb': 208907}, 'tnbrwc': {'vrsdff.bjs': 301363}}, 'jgbn.zhm': 293683}, 'ttctlvjp': 204582}, 'vrsdff.brz': 274950, 'vrsdff.sgs': 190523}, 'zhwbllv.lpj': 117697}, 'vdjjgd.lnb': 171527, 'vrsdff': {'tzftr.lnd': 243129, 'vszlnw.nnz': 54940}}, 'nrrtpbqw': 234348, 'ntczgz': {'brzscmg': {'jsnwqhts': 253980}, 'fzcp': {'qpdlplzt.ccr': 133626}}, 'qvfnt': {'bnmw': 197353, 'glzzbcfr': {'jgbn.zhm': 205953, 'snqqrvwd': 207362}, 'rbw': {'mjqww.lqb': 164242}, 'tjsqs.lqr': 278771, 'vdjjgd.lnb': 258759}, 'tvmv': {'lpntbv.phh': 80194}, 'vrsdff': {'bgmfwb': {'bqzdswtj': {'jzqcnnw': {'fwt': {'lfnhb.hqz': 20557}, 'rgvmcsb': {'snvcfdpf.hvf': 89387}, 'ttctlvjp': 235477}, 'njccj': {'lfnhb': 262201, 'ttctlvjp': 200215, 'vngjfb.nlm': 232220}}, 'jrcgrvp': 6018, 'jwpms.snh': 276452, 'njv': {'vrsdff': {'nnvjbqgl': 17060}}, 'pmshlv': 173910, 'qwqstp': 144465, 'rqchbwl.mwm': 186879, 'vrsdff': {'bjsmnvpp': {'vngjfb.nlm': 172378}, 'bsgdhgf': {'dggftf': 32538}, 'pgzj': {'gsfqvvws.nsd': 1788, 'jrg': {'jgbn.zhm': 116492}, 'vrsdff': {'tjngdssd': {'snqqrvwd.gmw': 194563}}}, 'snqqrvwd': {'dlwn': {'ffhpr': {'bcfwsgs.tzg': 131380, 'jgbn.zhm': 209987, 'pmshlv': 286370}, 'hnb.nzj': 119317}, 'pmshlv': 103245, 'pzcl': {'mjqww': {'vrsdff.sqs': 178542}}, 'vngjfb.nlm': 163325, 'vrsdff.chz': 40822}, 'vwn': {'vrsdff.mcr': 268238}}}, 'dvqtdsr': {'gznfwq.tjf': 109637, 'jrcgrvp.gzb': 26909, 'pqshn': {'sjmctn.ddl': 292725}, 'qrdwn': {'fmzdmv': 249329, 'jrcgrvp': {'vdjjgd.lnb': 114378}, 'snmsbc': {'ftqwmwh': {'bnqlv': {'cwlmqt.bbh': 136350, 'vrsdff': {'vngjfb.nlm': 141840, 'vrsdff': 228473}}}, 'jgbn.zhm': 64765, 'qbcs': {'pmshlv': 119659}}, 'vdjjgd.lnb': 158902}, 'snqqrvwd.dlq': 299319, 'ttctlvjp': 191068, 'zgqqb': {'jgbn.zhm': 76559, 'tfjjcvg.wcz': 51194, 'vdjjgd.lnb': 182300}, 'zzgd': 32751}, 'jrcgrvp.nsr': 118820, 'pggh': {'bptq': {'djwzwblq': 142261, 'hzm': {'lwzcrrn': {'rjbvvlns': 75543}}, 'jrcgrvp': 171045, 'jzdz': {'rdjhtht': 29854}, 'pfdm': 65989}, 'jfggzwlr.qfv': 141811, 'mjqww': {'jrcgrvp.ppr': 76340, 'lfnhb': {'ttctlvjp': 244279}}, 'rvgjwv': 280055, 'tzvslczc': 47733}, 'stj.ldg': 132530, 'vwpdb.gmf': 3436, 'zlzjmjvn': {'vngjfb.nlm': 116546}}, 'wndttgwm': {'pbjrts.vjz': 201916, 'swbmqtg': 14494}}, 'ttctlvjp': 199911, 'vhbnn': {'gwj': {'mghnhljr.tmp': 299701}, 'hnsphswl': {'bmpsvbmv': {'hwpndl': {'mjqww.bjm': 2660}}, 'ndb': {'jqdswj.dvp': 16600, 'jscnpf': 241104, 'nwgsvh': 32178}, 'pwmfc': {'pmshlv': 16607, 'ttctlvjp': 234937, 'vdjjgd.lnb': 127344, 'zgv.src': 95778, 'zzvg': {'blrd': {'lfnhb.hpq': 86042}, 'fscnr': {'zpdlcd': 135422}, 'smdlbzl': 147045, 'snqqrvwd.gzg': 107844}}, 'qrrrt': {'cwwc': 5908, 'dgswrljc': {'lrttnqm.zbc': 40499, 'pmshlv': 312009}, 'dlhdg': {'pmshlv': 66562}, 'jgbn.zhm': 5261, 'pmshlv': 310282, 'vngjfb.nlm': 134603, 'zcdtsqq.qfv': 202988}}, 'sspz': {'dfs': {'jjbrp.mjz': 228281, 'nsvv.mjt': 204654, 'qwhfjsnt.ptj': 309232}, 'gzwlzc': {'bsqbbfgz': {'qgtmg.vgr': 14589}}, 'vngjfb.nlm': 139140, 'vrsdff.bwn': 222854}, 'zpgg': {'wfjfpb.wmh': 125276}}, 'vngjfb.nlm': 253955, 'vzgpzlv.hgm': 284563}\n"
     ]
    }
   ],
   "source": [
    "root = {}\n",
    "lines = [x for x in data.strip().split(\"\\n\")]\n",
    "stack = []\n",
    "cwd = {}\n",
    "i = 0\n",
    "while i < len(lines):\n",
    "    line = lines[i]\n",
    "    #print(line)\n",
    "    #print(i)\n",
    "    parts = line.split()\n",
    "    if parts[0] == \"$\":\n",
    "        if parts[1] == \"cd\":\n",
    "            if parts[2] == \"/\":\n",
    "                stack = []\n",
    "                cwd = root\n",
    "            elif parts[2] == \"..\":\n",
    "                #print(\"going up\")\n",
    "                #print(\"stack was:\",stack)\n",
    "                stack.pop()\n",
    "                #print(\"is now:\",stack)\n",
    "                cwd = root\n",
    "                for d in stack:\n",
    "                    cwd = cwd[d]\n",
    "            else:\n",
    "                stack.append(parts[2])\n",
    "                if parts[2] not in cwd:\n",
    "                    cwd[parts[2]] = {}\n",
    "                cwd = cwd[parts[2]]\n",
    "        elif parts[1] == \"ls\":\n",
    "            while i+1 < len(lines) and lines[i+1][0] != \"$\":\n",
    "                i+=1\n",
    "                parts = lines[i].split()\n",
    "                if parts[0] == \"dir\":\n",
    "                    if parts[1] not in cwd:\n",
    "                        cwd[parts[1]] = {}\n",
    "                else:\n",
    "                    cwd[parts[1]] = int(parts[0])\n",
    "    else:\n",
    "        print(\"error, found non command line while not in command\")\n",
    "        \n",
    "    i+=1\n",
    "print(root)            \n",
    "            "
   ]
  },
  {
   "cell_type": "code",
   "execution_count": 46,
   "id": "56e68eb7-c724-489f-aaa6-d326cd33b98c",
   "metadata": {},
   "outputs": [
    {
     "data": {
      "text/plain": [
       "43629016"
      ]
     },
     "execution_count": 46,
     "metadata": {},
     "output_type": "execute_result"
    }
   ],
   "source": [
    "dirs = {}\n",
    "vals = []\n",
    "def p1(cwd):\n",
    "    size = 0\n",
    "    for key in cwd:\n",
    "        if type(cwd[key]) == dict:\n",
    "            msize = p1(cwd[key])\n",
    "            #if key in dirs:\n",
    "            #    print(\"error duplicate on\",key)\n",
    "            dirs[key] = msize\n",
    "            vals.append(msize)\n",
    "        else:\n",
    "            msize = cwd[key]\n",
    "        size += msize\n",
    "    return size\n",
    "p1(root)"
   ]
  },
  {
   "cell_type": "code",
   "execution_count": 47,
   "id": "90bd7045-5737-4ed0-bc82-55022922fd35",
   "metadata": {},
   "outputs": [
    {
     "name": "stdout",
     "output_type": "stream",
     "text": [
      "1845346\n"
     ]
    },
    {
     "data": {
      "text/plain": [
       "159581708"
      ]
     },
     "execution_count": 47,
     "metadata": {},
     "output_type": "execute_result"
    }
   ],
   "source": [
    "vals = [x for x in vals if x < 100000]\n",
    "print(sum(vals))\n",
    "sum(dirs.values())\n"
   ]
  },
  {
   "cell_type": "code",
   "execution_count": 48,
   "id": "5954fe2b-7487-406d-995a-3b5a3abd7606",
   "metadata": {},
   "outputs": [],
   "source": [
    "#(not 1540861)\n",
    "#is 1845346, because dirs are not unique"
   ]
  },
  {
   "cell_type": "code",
   "execution_count": 52,
   "id": "a72cddb1-dd52-4040-9b6b-12b1e8527111",
   "metadata": {},
   "outputs": [
    {
     "name": "stdout",
     "output_type": "stream",
     "text": [
      "43629016\n",
      "26370984\n",
      "3629016\n"
     ]
    }
   ],
   "source": [
    "total_size = p1(root)\n",
    "print(total_size)\n",
    "max_size = 70000000\n",
    "available_space = max_size - total_size\n",
    "print(available_space)\n",
    "desired_space = 30000000\n",
    "desired_folder_size = desired_space-available_space\n",
    "print(desired_folder_size)"
   ]
  },
  {
   "cell_type": "code",
   "execution_count": 54,
   "id": "3fbff7f0-8b8c-4fd1-8947-a07f29d78334",
   "metadata": {},
   "outputs": [
    {
     "data": {
      "text/plain": [
       "43629016"
      ]
     },
     "execution_count": 54,
     "metadata": {},
     "output_type": "execute_result"
    }
   ],
   "source": [
    "dirs = {}\n",
    "vals = []\n",
    "best_found = max_size\n",
    "desired_folder_size\n",
    "def p2(cwd):\n",
    "    global best_found\n",
    "    size = 0\n",
    "    for key in cwd:\n",
    "        if type(cwd[key]) == dict:\n",
    "            msize = p2(cwd[key])\n",
    "            #if key in dirs:\n",
    "            #    print(\"error duplicate on\",key)\n",
    "            dirs[key] = msize\n",
    "            if msize < best_found and msize >= desired_folder_size:\n",
    "                best_found = msize\n",
    "            vals.append(msize)\n",
    "            \n",
    "        else:\n",
    "            msize = cwd[key]\n",
    "        size += msize\n",
    "    return size\n",
    "p2(root)"
   ]
  },
  {
   "cell_type": "code",
   "execution_count": 55,
   "id": "beff883a-93a8-497a-9a1c-fbdc227f6378",
   "metadata": {},
   "outputs": [
    {
     "name": "stdout",
     "output_type": "stream",
     "text": [
      "3636703\n"
     ]
    }
   ],
   "source": [
    "print(best_found)"
   ]
  },
  {
   "cell_type": "code",
   "execution_count": null,
   "id": "7bf51146-373a-45ab-9ba9-070e88dc6e22",
   "metadata": {},
   "outputs": [],
   "source": []
  }
 ],
 "metadata": {
  "kernelspec": {
   "display_name": "Python 3 (ipykernel)",
   "language": "python",
   "name": "python3"
  },
  "language_info": {
   "codemirror_mode": {
    "name": "ipython",
    "version": 3
   },
   "file_extension": ".py",
   "mimetype": "text/x-python",
   "name": "python",
   "nbconvert_exporter": "python",
   "pygments_lexer": "ipython3",
   "version": "3.9.13"
  }
 },
 "nbformat": 4,
 "nbformat_minor": 5
}
