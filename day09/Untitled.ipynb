{
 "cells": [
  {
   "cell_type": "code",
   "execution_count": 56,
   "id": "ea77b926-b961-4b99-9ca0-a0b5ca6c899f",
   "metadata": {},
   "outputs": [],
   "source": [
    "import numpy as np\n",
    "import math"
   ]
  },
  {
   "cell_type": "code",
   "execution_count": 73,
   "id": "23dcea66-578f-4aee-bb9b-7b9ba50ea1d5",
   "metadata": {},
   "outputs": [],
   "source": [
    "with open(\"input.txt\") as f:\n",
    "    lines = f.read().strip().split(\"\\n\")\n"
   ]
  },
  {
   "cell_type": "code",
   "execution_count": 32,
   "id": "f579b168-320f-4171-96aa-526f0662dfea",
   "metadata": {},
   "outputs": [],
   "source": [
    "with open(\"example.txt\") as f:\n",
    "    lines = f.read().strip().split(\"\\n\")\n"
   ]
  },
  {
   "cell_type": "code",
   "execution_count": 74,
   "id": "363e9373-8d1b-42e8-b6af-6b1cfdcdd6a2",
   "metadata": {},
   "outputs": [
    {
     "data": {
      "text/plain": [
       "'R 2'"
      ]
     },
     "execution_count": 74,
     "metadata": {},
     "output_type": "execute_result"
    }
   ],
   "source": [
    "lines[3]"
   ]
  },
  {
   "cell_type": "code",
   "execution_count": null,
   "id": "b7a450fe-7099-4a34-9e14-34ad8769ca4d",
   "metadata": {},
   "outputs": [],
   "source": []
  },
  {
   "cell_type": "code",
   "execution_count": 83,
   "id": "abc046a2-b645-4e24-bdd6-bac437a8e31d",
   "metadata": {},
   "outputs": [
    {
     "name": "stdout",
     "output_type": "stream",
     "text": [
      "[[50, 50], [50, 50], [50, 50], [50, 50], [50, 50], [50, 50], [50, 50], [50, 50], [50, 50], [50, 50]]\n"
     ]
    }
   ],
   "source": [
    "b = np.zeros([1000,1000])\n",
    "points = [[50,50] for i in range(10)]\n",
    "print(points)\n",
    "head = points[0]\n",
    "tail = points[-1]\n",
    "directions = {\n",
    "    \"D\":(-1,0),\n",
    "    \"U\":(1,0),\n",
    "    \"R\":(0,1),\n",
    "    \"L\":(0,-1)\n",
    "}\n",
    "b[tail[0],tail[1]] = 1\n",
    "\n",
    "for line in lines:\n",
    "    direction,count = line.split()\n",
    "    for _ in range(int(count)):\n",
    "        points[0][0] += directions[direction][0]\n",
    "        points[0][1] += directions[direction][1]\n",
    "        for i in range(1,len(points)):\n",
    "            dx = points[i-1][0]-points[i][0]\n",
    "            dy = points[i-1][1]-points[i][1]\n",
    "            sign_dx = int(dx/abs(dx)) if dx != 0 else 0\n",
    "            sign_dy = int(dy/abs(dy)) if dy != 0 else 0\n",
    "            if abs(dx) > 1 or abs(dy) > 1:\n",
    "                if abs(dx) == abs(dy):\n",
    "                    #diag\n",
    "                    points[i][0] = points[i-1][0]-sign_dx\n",
    "                    points[i][1] = points[i-1][1]-sign_dy\n",
    "                elif abs(dx) > abs(dy):\n",
    "                    points[i][0] = points[i-1][0]-sign_dx\n",
    "                    points[i][1] = points[i-1][1]\n",
    "                else:\n",
    "                    points[i][0] = points[i-1][0]\n",
    "                    points[i][1] = points[i-1][1]-sign_dy\n",
    "           # print(\"going\")\n",
    "           # print(dx,dy,head,tail)\n",
    "            b[tail[0],tail[1]] = 1\n",
    "            #t = np.array(b)\n",
    "            #t[head[0],head[1]] = 2\n",
    "            #t[tail[0],tail[1]] = 3\n",
    "           # print(t[49:57,49:57])\n"
   ]
  },
  {
   "cell_type": "code",
   "execution_count": 84,
   "id": "ad1206cc-14e5-4977-97e2-4aa0b17cf8c6",
   "metadata": {},
   "outputs": [
    {
     "name": "stdout",
     "output_type": "stream",
     "text": [
      "[173, -1]\n"
     ]
    }
   ],
   "source": [
    "print(head)"
   ]
  },
  {
   "cell_type": "code",
   "execution_count": 85,
   "id": "3ed74534-7c0e-451a-8f1b-4979cb8e6f30",
   "metadata": {},
   "outputs": [
    {
     "name": "stdout",
     "output_type": "stream",
     "text": [
      "[[0. 0. 0. 0. 0. 0. 0. 0. 0. 0. 0. 0. 0. 0. 0. 0. 0. 0. 0. 0.]\n",
      " [0. 0. 0. 0. 0. 0. 0. 0. 0. 0. 0. 0. 0. 0. 0. 0. 0. 0. 0. 0.]\n",
      " [0. 0. 0. 0. 0. 0. 0. 0. 0. 0. 0. 0. 0. 0. 0. 0. 0. 0. 0. 1.]\n",
      " [0. 0. 0. 0. 0. 0. 0. 0. 0. 0. 0. 0. 0. 0. 0. 0. 0. 0. 1. 0.]\n",
      " [0. 0. 0. 0. 0. 0. 0. 0. 0. 0. 0. 0. 0. 0. 0. 0. 0. 1. 0. 0.]\n",
      " [0. 0. 0. 0. 0. 0. 0. 0. 0. 0. 0. 0. 0. 0. 0. 0. 0. 0. 1. 0.]\n",
      " [0. 0. 0. 0. 0. 0. 0. 0. 0. 0. 0. 0. 0. 0. 0. 0. 0. 0. 0. 1.]\n",
      " [0. 0. 0. 0. 0. 0. 0. 0. 0. 0. 0. 0. 0. 0. 0. 0. 0. 0. 0. 0.]\n",
      " [0. 0. 0. 0. 0. 0. 0. 0. 0. 0. 0. 0. 0. 0. 0. 0. 0. 0. 0. 0.]\n",
      " [0. 0. 0. 0. 0. 0. 1. 0. 0. 0. 0. 0. 0. 0. 0. 0. 0. 0. 0. 0.]\n",
      " [0. 0. 0. 0. 0. 0. 0. 1. 0. 0. 1. 0. 0. 0. 0. 0. 0. 0. 0. 0.]\n",
      " [0. 0. 0. 0. 0. 0. 0. 0. 1. 1. 0. 0. 0. 0. 0. 0. 0. 0. 0. 0.]\n",
      " [0. 0. 0. 0. 0. 0. 0. 0. 0. 1. 0. 0. 0. 0. 0. 0. 0. 0. 0. 0.]\n",
      " [0. 0. 0. 0. 0. 0. 0. 0. 0. 0. 1. 0. 0. 0. 0. 0. 0. 0. 0. 0.]\n",
      " [0. 0. 0. 0. 0. 0. 0. 0. 0. 0. 0. 1. 0. 0. 0. 0. 0. 0. 0. 0.]\n",
      " [0. 0. 0. 0. 0. 0. 0. 0. 0. 0. 0. 0. 1. 0. 0. 0. 0. 0. 0. 0.]\n",
      " [0. 0. 0. 0. 0. 0. 0. 0. 0. 0. 0. 0. 0. 1. 0. 0. 0. 0. 0. 0.]\n",
      " [0. 0. 0. 0. 0. 0. 0. 0. 0. 0. 0. 0. 0. 0. 1. 1. 0. 0. 1. 0.]\n",
      " [0. 0. 0. 0. 0. 0. 0. 0. 0. 0. 0. 0. 0. 0. 1. 0. 1. 1. 0. 1.]\n",
      " [0. 0. 0. 0. 0. 0. 0. 0. 0. 0. 0. 0. 0. 1. 0. 0. 0. 0. 0. 0.]]\n"
     ]
    }
   ],
   "source": [
    "print(b[40:60,40:60])"
   ]
  },
  {
   "cell_type": "code",
   "execution_count": 86,
   "id": "7f1ad33e-7236-46b4-9695-18b16b01c075",
   "metadata": {},
   "outputs": [
    {
     "data": {
      "text/plain": [
       "2367.0"
      ]
     },
     "execution_count": 86,
     "metadata": {},
     "output_type": "execute_result"
    }
   ],
   "source": [
    "sum(sum(b))"
   ]
  },
  {
   "cell_type": "code",
   "execution_count": null,
   "id": "5039efb2-c5bd-4bde-b48b-446aba626a8a",
   "metadata": {},
   "outputs": [],
   "source": []
  }
 ],
 "metadata": {
  "kernelspec": {
   "display_name": "Python 3 (ipykernel)",
   "language": "python",
   "name": "python3"
  },
  "language_info": {
   "codemirror_mode": {
    "name": "ipython",
    "version": 3
   },
   "file_extension": ".py",
   "mimetype": "text/x-python",
   "name": "python",
   "nbconvert_exporter": "python",
   "pygments_lexer": "ipython3",
   "version": "3.9.13"
  }
 },
 "nbformat": 4,
 "nbformat_minor": 5
}
