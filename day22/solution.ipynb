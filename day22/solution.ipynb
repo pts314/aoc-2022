{
 "cells": [
  {
   "cell_type": "code",
   "execution_count": 1,
   "id": "731e01f2-f9f9-4bc1-9011-398fb073aca5",
   "metadata": {},
   "outputs": [],
   "source": [
    "import re\n",
    "import numpy as np\n",
    "import math\n",
    "from matplotlib import pyplot as plt"
   ]
  },
  {
   "cell_type": "code",
   "execution_count": 2,
   "id": "266e0848-ca2c-4049-bef6-551100c4efde",
   "metadata": {},
   "outputs": [],
   "source": [
    "with open(\"example.txt\") as f:\n",
    "    data = f.read()\n",
    "    lines = data.strip().split(\"\\n\")\n",
    "    records = data.split(\"\\n\\n\")\n",
    "    example = True"
   ]
  },
  {
   "cell_type": "code",
   "execution_count": 3,
   "id": "5b56b8d6-41e2-41f3-b509-307c41bad83f",
   "metadata": {},
   "outputs": [],
   "source": [
    "with open(\"input.txt\") as f:\n",
    "    data = f.read()\n",
    "    lines = data.strip().split(\"\\n\")   \n",
    "    records = data.split(\"\\n\\n\")\n",
    "    example = False"
   ]
  },
  {
   "cell_type": "code",
   "execution_count": 4,
   "id": "a8822b7d-f2a4-4a54-b8f1-5d6f777f0f95",
   "metadata": {},
   "outputs": [],
   "source": [
    "#board = np.array([list(x) for x in lines])\n",
    "#plt.matshow(screen)"
   ]
  },
  {
   "cell_type": "code",
   "execution_count": 5,
   "id": "2d12a54f-eb68-4e3b-9d7a-60d47e4e039d",
   "metadata": {},
   "outputs": [],
   "source": [
    "board_raw = records[0]\n",
    "moves_raw = records[1]"
   ]
  },
  {
   "cell_type": "code",
   "execution_count": 6,
   "id": "903f4bdd-f638-4902-bf24-bf9c327c9b95",
   "metadata": {},
   "outputs": [],
   "source": [
    "max_len = max(len(l) for l in board_raw.split(\"\\n\"))\n",
    "n_rows = len(board_raw.split(\"\\n\"))"
   ]
  },
  {
   "cell_type": "code",
   "execution_count": 7,
   "id": "629bffdf-2f98-4344-a1a1-b70c8e08eaec",
   "metadata": {},
   "outputs": [],
   "source": [
    "board = np.zeros([n_rows,max_len])\n",
    "mapping = {\" \":0,\".\":1,\"#\":2}\n",
    "for i,line in enumerate(board_raw.split(\"\\n\")):\n",
    "    #print(line)\n",
    "    \n",
    "    tmp = np.array([mapping[x] for x in line.replace(\"\\n\",\"\")])\n",
    "    #print(tmp)\n",
    "    \n",
    "    board[i][:len(tmp)] += tmp"
   ]
  },
  {
   "cell_type": "code",
   "execution_count": 8,
   "id": "b66ec99d-4bd4-4e4d-885b-5f36899b6928",
   "metadata": {},
   "outputs": [
    {
     "data": {
      "text/plain": [
       "(2, 3)"
      ]
     },
     "execution_count": 8,
     "metadata": {},
     "output_type": "execute_result"
    }
   ],
   "source": [
    "np.array([[0,1,2],[3,4,5]]).shape"
   ]
  },
  {
   "cell_type": "code",
   "execution_count": 9,
   "id": "5a9fd7fa-f597-40e0-8b03-a2dd9b2ef7cf",
   "metadata": {},
   "outputs": [
    {
     "name": "stdout",
     "output_type": "stream",
     "text": [
      "[[0. 0. 0. ... 1. 1. 1.]\n",
      " [0. 0. 0. ... 1. 1. 1.]\n",
      " [0. 0. 0. ... 1. 1. 1.]\n",
      " ...\n",
      " [1. 1. 1. ... 0. 0. 0.]\n",
      " [1. 1. 1. ... 0. 0. 0.]\n",
      " [1. 1. 1. ... 0. 0. 0.]]\n"
     ]
    }
   ],
   "source": [
    "print(board)"
   ]
  },
  {
   "cell_type": "code",
   "execution_count": 10,
   "id": "5c809aea-7340-4357-b4c8-a2552295d936",
   "metadata": {},
   "outputs": [],
   "source": [
    "def get_str_board(board):\n",
    "    str_mapping = {0:\" \",1:\".\",2:\"#\"}\n",
    "    str_board = []\n",
    "    for line in board:\n",
    "        tmp = [str_mapping[x] for x in line]\n",
    "        str_board.append(tmp)\n",
    "    return str_board\n",
    "\n",
    "def print_str_board(str_board):\n",
    "    tmp = \"\"\n",
    "    for line in str_board:\n",
    "        tmp += \"\".join(line)+\"\\n\"\n",
    "\n",
    "    print(tmp)\n",
    "    \n",
    "def add_symbol(index,direction_index,s_board):\n",
    "    global d_symbols\n",
    "    if s_board[index[0]][index[1]] != \" \":\n",
    "        s_board[index[0]][index[1]] = d_symbols[direction_index]\n",
    "    # for debug\n",
    "    s_board[index[0]][index[1]] = d_symbols[direction_index]\n",
    "\n",
    "    return s_board\n"
   ]
  },
  {
   "cell_type": "code",
   "execution_count": 11,
   "id": "0c27e3dd-caab-42ab-8512-8b5d8942482c",
   "metadata": {},
   "outputs": [
    {
     "name": "stdout",
     "output_type": "stream",
     "text": [
      "{(1, 0): (2, 0), (1, 1): (3, 1), (1, 2): (4, 0), (1, 3): (6, 0), (2, 0): (5, 2), (2, 1): (3, 2), (2, 2): (1, 2), (2, 3): (6, 3), (3, 0): (2, 3), (3, 1): (5, 1), (3, 2): (4, 1), (3, 3): (1, 3), (4, 0): (5, 0), (4, 1): (6, 1), (4, 2): (1, 0), (4, 3): (3, 0), (5, 0): (2, 2), (5, 1): (6, 2), (5, 2): (4, 2), (5, 3): (3, 3), (6, 0): (5, 3), (6, 1): (2, 1), (6, 2): (1, 1), (6, 3): (4, 3)}\n",
      "[[0 1 2]\n",
      " [0 3 0]\n",
      " [4 5 0]\n",
      " [6 0 0]]\n",
      "[[0 1 2]\n",
      " [0 3 0]\n",
      " [4 5 0]\n",
      " [6 0 0]]\n"
     ]
    }
   ],
   "source": [
    "# Warpings:\n",
    "side_length = 4 if example else 50\n",
    "example_sides = \"\"\"\n",
    "0010\n",
    "2340\n",
    "0056\n",
    "\"\"\"\n",
    "real = \"\"\"\n",
    "011\n",
    "010\n",
    "110\n",
    "100\n",
    "\"\"\"\n",
    "real = \"\"\"\n",
    "012\n",
    "030\n",
    "450\n",
    "600\n",
    "\"\"\"\n",
    "# warps go from just past the side to the next side\n",
    "# they will re-orient the cursor\n",
    "# this thus is for leaving a side going 1 direction, and the direction you go on the next one\n",
    "real_warps = {\n",
    "    (1,\"R\"):(2,\"R\"),\n",
    "    (1,\"D\"):(3,\"D\"),\n",
    "    (1,\"L\"):(4,\"R\"),\n",
    "    (1,\"U\"):(6,\"R\"),\n",
    "    \n",
    "    (2,\"R\"):(5,\"L\"),\n",
    "    (2,\"D\"):(3,\"L\"),\n",
    "    (2,\"L\"):(1,\"L\"),\n",
    "    (2,\"U\"):(6,\"U\"),\n",
    "    \n",
    "    (3,\"R\"):(2,\"U\"),\n",
    "    (3,\"D\"):(5,\"D\"),\n",
    "    (3,\"L\"):(4,\"D\"),\n",
    "    (3,\"U\"):(1,\"U\"),\n",
    "    \n",
    "    (4,\"R\"):(5,\"R\"),\n",
    "    (4,\"D\"):(6,\"D\"),\n",
    "    (4,\"L\"):(1,\"R\"),\n",
    "    (4,\"U\"):(3,\"R\"),\n",
    "                       \n",
    "    (5,\"R\"):(2,\"L\"),\n",
    "    (5,\"D\"):(6,\"L\"),\n",
    "    (5,\"L\"):(4,\"L\"),\n",
    "    (5,\"U\"):(3,\"U\"),\n",
    "                  \n",
    "    (6,\"R\"):(5,\"U\"),\n",
    "    (6,\"D\"):(2,\"D\"),\n",
    "    (6,\"L\"):(1,\"D\"),\n",
    "    (6,\"U\"):(4,\"U\")\n",
    "}\n",
    "d_to_index = {\"R\":0,\"D\":1,\"L\":2,\"U\":3}\n",
    "index_to_d = {0:\"R\",1:\"D\",2:\"L\",3:\"U\"}\n",
    "swap_d = {\"R\":\"L\",\"L\":\"R\",\"U\":\"D\",\"D\":\"U\"}\n",
    "# crossings are reflexive, so check there are no errors\n",
    "for k,v in real_warps.items():\n",
    "    ik,iv = (k[0],swap_d[k[1]]),(v[0],swap_d[v[1]])\n",
    "    if  ik != real_warps[iv]:\n",
    "        print(\"error on\",k,v)\n",
    "\n",
    "# now that we're done with that, we actually do want number directions\n",
    "warps = {}\n",
    "for k,v in real_warps.items():\n",
    "    nk,nv = (k[0],d_to_index[k[1]]),(v[0],d_to_index[v[1]])\n",
    "    warps[nk] = nv\n",
    "print(warps)\n",
    "tmp_real = []\n",
    "for row in real.strip().split(\"\\n\"):\n",
    "    tmp_real.append([int(x) for x in row])\n",
    "real = np.array(tmp_real)\n",
    "print(real)\n",
    "\n",
    "side_map = None if example else real\n",
    "\n",
    "print(side_map)\n",
    "\n",
    "\n",
    "directions = [(0,1),(1,0),(0,-1),(-1,0)]\n",
    "directions = [np.array(x) for x in directions]\n",
    "\n",
    "inverted = {(\"D\",\"U\"),(\"U\",\"D\"),(\"R\",\"L\"),(\"L\",\"R\"),(\"R\",\"D\"),(\"U\",\"L\"),(\"D\",\"R\"),(\"L\",\"U\")}\n",
    "#starts    = [(y,0),(0,x),(y,side_length-1),(side_length-1,x)]\n",
    "\"\"\"\n",
    "will return index 1 into the new side\n",
    "\"\"\"\n",
    "def convert_index(index,old_direction,new_direction):\n",
    "    global invered\n",
    "    global side_length\n",
    "    interesting_val = index[0] if old_direction % 2 == 0 else index[1]\n",
    "    if (index_to_d[old_direction],index_to_d[new_direction]) in inverted:\n",
    "        interesting_val = side_length-1 - interesting_val\n",
    "        \n",
    "    interesting_val %= side_length\n",
    "\n",
    "    #interesting_val *= -1 if old_direction // 2 else 1\n",
    "    if new_direction == 0:\n",
    "        return interesting_val,0\n",
    "    elif new_direction == 1:\n",
    "        return 0,interesting_val\n",
    "    elif new_direction == 2:\n",
    "        return interesting_val,side_length-1\n",
    "    elif new_direction == 3:\n",
    "        return side_length-1,interesting_val\n",
    "    \n",
    "    # flips of \"interesting_val\":\n",
    "    # 2->5 right to left\n",
    "    # 1->4 left to right\n",
    "    # example:\n",
    "    # 4->6 right to down\n",
    "    # 2->6 left to up\n",
    "    # 6->2 down to right\n",
    "    # 5->2 down to up \n",
    "#convert_index("
   ]
  },
  {
   "cell_type": "code",
   "execution_count": 12,
   "id": "46d27508-459a-4907-8f7c-8f83b9dda133",
   "metadata": {},
   "outputs": [
    {
     "name": "stdout",
     "output_type": "stream",
     "text": [
      "index to square (1, (0, 1))\n",
      "square_to_index (0, 100)\n"
     ]
    }
   ],
   "source": [
    "def index_to_square(sq_size,side_map,index):\n",
    "    y = index[0] // sq_size\n",
    "    x = index[1] // sq_size\n",
    "    return side_map[y,x],(y,x)\n",
    "\n",
    "def square_to_index(sq_size,side_map,square):\n",
    "    tmp = np.where(side_map == square)\n",
    "    return (tmp[0][0]*sq_size,tmp[1][0]*sq_size)\n",
    "\n",
    "print(\"index to square\",index_to_square(side_length,side_map,(0,50)))\n",
    "print(\"square_to_index\",square_to_index(side_length,side_map,2))"
   ]
  },
  {
   "cell_type": "code",
   "execution_count": 13,
   "id": "323e4f6d-3ef5-465f-936a-fd51ebd9a886",
   "metadata": {},
   "outputs": [],
   "source": [
    "class Moves():\n",
    "    moves = \"\"\n",
    "    spot = 0\n",
    "    def __init__(self,move_line):\n",
    "        self.moves = re.findall(r\"(\\d+)([RL])\",move_line)\n",
    "        end = re.search(r\"(\\d+)$\",move_line)\n",
    "        end = end.groups()[0]\n",
    "        self.moves.append((end,\"\"))\n",
    "        #print(move_line)\n",
    "    def get_next(self):\n",
    "        tmp_move,tmp_dir = self.moves[self.spot]\n",
    "        self.spot += 1\n",
    "        return int(tmp_move),tmp_dir\n",
    "    def __repr__(self):\n",
    "        return str(self.moves)+\",\"+str(self.spot)"
   ]
  },
  {
   "cell_type": "code",
   "execution_count": 14,
   "id": "f50226da-b8fb-4ce9-9318-33ab135f8630",
   "metadata": {},
   "outputs": [
    {
     "name": "stdout",
     "output_type": "stream",
     "text": [
      "final_move is (14, '')\n"
     ]
    }
   ],
   "source": [
    "\n",
    "str_board = get_str_board(board)\n",
    "moves = Moves(moves_raw)\n",
    "next_move = moves.get_next()\n",
    "directions = [(0,1),(1,0),(0,-1),(-1,0)]\n",
    "directions = [np.array(x) for x in directions]\n",
    "d_symbols  = [\">\",  \"v\",  \"<\",   \"^\"]\n",
    "d_direction_index = {\"R\":1,\"L\":-1}\n",
    "direction_index = 0\n",
    "index = np.array([0,np.where(board[0,:] == 1)[0][0]])\n",
    "draw_picture = True\n",
    "debug = False\n",
    "part2 = True\n",
    "if debug:\n",
    "    print(\"state is\",index,direction_index)\n",
    "    print(\"doing move\",next_move)\n",
    "    print_str_board(str_board)\n",
    "    \n",
    "    \n",
    "debug_sus = []\n",
    "    \n",
    "# while next_move[1] != \"\":\n",
    "while True:\n",
    "    for i in range(next_move[0]):\n",
    "        next_index = index + directions[direction_index]\n",
    "        next_index = (next_index[0]%board.shape[0],next_index[1]%board.shape[1])\n",
    "\n",
    "        # skip any empty spaces found\n",
    "        while board[tuple(next_index)] == 0:\n",
    "            if part2:\n",
    "                if debug:\n",
    "                    str_board = add_symbol(next_index,direction_index,str_board)\n",
    "\n",
    "                # find where along the edge we are now\n",
    "                y,x = index[0]%side_length,index[1]%side_length\n",
    "                if debug:\n",
    "                    print(\"location on side\",y,x)\n",
    "                \n",
    "                # find what side we're on\n",
    "                current_side,_ = index_to_square(side_length,side_map,index)\n",
    "                if debug:\n",
    "                    print(\"current_side\",current_side)\n",
    "                \n",
    "                # find which new side we'll be on\n",
    "                new_side,new_direction = warps[(current_side,direction_index)]\n",
    "                \n",
    "                # find where along the new side we'll be on\n",
    "                loc_in_new_side = convert_index(index,direction_index,new_direction)\n",
    "\n",
    "                # find the corrdinate \n",
    "                start_coord = square_to_index(side_length,side_map,new_side)\n",
    "                new_coord = np.array(start_coord) + np.array(loc_in_new_side)\n",
    "                #print(start_coord)\n",
    "                #print(loc_in_new_side)\n",
    "                #print(new_coord)\n",
    "                if board[tuple(new_coord)] == 1:\n",
    "                    if debug:\n",
    "                        print(\"moved from\",current_side,\" to \",new_side)\n",
    "                        print(\"at\",index,\"->\",new_coord)\n",
    "                    direction_index = new_direction\n",
    "                    next_index = new_coord\n",
    "                elif board[tuple(new_coord)] == 2:\n",
    "                    break\n",
    "                else:\n",
    "                    print(\"we broke something\")\n",
    "                    print(index)\n",
    "                    print(new_coord)\n",
    "                    print(\"should have been side\",new_side)\n",
    "                    print(\"was on\",current_side)\n",
    "                if debug:\n",
    "                    tmp = next_index-directions[direction_index]\n",
    "                    if tmp[0] < board.shape[0] and tmp[1] < board.shape[1]:\n",
    "                        str_board = add_symbol(tmp,direction_index,str_board)\n",
    "\n",
    "                    str_board = add_symbol(next_index,direction_index,str_board)\n",
    "\n",
    "            else:\n",
    "                if draw_picture:\n",
    "                    str_board = add_symbol(next_index,direction_index,str_board)\n",
    "                next_index += directions[direction_index]\n",
    "                next_index = (next_index[0]%board.shape[0],next_index[1]%board.shape[1])\n",
    "            \n",
    "        if board[tuple(next_index)] == 1:\n",
    "            index = next_index\n",
    "            if draw_picture:\n",
    "                str_board = add_symbol(next_index,direction_index,str_board)\n",
    "    \n",
    "    if next_move[1] == \"\":\n",
    "        break\n",
    "    direction_index += d_direction_index[next_move[1]]\n",
    "    direction_index %= 4\n",
    "    if draw_picture:\n",
    "        str_board = add_symbol(index,direction_index,str_board)\n",
    " \n",
    "        # if 2, it doesn't move\n",
    "    if debuh:\n",
    "        print(\"### index\",moves.spot,next_move)\n",
    "        print(\"state is\",index,direction_index)\n",
    "        #print(\"doing move\",next_move)\n",
    "        #print_str_board(str_board)\n",
    "    \n",
    "    next_move = moves.get_next()\n",
    "print(\"final_move is\",next_move)\n"
   ]
  },
  {
   "cell_type": "code",
   "execution_count": 15,
   "id": "d13de50c-7066-40a8-a1f9-731d16f33eb9",
   "metadata": {},
   "outputs": [
    {
     "name": "stdout",
     "output_type": "stream",
     "text": [
      "1.0\n"
     ]
    }
   ],
   "source": [
    "#print(np.where(board[:,0] != 1)[0])\n",
    "#print(board[:,2])\n",
    "print(board[(119,84)])"
   ]
  },
  {
   "cell_type": "code",
   "execution_count": 16,
   "id": "fece8488-d517-4d3c-86da-38c18856ca25",
   "metadata": {},
   "outputs": [
    {
     "name": "stdout",
     "output_type": "stream",
     "text": [
      "(114, 76)\n"
     ]
    }
   ],
   "source": [
    "print(index)"
   ]
  },
  {
   "cell_type": "code",
   "execution_count": 17,
   "id": "c49259ba-5a5d-4bcd-a169-4e91ae1f4fdc",
   "metadata": {},
   "outputs": [
    {
     "name": "stdout",
     "output_type": "stream",
     "text": [
      "(200, 150)\n",
      "115311\n"
     ]
    }
   ],
   "source": [
    "print(board.shape)\n",
    "print(1000 * (1+index[0]) + 4 * (1+index[1]) + direction_index)\n",
    "# guessed 28404, too low\n",
    "# swine 1 indexing in the example. it was actually 29408\n",
    "# part 2, guessed 87332, too low"
   ]
  },
  {
   "cell_type": "code",
   "execution_count": null,
   "id": "393591b3-8aa9-4e5f-bd30-b46204bcd01e",
   "metadata": {},
   "outputs": [],
   "source": [
    "print_str_board(str_board)\n"
   ]
  },
  {
   "cell_type": "code",
   "execution_count": null,
   "id": "835c7797-78b8-4480-984c-0c73c607ca81",
   "metadata": {},
   "outputs": [],
   "source": []
  },
  {
   "cell_type": "code",
   "execution_count": null,
   "id": "3051f50e-8247-4d15-b32f-1391bae63e85",
   "metadata": {},
   "outputs": [],
   "source": []
  },
  {
   "cell_type": "code",
   "execution_count": null,
   "id": "884f9159-67ce-4291-b1f8-60c10acda3d5",
   "metadata": {},
   "outputs": [],
   "source": []
  }
 ],
 "metadata": {
  "kernelspec": {
   "display_name": "Python 3 (ipykernel)",
   "language": "python",
   "name": "python3"
  },
  "language_info": {
   "codemirror_mode": {
    "name": "ipython",
    "version": 3
   },
   "file_extension": ".py",
   "mimetype": "text/x-python",
   "name": "python",
   "nbconvert_exporter": "python",
   "pygments_lexer": "ipython3",
   "version": "3.9.13"
  }
 },
 "nbformat": 4,
 "nbformat_minor": 5
}
