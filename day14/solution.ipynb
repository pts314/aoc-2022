{
 "cells": [
  {
   "cell_type": "code",
   "execution_count": 331,
   "id": "731e01f2-f9f9-4bc1-9011-398fb073aca5",
   "metadata": {},
   "outputs": [],
   "source": [
    "import re\n",
    "import numpy as np\n",
    "import math\n",
    "from matplotlib import pyplot as plt\n",
    "import timeit\n",
    "import time\n"
   ]
  },
  {
   "cell_type": "code",
   "execution_count": null,
   "id": "3cafde9d-a9fe-49ee-b659-cf1559381f11",
   "metadata": {},
   "outputs": [],
   "source": []
  },
  {
   "cell_type": "code",
   "execution_count": 332,
   "id": "266e0848-ca2c-4049-bef6-551100c4efde",
   "metadata": {},
   "outputs": [],
   "source": [
    "with open(\"example.txt\") as f:\n",
    "    data = f.read()\n",
    "    lines = data.strip().split(\"\\n\")"
   ]
  },
  {
   "cell_type": "code",
   "execution_count": 333,
   "id": "5b56b8d6-41e2-41f3-b509-307c41bad83f",
   "metadata": {},
   "outputs": [],
   "source": [
    "with open(\"input.txt\") as f:\n",
    "    data = f.read()\n",
    "    lines = data.strip().split(\"\\n\")"
   ]
  },
  {
   "cell_type": "code",
   "execution_count": 334,
   "id": "a8822b7d-f2a4-4a54-b8f1-5d6f777f0f95",
   "metadata": {},
   "outputs": [],
   "source": [
    "#board = np.array([list(x) for x in lines])\n",
    "#plt.matshow(screen)"
   ]
  },
  {
   "cell_type": "code",
   "execution_count": 335,
   "id": "2d12a54f-eb68-4e3b-9d7a-60d47e4e039d",
   "metadata": {},
   "outputs": [],
   "source": [
    "mx = 0\n",
    "my = 0\n",
    "stones = []\n",
    "for line in lines:\n",
    "    stone = []\n",
    "    points = [(int(x[0]),int(x[1])) for x in re.findall(r\"(\\d+),(\\d+)\",line)]\n",
    "    #print(line)\n",
    "    for point in points:\n",
    "        mx = max(mx,point[0])\n",
    "        my = max(my,point[1])\n",
    "        stone.append(point)\n",
    "    #print(mx,my)\n",
    "    stones.append(stone)"
   ]
  },
  {
   "cell_type": "code",
   "execution_count": null,
   "id": "903f4bdd-f638-4902-bf24-bf9c327c9b95",
   "metadata": {},
   "outputs": [],
   "source": []
  },
  {
   "cell_type": "code",
   "execution_count": 336,
   "id": "629bffdf-2f98-4344-a1a1-b70c8e08eaec",
   "metadata": {},
   "outputs": [
    {
     "name": "stdout",
     "output_type": "stream",
     "text": [
      "536 178\n"
     ]
    }
   ],
   "source": [
    "print(mx,my)"
   ]
  },
  {
   "cell_type": "code",
   "execution_count": 342,
   "id": "b66ec99d-4bd4-4e4d-885b-5f36899b6928",
   "metadata": {},
   "outputs": [],
   "source": [
    "part2 = True\n",
    "if part2:\n",
    "    my += 2\n",
    "board = np.zeros((mx+301,my+1))\n",
    "for stone in stones:\n",
    "    #print(stone)\n",
    "    for i in range(len(stone)-1):\n",
    "        first = stone[i]\n",
    "        second = stone[i+1]\n",
    "        #print(first,second)\n",
    "        #print(min(first[0],second[0]),max(first[0],second[0])+1,min(first[1],second[1]),max(first[1],second[1])+1)\n",
    "\n",
    "        board[min(first[0],second[0]):max(first[0],second[0])+1,min(first[1],second[1]):max(first[1],second[1])+1] = 1\n",
    "\n",
    "if part2:\n",
    "    board[:,-1] = 1"
   ]
  },
  {
   "cell_type": "code",
   "execution_count": 338,
   "id": "5a9fd7fa-f597-40e0-8b03-a2dd9b2ef7cf",
   "metadata": {},
   "outputs": [],
   "source": [
    "#board[498:499,4:6] = 1"
   ]
  },
  {
   "cell_type": "code",
   "execution_count": 339,
   "id": "3b4bcbdb-1873-430e-ab38-f069b40bec68",
   "metadata": {},
   "outputs": [],
   "source": [
    "def isIn(board,point):\n",
    "    return (point[0] < board.shape[0] and point[1] < board.shape[1])\n",
    "\n",
    "def dropSand(board):\n",
    "    point = (500,0)\n",
    "    stable = False\n",
    "    if board[point] == 2:\n",
    "        print(\"full\")\n",
    "        return False\n",
    "    while not stable:\n",
    "        below = (point[0],point[1]+1)\n",
    "        left = (below[0]-1,below[1])\n",
    "        right = (below[0]+1,below[1])\n",
    "        if not isIn(board,below):\n",
    "            print(\"fell down\")\n",
    "            break\n",
    "        if board[below] == 0:\n",
    "            point = below\n",
    "        #elif board[below] == 1:\n",
    "        #    board[point] = 2\n",
    "        #    stable = True\n",
    "        #elif board[below] == 2:\n",
    "        else:\n",
    "            if not isIn(board,left):\n",
    "                print(\"passed left\")\n",
    "                break\n",
    "            elif board[left] == 0:\n",
    "                point = left\n",
    "            elif not isIn(board,right):\n",
    "                print(\"passed right\")\n",
    "                break\n",
    "            elif board[right] == 0:\n",
    "                point = right\n",
    "            else:\n",
    "                board[point] = 2\n",
    "                stable = True\n",
    "    return stable"
   ]
  },
  {
   "cell_type": "code",
   "execution_count": 340,
   "id": "19063427-a410-4d60-88d1-03007ed37047",
   "metadata": {},
   "outputs": [
    {
     "name": "stdout",
     "output_type": "stream",
     "text": [
      "full\n",
      "finished in 4.4746 seconds\n"
     ]
    }
   ],
   "source": [
    "tic = time.perf_counter()\n",
    "\n",
    "\n",
    "i = 0\n",
    "while dropSand(board) and i < 100000:\n",
    "    i += 1\n",
    "    #print(board[490:,:].T)\n",
    "    \n",
    "toc = time.perf_counter()\n",
    "print(f\"finished in {toc - tic:0.4f} seconds\")\n"
   ]
  },
  {
   "cell_type": "code",
   "execution_count": 279,
   "id": "d4b69b45-8825-4e93-81f6-1de37135de97",
   "metadata": {},
   "outputs": [
    {
     "data": {
      "text/plain": [
       "30762"
      ]
     },
     "execution_count": 279,
     "metadata": {},
     "output_type": "execute_result"
    }
   ],
   "source": [
    "sum(sum(board == 2))"
   ]
  },
  {
   "cell_type": "code",
   "execution_count": 280,
   "id": "a64d62c3-5a6f-4766-8bf5-fccea9aab1d2",
   "metadata": {},
   "outputs": [
    {
     "data": {
      "text/plain": [
       "(837, 181)"
      ]
     },
     "execution_count": 280,
     "metadata": {},
     "output_type": "execute_result"
    }
   ],
   "source": [
    "board.shape"
   ]
  },
  {
   "cell_type": "code",
   "execution_count": 281,
   "id": "7339ed3f-3974-434e-a0c6-7b271a4ae410",
   "metadata": {},
   "outputs": [
    {
     "name": "stdout",
     "output_type": "stream",
     "text": [
      "30762\n"
     ]
    }
   ],
   "source": [
    "print(i)"
   ]
  },
  {
   "cell_type": "code",
   "execution_count": 282,
   "id": "c7ef7627-66d6-4698-b3cb-75636864b203",
   "metadata": {},
   "outputs": [
    {
     "data": {
      "text/plain": [
       "32118"
      ]
     },
     "execution_count": 282,
     "metadata": {},
     "output_type": "execute_result"
    }
   ],
   "source": [
    "32118"
   ]
  },
  {
   "cell_type": "code",
   "execution_count": 322,
   "id": "f4e42780-9b2a-43f7-a9fe-9aff0567636d",
   "metadata": {},
   "outputs": [
    {
     "data": {
      "text/plain": [
       "<matplotlib.image.AxesImage at 0x2a3d1bc04c0>"
      ]
     },
     "execution_count": 322,
     "metadata": {},
     "output_type": "execute_result"
    },
    {
     "data": {
      "image/png": "[encoded data removed]",
      "text/plain": [
       "<Figure size 400x1206.67 with 1 Axes>"
      ]
     },
     "metadata": {},
     "output_type": "display_data"
    }
   ],
   "source": [
    "plt.matshow(board[470:530,:].T)"
   ]
  },
  {
   "cell_type": "code",
   "execution_count": 343,
   "id": "fec8d492-0cd7-478b-b534-d406baebde26",
   "metadata": {},
   "outputs": [],
   "source": [
    "def isIn(board,point):\n",
    "    return (point[0] < board.shape[0] and point[1] < board.shape[1])\n",
    "\n",
    "# this version works better than the one above because it can remember it's state and backtrack instead of repeating the sand falling each time\n",
    "def dropSand(board,point=(500,0)):\n",
    "    #canPlace = False\n",
    "    if not isIn(board,point):\n",
    "        return False\n",
    "    if board[point] == 1:\n",
    "        return True\n",
    "    if board[point] == 2:\n",
    "        #print(\"full\")\n",
    "        return True\n",
    "    below = (point[0],point[1]+1)\n",
    "    left = (below[0]-1,below[1])\n",
    "    right = (below[0]+1,below[1])\n",
    "    canPlace = dropSand(board,below)\n",
    "    canPlace &= dropSand(board,left)\n",
    "    canPlace &= dropSand(board,right)\n",
    "    if canPlace:\n",
    "        board[point] = 2\n",
    "        return True\n",
    "    else:\n",
    "        return False"
   ]
  },
  {
   "cell_type": "code",
   "execution_count": 321,
   "id": "4bbecc1b-89ef-4c6e-a85a-76e0229573f5",
   "metadata": {},
   "outputs": [
    {
     "data": {
      "text/plain": [
       "True"
      ]
     },
     "execution_count": 321,
     "metadata": {},
     "output_type": "execute_result"
    }
   ],
   "source": [
    "dropSand(board)"
   ]
  },
  {
   "cell_type": "code",
   "execution_count": 329,
   "id": "dfc41ca8-196c-4c56-b72b-83203b0cc914",
   "metadata": {},
   "outputs": [
    {
     "ename": "SyntaxError",
     "evalue": "invalid syntax (3597169892.py, line 1)",
     "output_type": "error",
     "traceback": [
      "\u001b[1;36m  File \u001b[1;32m\"C:\\Users\\Peter\\AppData\\Local\\Temp\\ipykernel_18212\\3597169892.py\"\u001b[1;36m, line \u001b[1;32m1\u001b[0m\n\u001b[1;33m    timeit.timeit(pass,numper=1)\u001b[0m\n\u001b[1;37m                  ^\u001b[0m\n\u001b[1;31mSyntaxError\u001b[0m\u001b[1;31m:\u001b[0m invalid syntax\n"
     ]
    }
   ],
   "source": [
    "timeit.timeit(pass,numper=1)"
   ]
  },
  {
   "cell_type": "code",
   "execution_count": 344,
   "id": "c3be0ff1-5f8a-4c71-91d3-d833c1225049",
   "metadata": {},
   "outputs": [
    {
     "name": "stdout",
     "output_type": "stream",
     "text": [
      "finished in 0.0926 seconds\n"
     ]
    }
   ],
   "source": [
    "tic = time.perf_counter()\n",
    "\n",
    "\n",
    "i = 0\n",
    "dropSand(board)\n",
    "    \n",
    "toc = time.perf_counter()\n",
    "print(f\"finished in {toc - tic:0.4f} seconds\")\n"
   ]
  },
  {
   "cell_type": "code",
   "execution_count": null,
   "id": "58998f2d-f177-4425-94ac-eab06b8d2768",
   "metadata": {},
   "outputs": [],
   "source": []
  }
 ],
 "metadata": {
  "kernelspec": {
   "display_name": "Python 3 (ipykernel)",
   "language": "python",
   "name": "python3"
  },
  "language_info": {
   "codemirror_mode": {
    "name": "ipython",
    "version": 3
   },
   "file_extension": ".py",
   "mimetype": "text/x-python",
   "name": "python",
   "nbconvert_exporter": "python",
   "pygments_lexer": "ipython3",
   "version": "3.9.13"
  }
 },
 "nbformat": 4,
 "nbformat_minor": 5
}
