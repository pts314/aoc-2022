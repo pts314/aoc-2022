{
 "cells": [
  {
   "cell_type": "code",
   "execution_count": 1,
   "id": "731e01f2-f9f9-4bc1-9011-398fb073aca5",
   "metadata": {},
   "outputs": [],
   "source": [
    "import re\n",
    "import numpy as np\n",
    "import math\n",
    "from matplotlib import pyplot as plt"
   ]
  },
  {
   "cell_type": "code",
   "execution_count": 2,
   "id": "266e0848-ca2c-4049-bef6-551100c4efde",
   "metadata": {},
   "outputs": [],
   "source": [
    "with open(\"example.txt\") as f:\n",
    "    data = f.read()\n",
    "    lines = data.strip().split(\"\\n\")\n",
    "    records = data.strip().split(\"\\n\\n\")"
   ]
  },
  {
   "cell_type": "code",
   "execution_count": 17,
   "id": "5b56b8d6-41e2-41f3-b509-307c41bad83f",
   "metadata": {},
   "outputs": [],
   "source": [
    "with open(\"input.txt\") as f:\n",
    "    data = f.read()\n",
    "    lines = data.strip().split(\"\\n\")   \n",
    "    records = data.strip().split(\"\\n\\n\")"
   ]
  },
  {
   "cell_type": "code",
   "execution_count": 18,
   "id": "a8822b7d-f2a4-4a54-b8f1-5d6f777f0f95",
   "metadata": {},
   "outputs": [],
   "source": [
    "#board = np.array([list(x) for x in lines])\n",
    "#plt.matshow(screen)"
   ]
  },
  {
   "cell_type": "code",
   "execution_count": 19,
   "id": "2d12a54f-eb68-4e3b-9d7a-60d47e4e039d",
   "metadata": {},
   "outputs": [],
   "source": [
    "#print(lines)\n"
   ]
  },
  {
   "cell_type": "code",
   "execution_count": 31,
   "id": "903f4bdd-f638-4902-bf24-bf9c327c9b95",
   "metadata": {},
   "outputs": [],
   "source": [
    "consts = {}\n",
    "ops = {}\n",
    "for line in lines:\n",
    "    parts = line.split()\n",
    "    if len(parts) == 2:\n",
    "        name = parts[0][:-1]\n",
    "        consts[name] = int(parts[1])\n",
    "    elif len(parts) == 4:\n",
    "        name = parts[0][:-1]\n",
    "        tmp = {}\n",
    "        tmp[\"first\"] = parts[1]\n",
    "        tmp[\"second\"] = parts[3]\n",
    "        tmp[\"op\"] = parts[2]\n",
    "        ops[name] = tmp\n",
    "    else:\n",
    "        print(\"exception on\",line)"
   ]
  },
  {
   "cell_type": "code",
   "execution_count": 32,
   "id": "629bffdf-2f98-4344-a1a1-b70c8e08eaec",
   "metadata": {},
   "outputs": [],
   "source": [
    "#print(consts)"
   ]
  },
  {
   "cell_type": "code",
   "execution_count": 33,
   "id": "b66ec99d-4bd4-4e4d-885b-5f36899b6928",
   "metadata": {},
   "outputs": [],
   "source": [
    "#print(ops)"
   ]
  },
  {
   "cell_type": "code",
   "execution_count": 34,
   "id": "5a9fd7fa-f597-40e0-8b03-a2dd9b2ef7cf",
   "metadata": {},
   "outputs": [
    {
     "name": "stdout",
     "output_type": "stream",
     "text": [
      "{'first': 'rcsj', 'second': 'zfsf', 'op': '+'}\n",
      "110431559233905.0 49160133593649.0\n"
     ]
    }
   ],
   "source": [
    "while len(ops) > 0:\n",
    "    for name,op in ops.items():\n",
    "        if op[\"first\"] in consts and op[\"second\"] in consts:\n",
    "            if name == \"root\":\n",
    "                print(op)\n",
    "                print(consts[op[\"first\"]],consts[op[\"second\"]])\n",
    "            consts[name] = eval(f'{consts[op[\"first\"]]} {op[\"op\"]} {consts[op[\"second\"]]}')\n",
    "    \n",
    "    for name in consts:\n",
    "        if name in ops:\n",
    "            del ops[name]"
   ]
  },
  {
   "cell_type": "code",
   "execution_count": 24,
   "id": "bf8a7c91-df29-4ce2-9ff3-e27cab25dba5",
   "metadata": {},
   "outputs": [
    {
     "name": "stdout",
     "output_type": "stream",
     "text": [
      "159591692827554.0\n"
     ]
    }
   ],
   "source": [
    "print(consts[\"root\"])"
   ]
  },
  {
   "cell_type": "code",
   "execution_count": null,
   "id": "98a8a3ad-11f0-416b-9079-c5afbf16df4d",
   "metadata": {},
   "outputs": [],
   "source": []
  },
  {
   "cell_type": "code",
   "execution_count": null,
   "id": "25dd6bb0-b0da-4542-9789-2bd176377e87",
   "metadata": {},
   "outputs": [],
   "source": []
  },
  {
   "cell_type": "code",
   "execution_count": 58,
   "id": "f92ca080-bfdb-4bc7-9172-3d9bd6cfa6c6",
   "metadata": {},
   "outputs": [
    {
     "name": "stdout",
     "output_type": "stream",
     "text": [
      "11793503073191.18\n",
      "i is  7001435651411\n",
      "-11793503073191.18 49160133593649.0\n",
      "difference is -60953636666840.18\n",
      "13.784999621967936\n",
      "0.0\n",
      "i is  7001435651411\n",
      "-11793503073191.18 49160133593649.0\n",
      "difference is -60953636666840.18\n",
      "13.784999621967936\n",
      "0.0\n",
      "i is  7001435651411\n",
      "-11793503073191.18 49160133593649.0\n",
      "difference is -60953636666840.18\n",
      "13.784999621967936\n",
      "0.0\n",
      "i is  7001435651411\n",
      "-11793503073191.18 49160133593649.0\n",
      "difference is -60953636666840.18\n",
      "13.784999621967936\n",
      "0.0\n",
      "i is  7001435651411\n",
      "-11793503073191.18 49160133593649.0\n",
      "difference is -60953636666840.18\n",
      "13.784999621967936\n",
      "0.0\n",
      "i is  7001435651411\n",
      "-11793503073191.18 49160133593649.0\n",
      "difference is -60953636666840.18\n",
      "13.784999621967936\n",
      "0.0\n",
      "i is  7001435651411\n",
      "-11793503073191.18 49160133593649.0\n",
      "difference is -60953636666840.18\n",
      "13.784999621967936\n",
      "0.0\n",
      "i is  7001435651411\n",
      "-11793503073191.18 49160133593649.0\n",
      "difference is -60953636666840.18\n",
      "13.784999621967936\n",
      "0.0\n",
      "i is  7001435651411\n",
      "-11793503073191.18 49160133593649.0\n",
      "difference is -60953636666840.18\n",
      "13.784999621967936\n",
      "0.0\n",
      "i is  7001435651411\n",
      "-11793503073191.18 49160133593649.0\n",
      "difference is -60953636666840.18\n",
      "13.784999621967936\n",
      "0.0\n",
      "i is  7001435651411\n",
      "-11793503073191.18 49160133593649.0\n",
      "difference is -60953636666840.18\n",
      "13.784999621967936\n",
      "0.0\n",
      "i is  7001435651411\n",
      "-11793503073191.18 49160133593649.0\n",
      "difference is -60953636666840.18\n",
      "13.784999621967936\n",
      "0.0\n",
      "i is  7001435651411\n",
      "-11793503073191.18 49160133593649.0\n",
      "difference is -60953636666840.18\n",
      "13.784999621967936\n",
      "0.0\n",
      "i is  7001435651411\n",
      "-11793503073191.18 49160133593649.0\n",
      "difference is -60953636666840.18\n",
      "13.784999621967936\n",
      "0.0\n",
      "i is  7001435651411\n",
      "-11793503073191.18 49160133593649.0\n",
      "difference is -60953636666840.18\n",
      "13.784999621967936\n",
      "0.0\n",
      "i is  7001435651411\n",
      "-11793503073191.18 49160133593649.0\n",
      "difference is -60953636666840.18\n",
      "13.784999621967936\n",
      "0.0\n",
      "i is  7001435651411\n",
      "-11793503073191.18 49160133593649.0\n",
      "difference is -60953636666840.18\n",
      "13.784999621967936\n",
      "0.0\n",
      "i is  7001435651411\n",
      "-11793503073191.18 49160133593649.0\n",
      "difference is -60953636666840.18\n",
      "13.784999621967936\n",
      "0.0\n",
      "i is  7001435651411\n",
      "-11793503073191.18 49160133593649.0\n",
      "difference is -60953636666840.18\n",
      "13.784999621967936\n",
      "0.0\n",
      "i is  7001435651411\n",
      "-11793503073191.18 49160133593649.0\n",
      "difference is -60953636666840.18\n",
      "13.784999621967936\n",
      "0.0\n",
      "i is  7001435651411\n",
      "-11793503073191.18 49160133593649.0\n",
      "difference is -60953636666840.18\n",
      "13.784999621967936\n",
      "0.0\n",
      "i is  7001435651411\n",
      "-11793503073191.18 49160133593649.0\n",
      "difference is -60953636666840.18\n",
      "13.784999621967936\n",
      "0.0\n",
      "i is  7001435651411\n",
      "-11793503073191.18 49160133593649.0\n",
      "difference is -60953636666840.18\n",
      "13.784999621967936\n",
      "0.0\n",
      "i is  7001435651411\n",
      "-11793503073191.18 49160133593649.0\n",
      "difference is -60953636666840.18\n",
      "13.784999621967936\n",
      "0.0\n",
      "i is  7001435651411\n",
      "-11793503073191.18 49160133593649.0\n",
      "difference is -60953636666840.18\n",
      "13.784999621967936\n",
      "0.0\n",
      "i is  7001435651411\n",
      "-11793503073191.18 49160133593649.0\n",
      "difference is -60953636666840.18\n",
      "13.784999621967936\n",
      "0.0\n",
      "i is  7001435651411\n",
      "-11793503073191.18 49160133593649.0\n",
      "difference is -60953636666840.18\n",
      "13.784999621967936\n",
      "0.0\n",
      "i is  7001435651411\n",
      "-11793503073191.18 49160133593649.0\n",
      "difference is -60953636666840.18\n",
      "13.784999621967936\n",
      "0.0\n",
      "i is  7001435651411\n",
      "-11793503073191.18 49160133593649.0\n",
      "difference is -60953636666840.18\n",
      "13.784999621967936\n",
      "0.0\n",
      "i is  7001435651411\n",
      "-11793503073191.18 49160133593649.0\n",
      "difference is -60953636666840.18\n",
      "13.784999621967936\n",
      "0.0\n",
      "i is  7001435651411\n",
      "-11793503073191.18 49160133593649.0\n",
      "difference is -60953636666840.18\n",
      "13.784999621967936\n",
      "0.0\n",
      "i is  7001435651411\n",
      "-11793503073191.18 49160133593649.0\n",
      "difference is -60953636666840.18\n",
      "13.784999621967936\n",
      "0.0\n",
      "i is  7001435651411\n",
      "-11793503073191.18 49160133593649.0\n",
      "difference is -60953636666840.18\n",
      "13.784999621967936\n",
      "0.0\n",
      "i is  7001435651411\n",
      "-11793503073191.18 49160133593649.0\n",
      "difference is -60953636666840.18\n",
      "13.784999621967936\n",
      "0.0\n",
      "i is  7001435651411\n",
      "-11793503073191.18 49160133593649.0\n",
      "difference is -60953636666840.18\n",
      "13.784999621967936\n",
      "0.0\n",
      "i is  7001435651411\n",
      "-11793503073191.18 49160133593649.0\n",
      "difference is -60953636666840.18\n",
      "13.784999621967936\n"
     ]
    },
    {
     "ename": "NameError",
     "evalue": "name 'min_diff' is not defined",
     "output_type": "error",
     "traceback": [
      "\u001b[1;31m---------------------------------------------------------------------------\u001b[0m",
      "\u001b[1;31mNameError\u001b[0m                                 Traceback (most recent call last)",
      "\u001b[1;32m~\\AppData\\Local\\Temp\\ipykernel_17024\\3094572352.py\u001b[0m in \u001b[0;36m<module>\u001b[1;34m\u001b[0m\n\u001b[0;32m     43\u001b[0m                 \u001b[1;32mdel\u001b[0m \u001b[0mops\u001b[0m\u001b[1;33m[\u001b[0m\u001b[0mname\u001b[0m\u001b[1;33m]\u001b[0m\u001b[1;33m\u001b[0m\u001b[1;33m\u001b[0m\u001b[0m\n\u001b[0;32m     44\u001b[0m \u001b[1;33m\u001b[0m\u001b[0m\n\u001b[1;32m---> 45\u001b[1;33m \u001b[0mprint\u001b[0m\u001b[1;33m(\u001b[0m\u001b[0mmin_diff\u001b[0m\u001b[1;33m)\u001b[0m\u001b[1;33m\u001b[0m\u001b[1;33m\u001b[0m\u001b[0m\n\u001b[0m\u001b[0;32m     46\u001b[0m \u001b[0mprint\u001b[0m\u001b[1;33m(\u001b[0m\u001b[0mmin_i\u001b[0m\u001b[1;33m)\u001b[0m\u001b[1;33m\u001b[0m\u001b[1;33m\u001b[0m\u001b[0m\n",
      "\u001b[1;31mNameError\u001b[0m: name 'min_diff' is not defined"
     ]
    }
   ],
   "source": [
    "dx = 0\n",
    "last_val = 0\n",
    "for a in range(0,3521435651411,100000000000):\n",
    "    #i = 3510627793299+a\n",
    "    #i = 3501435651411+a\n",
    "    consts = {}\n",
    "    ops = {}\n",
    "    for line in lines:\n",
    "        parts = line.split()\n",
    "        if len(parts) == 2:\n",
    "            name = parts[0][:-1]\n",
    "            consts[name] = int(parts[1])\n",
    "        elif len(parts) == 4:\n",
    "            name = parts[0][:-1]\n",
    "            tmp = {}\n",
    "            tmp[\"first\"] = parts[1]\n",
    "            tmp[\"second\"] = parts[3]\n",
    "            tmp[\"op\"] = parts[2]\n",
    "            ops[name] = tmp\n",
    "        else:\n",
    "            print(\"exception on\",line)\n",
    "\n",
    "    #print(consts[\"humn\"])\n",
    "    consts[\"humn\"] = i\n",
    "    while len(ops) > 0:\n",
    "        for name,op in ops.items():\n",
    "            if op[\"first\"] in consts and op[\"second\"] in consts:\n",
    "                if name == \"root\":\n",
    "                    dx = last_val - consts[op[\"first\"]]\n",
    "                    print(dx)\n",
    "                    last_val = consts[op[\"first\"]]\n",
    "                    if consts[op[\"first\"]] == consts[op[\"second\"]]:\n",
    "                        print(\"solution is \",i)\n",
    "                        print(op)\n",
    "                    print(\"i is \",i)\n",
    "                    print(consts[op[\"first\"]],consts[op[\"second\"]])\n",
    "                    print(\"difference is\",consts[op[\"first\"]]-consts[op[\"second\"]])\n",
    "                    print(math.log10(abs(consts[op[\"first\"]]-consts[op[\"second\"]])))\n",
    "                consts[name] = eval(f'{consts[op[\"first\"]]} {op[\"op\"]} {consts[op[\"second\"]]}')\n",
    "\n",
    "        for name in consts:\n",
    "            if name in ops:\n",
    "                del ops[name]\n",
    "                \n",
    "print(min_diff)\n",
    "print(min_i)\n",
    "print(min_log_diff)"
   ]
  },
  {
   "cell_type": "code",
   "execution_count": 41,
   "id": "de3d5402-6a83-4459-9f4f-142735eab8d2",
   "metadata": {},
   "outputs": [
    {
     "data": {
      "text/plain": [
       "17.453125"
      ]
     },
     "execution_count": 41,
     "metadata": {},
     "output_type": "execute_result"
    }
   ],
   "source": [
    "110431559296872.9 - 110431559296855.45"
   ]
  },
  {
   "cell_type": "code",
   "execution_count": 43,
   "id": "c2888fb0-558f-4ebd-aefc-5e045db4d386",
   "metadata": {},
   "outputs": [
    {
     "data": {
      "text/plain": [
       "3510627793299.751"
      ]
     },
     "execution_count": 43,
     "metadata": {},
     "output_type": "execute_result"
    }
   ],
   "source": [
    "(110431559298583.72 -  49160133593649.0)/17.453125"
   ]
  },
  {
   "cell_type": "code",
   "execution_count": 46,
   "id": "f196457e-2f5f-475a-b179-65ef1ac225ad",
   "metadata": {},
   "outputs": [
    {
     "data": {
      "text/plain": [
       "807858112.9438716"
      ]
     },
     "execution_count": 46,
     "metadata": {},
     "output_type": "execute_result"
    }
   ],
   "source": [
    "14105202652/17.46"
   ]
  },
  {
   "cell_type": "code",
   "execution_count": 47,
   "id": "5fd93fb6-8cb4-4f04-9203-ebd43e38df97",
   "metadata": {},
   "outputs": [
    {
     "data": {
      "text/plain": [
       "3511435651411"
      ]
     },
     "execution_count": 47,
     "metadata": {},
     "output_type": "execute_result"
    }
   ],
   "source": [
    "807858112+3510627793299"
   ]
  },
  {
   "cell_type": "code",
   "execution_count": 51,
   "id": "b0d04e66-079b-496a-8202-e0a313c1bb94",
   "metadata": {},
   "outputs": [
    {
     "data": {
      "text/plain": [
       "14102892916"
      ]
     },
     "execution_count": 51,
     "metadata": {},
     "output_type": "execute_result"
    }
   ],
   "source": [
    "28208095568-14105202652"
   ]
  },
  {
   "cell_type": "code",
   "execution_count": 144,
   "id": "1a6452e6-4690-4c73-997e-4d4c89b92b6d",
   "metadata": {},
   "outputs": [
    {
     "name": "stdout",
     "output_type": "stream",
     "text": [
      "-98320267187298.31\n",
      "solution is  7001435651411\n",
      "{'first': 'rcsj', 'second': 'zfsf', 'op': '+'}\n",
      "i is  7001435651411\n",
      "49160133593649.0 49160133593649.0\n",
      "difference is 0.0\n"
     ]
    },
    {
     "ename": "ValueError",
     "evalue": "math domain error",
     "output_type": "error",
     "traceback": [
      "\u001b[1;31m---------------------------------------------------------------------------\u001b[0m",
      "\u001b[1;31mValueError\u001b[0m                                Traceback (most recent call last)",
      "\u001b[1;32m~\\AppData\\Local\\Temp\\ipykernel_17024\\2404730657.py\u001b[0m in \u001b[0;36m<module>\u001b[1;34m\u001b[0m\n\u001b[0;32m     36\u001b[0m                 \u001b[0mprint\u001b[0m\u001b[1;33m(\u001b[0m\u001b[0mconsts\u001b[0m\u001b[1;33m[\u001b[0m\u001b[0mop\u001b[0m\u001b[1;33m[\u001b[0m\u001b[1;34m\"first\"\u001b[0m\u001b[1;33m]\u001b[0m\u001b[1;33m]\u001b[0m\u001b[1;33m,\u001b[0m\u001b[0mconsts\u001b[0m\u001b[1;33m[\u001b[0m\u001b[0mop\u001b[0m\u001b[1;33m[\u001b[0m\u001b[1;34m\"second\"\u001b[0m\u001b[1;33m]\u001b[0m\u001b[1;33m]\u001b[0m\u001b[1;33m)\u001b[0m\u001b[1;33m\u001b[0m\u001b[1;33m\u001b[0m\u001b[0m\n\u001b[0;32m     37\u001b[0m                 \u001b[0mprint\u001b[0m\u001b[1;33m(\u001b[0m\u001b[1;34m\"difference is\"\u001b[0m\u001b[1;33m,\u001b[0m\u001b[0mconsts\u001b[0m\u001b[1;33m[\u001b[0m\u001b[0mop\u001b[0m\u001b[1;33m[\u001b[0m\u001b[1;34m\"first\"\u001b[0m\u001b[1;33m]\u001b[0m\u001b[1;33m]\u001b[0m\u001b[1;33m-\u001b[0m\u001b[0mconsts\u001b[0m\u001b[1;33m[\u001b[0m\u001b[0mop\u001b[0m\u001b[1;33m[\u001b[0m\u001b[1;34m\"second\"\u001b[0m\u001b[1;33m]\u001b[0m\u001b[1;33m]\u001b[0m\u001b[1;33m)\u001b[0m\u001b[1;33m\u001b[0m\u001b[1;33m\u001b[0m\u001b[0m\n\u001b[1;32m---> 38\u001b[1;33m                 \u001b[0mprint\u001b[0m\u001b[1;33m(\u001b[0m\u001b[0mmath\u001b[0m\u001b[1;33m.\u001b[0m\u001b[0mlog10\u001b[0m\u001b[1;33m(\u001b[0m\u001b[0mabs\u001b[0m\u001b[1;33m(\u001b[0m\u001b[0mconsts\u001b[0m\u001b[1;33m[\u001b[0m\u001b[0mop\u001b[0m\u001b[1;33m[\u001b[0m\u001b[1;34m\"first\"\u001b[0m\u001b[1;33m]\u001b[0m\u001b[1;33m]\u001b[0m\u001b[1;33m-\u001b[0m\u001b[0mconsts\u001b[0m\u001b[1;33m[\u001b[0m\u001b[0mop\u001b[0m\u001b[1;33m[\u001b[0m\u001b[1;34m\"second\"\u001b[0m\u001b[1;33m]\u001b[0m\u001b[1;33m]\u001b[0m\u001b[1;33m)\u001b[0m\u001b[1;33m)\u001b[0m\u001b[1;33m)\u001b[0m\u001b[1;33m\u001b[0m\u001b[1;33m\u001b[0m\u001b[0m\n\u001b[0m\u001b[0;32m     39\u001b[0m             \u001b[0mconsts\u001b[0m\u001b[1;33m[\u001b[0m\u001b[0mname\u001b[0m\u001b[1;33m]\u001b[0m \u001b[1;33m=\u001b[0m \u001b[0meval\u001b[0m\u001b[1;33m(\u001b[0m\u001b[1;34mf'{consts[op[\"first\"]]} {op[\"op\"]} {consts[op[\"second\"]]}'\u001b[0m\u001b[1;33m)\u001b[0m\u001b[1;33m\u001b[0m\u001b[1;33m\u001b[0m\u001b[0m\n\u001b[0;32m     40\u001b[0m \u001b[1;33m\u001b[0m\u001b[0m\n",
      "\u001b[1;31mValueError\u001b[0m: math domain error"
     ]
    }
   ],
   "source": [
    "\n",
    "#i = 3510627793299+a\n",
    "#i = 3501435651411+a\n",
    "consts = {}\n",
    "ops = {}\n",
    "for line in lines:\n",
    "    parts = line.split()\n",
    "    if len(parts) == 2:\n",
    "        name = parts[0][:-1]\n",
    "        consts[name] = int(parts[1])\n",
    "    elif len(parts) == 4:\n",
    "        name = parts[0][:-1]\n",
    "        tmp = {}\n",
    "        tmp[\"first\"] = parts[1]\n",
    "        tmp[\"second\"] = parts[3]\n",
    "        tmp[\"op\"] = parts[2]\n",
    "        ops[name] = tmp\n",
    "    else:\n",
    "        print(\"exception on\",line)\n",
    "\n",
    "#print(consts[\"humn\"])\n",
    "consts[\"humn\"] = 3509819803065\n",
    "humened = {\"humn\":consts[\"humn\"]}\n",
    "long_op = \"X\"\n",
    "hops = {}\n",
    "while len(ops) > 0:\n",
    "    for name,op in ops.items():\n",
    "        if op[\"first\"] in consts and op[\"second\"] in consts:                \n",
    "            if name == \"root\":\n",
    "                dx = last_val - consts[op[\"first\"]]\n",
    "                print(dx)\n",
    "                last_val = consts[op[\"first\"]]\n",
    "                if consts[op[\"first\"]] == consts[op[\"second\"]]:\n",
    "                    print(\"solution is \",i)\n",
    "                    print(op)\n",
    "                print(\"i is \",i)\n",
    "                print(consts[op[\"first\"]],consts[op[\"second\"]])\n",
    "                print(\"difference is\",consts[op[\"first\"]]-consts[op[\"second\"]])\n",
    "                print(math.log10(abs(consts[op[\"first\"]]-consts[op[\"second\"]])))\n",
    "            consts[name] = eval(f'{consts[op[\"first\"]]} {op[\"op\"]} {consts[op[\"second\"]]}')\n",
    "            \n",
    "            if name != \"root\" and (op[\"first\"] in humened or op[\"second\"] in humened):\n",
    "                #print(f'did :{consts[op[\"first\"]]} {op[\"op\"]} {consts[op[\"second\"]]}')\n",
    "                humened[name] = consts[name]\n",
    "                if op[\"first\"] in humened and op[\"second\"] in humened:\n",
    "                    print(\"got both\")\n",
    "                    long_op = f'({long_op}) {op[\"op\"]} {long_op}'\n",
    "                elif op[\"first\"] in humened:\n",
    "                    long_op = f'({long_op}) {op[\"op\"]} {consts[op[\"second\"]]}'\n",
    "                elif op[\"second\"] in humened:\n",
    "                    long_op = f'{consts[op[\"first\"]]} {op[\"op\"]} ({long_op})'\n",
    "                hops[name] = f'{consts[op[\"first\"]]} {op[\"op\"]} {consts[op[\"second\"]]}'\n",
    "                \n",
    "\n",
    "\n",
    "    for name in consts:\n",
    "        if name in ops:\n",
    "            del ops[name]\n",
    "                \n",
    "# print(min_diff)\n",
    "# print(min_i)\n",
    "# print(min_log_diff)"
   ]
  },
  {
   "cell_type": "code",
   "execution_count": 140,
   "id": "1fbb47ef-dddd-4d13-9258-85f82f52eca0",
   "metadata": {},
   "outputs": [
    {
     "name": "stdout",
     "output_type": "stream",
     "text": [
      "(702 + (3 * (73621039497353.0 - (((2 * (372.0 + (((((52 * (((667 + ((((((2 * (122 + ((((8 + (2 * (((498.0 + (((2 * (((10.0 + (32 * (((((673.0 + (9 * (((((467 + ((((2 * (364.0 + ((((((((477 + (47 * (65.0 + (((X) - 273) / 2)))) * 2) - 376) / 8) + 533) / 4) - 699.0) * 12))) - 625) + 67.0) / 2)) / 10) - 828) * 2) - 712.0))) / 7) + 242) / 9) - 724.0))) / 2) - 23)) - 228) / 3)) * 3) - 150))) / 4) - 275) / 9))) - 116.0) * 3) + 314) / 2) + 427.0)) / 4) - 704)) + 424) * 2) - 988.0) / 4))) - 423) / 3)))) / 2\n"
     ]
    },
    {
     "data": {
      "text/latex": [
       "$\\displaystyle 61271425704934.7 - \\frac{611 X}{35}$"
      ],
      "text/plain": [
       "61271425704934.7 - 611*X/35"
      ]
     },
     "execution_count": 140,
     "metadata": {},
     "output_type": "execute_result"
    }
   ],
   "source": [
    "X = symbols(\"X\")\n",
    "print(long_op)\n",
    "eval(f\"{long_op}-49160133593649\")"
   ]
  },
  {
   "cell_type": "code",
   "execution_count": 139,
   "id": "8da40383-45f1-41dc-ad32-f6e78057dfb4",
   "metadata": {},
   "outputs": [
    {
     "data": {
      "text/plain": [
       "False"
      ]
     },
     "execution_count": 139,
     "metadata": {},
     "output_type": "execute_result"
    }
   ],
   "source": [
    "\"root\" in humened"
   ]
  },
  {
   "cell_type": "code",
   "execution_count": 122,
   "id": "811cf6d7-515d-4e41-8075-b9a9b623fec9",
   "metadata": {},
   "outputs": [],
   "source": [
    "\"((702 + (3 * (73621039497353.0 - (((2 * (372.0 + (((((52 * (((667 + ((((((2 * (122 + ((((8 + (2 * (((498.0 + (((2 * (((10.0 + (32 * (((((673.0 + (9 * (((((467 + ((((2 * (364.0 + ((((((((477 + (47 * (65.0 + (((X) - 273) / 2)))) * 2) - 376) / 8) + 533) / 4) - 699.0) * 12))) - 625) + 67.0) / 2)) / 10) - 828) * 2) - 712.0))) / 7) + 242) / 9) - 724.0))) / 2) - 23)) - 228) / 3)) * 3) - 150))) / 4) - 275) / 9))) - 116.0) * 3) + 314) / 2) + 427.0)) / 4) - 704)) + 424) * 2) - 988.0) / 4))) - 423) / 3)))) / 2) =  -49160133593649.0\""
   ]
  },
  {
   "cell_type": "code",
   "execution_count": 120,
   "id": "5e7d9cbe-1cfd-4812-9517-c7b2e5535556",
   "metadata": {},
   "outputs": [],
   "source": [
    "from sympy import *"
   ]
  },
  {
   "cell_type": "code",
   "execution_count": 145,
   "id": "183363b5-bd4c-46f1-aef7-5844f64d7ca1",
   "metadata": {},
   "outputs": [
    {
     "name": "stdout",
     "output_type": "stream",
     "text": [
      "110431559298584.0 - 611*X/35\n"
     ]
    }
   ],
   "source": [
    "X = symbols(\"X\")\n",
    "tmp = eval(long_op)\n",
    "print(tmp)\n",
    "#linsolve(tmp,[X])"
   ]
  },
  {
   "cell_type": "code",
   "execution_count": 107,
   "id": "2e6bba84-9d9e-4eeb-ae05-62bafc734a1d",
   "metadata": {},
   "outputs": [
    {
     "data": {
      "text/plain": [
       "5585709251228155"
      ]
     },
     "execution_count": 107,
     "metadata": {},
     "output_type": "execute_result"
    }
   ],
   "source": [
    "159591692892233*35"
   ]
  },
  {
   "cell_type": "code",
   "execution_count": 143,
   "id": "a9bdaec2-4d0d-4a86-ae40-b19fcdc70baf",
   "metadata": {},
   "outputs": [
    {
     "data": {
      "text/plain": [
       "3509819803064.999"
      ]
     },
     "execution_count": 143,
     "metadata": {},
     "output_type": "execute_result"
    }
   ],
   "source": [
    "61271425704934.7*35/611"
   ]
  },
  {
   "cell_type": "code",
   "execution_count": 109,
   "id": "9b87ab6f-3935-4539-be16-249d5abf6418",
   "metadata": {},
   "outputs": [
    {
     "data": {
      "text/plain": [
       "9141913668131.188"
      ]
     },
     "execution_count": 109,
     "metadata": {},
     "output_type": "execute_result"
    }
   ],
   "source": [
    "5585709251228155/611"
   ]
  },
  {
   "cell_type": "code",
   "execution_count": 110,
   "id": "d60a66da-861a-4a0f-8d23-74fe5c4cb403",
   "metadata": {},
   "outputs": [],
   "source": [
    "A = symbols(\"A\")"
   ]
  },
  {
   "cell_type": "code",
   "execution_count": 111,
   "id": "8c2fd395-7822-4740-baca-58fdf77824e0",
   "metadata": {},
   "outputs": [
    {
     "data": {
      "text/latex": [
       "$\\displaystyle \\frac{10 A}{3}$"
      ],
      "text/plain": [
       "10*A/3"
      ]
     },
     "execution_count": 111,
     "metadata": {},
     "output_type": "execute_result"
    }
   ],
   "source": [
    "(10*A)/3"
   ]
  },
  {
   "cell_type": "code",
   "execution_count": 113,
   "id": "d4976c77-4afd-47aa-8383-ced942272b76",
   "metadata": {},
   "outputs": [
    {
     "data": {
      "text/latex": [
       "$\\displaystyle 159591692892233.0 - \\frac{611 X}{35}$"
      ],
      "text/plain": [
       "159591692892233.0 - 611*X/35"
      ]
     },
     "execution_count": 113,
     "metadata": {},
     "output_type": "execute_result"
    }
   ],
   "source": [
    "tmp"
   ]
  },
  {
   "cell_type": "code",
   "execution_count": 114,
   "id": "9f872596-38ed-4ee5-bf55-613c9a493e1f",
   "metadata": {},
   "outputs": [
    {
     "data": {
      "text/plain": [
       "5585709251228155"
      ]
     },
     "execution_count": 114,
     "metadata": {},
     "output_type": "execute_result"
    }
   ],
   "source": [
    "159591692892233*35"
   ]
  },
  {
   "cell_type": "code",
   "execution_count": 115,
   "id": "38ef4c9d-2151-4ebd-9deb-ba58dda6d580",
   "metadata": {},
   "outputs": [
    {
     "data": {
      "text/plain": [
       "9141913668131.188"
      ]
     },
     "execution_count": 115,
     "metadata": {},
     "output_type": "execute_result"
    }
   ],
   "source": [
    "5585709251228155/611"
   ]
  },
  {
   "cell_type": "code",
   "execution_count": 147,
   "id": "476e357b-f606-49ae-bf30-568cfbb9f843",
   "metadata": {},
   "outputs": [
    {
     "data": {
      "text/plain": [
       "'(702+(3*(73621039497353.0-(((2*(372.0+(((((52*(((667+((((((2*(122+((((8+(2*(((498.0+(((2*(((10.0+(32*(((((673.0+(9*(((((467+((((2*(364.0+((((((((477+(47*(65.0+(((X)-273)/2))))*2)-376)/8)+533)/4)-699.0)*12)))-625)+67.0)/2))/10)-828)*2)-712.0)))/7)+242)/9)-724.0)))/2)-23))-228)/3))*3)-150)))/4)-275)/9)))-116.0)*3)+314)/2)+427.0))/4)-704))+424)*2)-988.0)/4)))-423)/3))))/2'"
      ]
     },
     "execution_count": 147,
     "metadata": {},
     "output_type": "execute_result"
    }
   ],
   "source": [
    "long_op.replace(\" \",\"\")"
   ]
  },
  {
   "cell_type": "code",
   "execution_count": null,
   "id": "2bd65114-4a38-4205-9cf8-08baafecf39c",
   "metadata": {},
   "outputs": [],
   "source": []
  }
 ],
 "metadata": {
  "kernelspec": {
   "display_name": "Python 3 (ipykernel)",
   "language": "python",
   "name": "python3"
  },
  "language_info": {
   "codemirror_mode": {
    "name": "ipython",
    "version": 3
   },
   "file_extension": ".py",
   "mimetype": "text/x-python",
   "name": "python",
   "nbconvert_exporter": "python",
   "pygments_lexer": "ipython3",
   "version": "3.9.13"
  }
 },
 "nbformat": 4,
 "nbformat_minor": 5
}
