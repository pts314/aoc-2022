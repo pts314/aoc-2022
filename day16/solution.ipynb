{
 "cells": [
  {
   "cell_type": "code",
   "execution_count": 1,
   "id": "731e01f2-f9f9-4bc1-9011-398fb073aca5",
   "metadata": {},
   "outputs": [],
   "source": [
    "import re\n",
    "import numpy as np\n",
    "import math\n",
    "from matplotlib import pyplot as plt\n",
    "import copy\n",
    "from functools import lru_cache"
   ]
  },
  {
   "cell_type": "code",
   "execution_count": 4,
   "id": "266e0848-ca2c-4049-bef6-551100c4efde",
   "metadata": {},
   "outputs": [],
   "source": [
    "with open(\"example.txt\") as f:\n",
    "    data = f.read()\n",
    "    lines = data.strip().split(\"\\n\")\n",
    "    records = data.strip().split(\"\\n\\n\")"
   ]
  },
  {
   "cell_type": "code",
   "execution_count": 29,
   "id": "5b56b8d6-41e2-41f3-b509-307c41bad83f",
   "metadata": {},
   "outputs": [],
   "source": [
    "with open(\"input.txt\") as f:\n",
    "    data = f.read()\n",
    "    lines = data.strip().split(\"\\n\")   \n",
    "    records = data.strip().split(\"\\n\\n\")"
   ]
  },
  {
   "cell_type": "code",
   "execution_count": 30,
   "id": "a8822b7d-f2a4-4a54-b8f1-5d6f777f0f95",
   "metadata": {},
   "outputs": [],
   "source": [
    "#board = np.array([list(x) for x in lines])\n",
    "#plt.matshow(screen)"
   ]
  },
  {
   "cell_type": "code",
   "execution_count": 31,
   "id": "903f4bdd-f638-4902-bf24-bf9c327c9b95",
   "metadata": {},
   "outputs": [
    {
     "name": "stdout",
     "output_type": "stream",
     "text": [
      "['MU', 'PH']\n",
      "['KB', 'MH']\n",
      "['GC', 'FI']\n",
      "['UN', 'CN']\n",
      "['AA', 'IF']\n",
      "['IF', 'WB']\n",
      "['BL', 'DJ']\n",
      "['BO', 'RU']\n",
      "['AZ', 'IF']\n",
      "['TD', 'AZ']\n",
      "['RF', 'GU']\n",
      "['MH', 'MU']\n",
      "['DJ', 'UN']\n",
      "['VJ', 'BA', 'YP']\n",
      "['QF', 'PI', 'AS', 'PE']\n",
      "['VJ', 'UM', 'CN']\n",
      "['GA', 'CQ']\n",
      "['IE', 'WQ']\n",
      "['IE', 'IF']\n",
      "['CQ', 'MH']\n",
      "['YP', 'UM', 'XI', 'XA']\n",
      "['KB', 'BL', 'GA']\n",
      "['DR', 'BT']\n",
      "['IF', 'FI']\n",
      "['RQ', 'NT']\n",
      "['FI', 'AZ']\n",
      "['TD', 'JL']\n",
      "['ME', 'TD']\n",
      "['AB']\n",
      "['AR', 'JL', 'HK', 'PE', 'XI']\n",
      "['ME', 'AB']\n",
      "['WQ', 'XD']\n",
      "['AA', 'FS']\n",
      "['AA', 'AZ']\n",
      "['HH', 'MH']\n",
      "['TD', 'AA']\n",
      "['HH', 'CO', 'AS', 'HK', 'PQ']\n",
      "['OQ', 'BO', 'PH']\n",
      "['UN', 'BA']\n",
      "['FS', 'NW', 'SS', 'SY']\n",
      "['IE', 'GU']\n",
      "['PI', 'MR', 'AR', 'CO', 'DI']\n",
      "['CQ', 'MU']\n",
      "['AA', 'FI']\n",
      "['QF', 'GC', 'OQ', 'WB', 'PQ']\n",
      "['SY', 'UU', 'NA']\n",
      "['BT', 'RQ']\n",
      "['ME', 'NA']\n",
      "['IE', 'DI']\n",
      "['TD', 'MR']\n",
      "['BT', 'NW']\n",
      "['XA', 'FI']\n",
      "['UU', 'DR', 'SS']\n",
      "['WQ', 'GU']\n",
      "['NT', 'XD', 'RF']\n"
     ]
    }
   ],
   "source": [
    "valves = {}\n",
    "paths = {}\n",
    "start = \"AA\"\n",
    "for line in lines:\n",
    "    name = line.split()[1]\n",
    "    if start is None:\n",
    "        start = name\n",
    "    rate = int(re.findall(r\"\\d+\",line)[0])\n",
    "    other_connections = [x[0:2] for x in line.split()[9:]]\n",
    "    print(other_connections)\n",
    "    valves[name] = rate\n",
    "    paths[name] = other_connections\n",
    "\n",
    "valve_to_num = {}\n",
    "num_to_valve = {}\n",
    "i = 0\n",
    "for k in sorted(valves.keys()):\n",
    "    if valves[k] == 0:\n",
    "        continue\n",
    "    valve_to_num[k] = 1<<i\n",
    "    num_to_valve[valve_to_num[k]] = k\n",
    "    i+=1\n",
    "\n",
    "@lru_cache\n",
    "def num_to_rate(num):\n",
    "    global valves\n",
    "    rate = 0\n",
    "    for i in range(len(valve_to_num)):\n",
    "        if 1<<i & num:\n",
    "            rate+=valves[num_to_valve[1<<i]]\n",
    "    return rate"
   ]
  },
  {
   "cell_type": "code",
   "execution_count": 32,
   "id": "629bffdf-2f98-4344-a1a1-b70c8e08eaec",
   "metadata": {},
   "outputs": [
    {
     "data": {
      "text/plain": [
       "'AA'"
      ]
     },
     "execution_count": 32,
     "metadata": {},
     "output_type": "execute_result"
    }
   ],
   "source": [
    "start"
   ]
  },
  {
   "cell_type": "code",
   "execution_count": 33,
   "id": "a7bf4fff-72a5-4816-9ae8-016fc5070e6a",
   "metadata": {},
   "outputs": [
    {
     "name": "stdout",
     "output_type": "stream",
     "text": [
      "{'AZ': 1, 'BT': 2, 'CQ': 4, 'FI': 8, 'GU': 16, 'IE': 32, 'IF': 64, 'ME': 128, 'MH': 256, 'MU': 512, 'RQ': 1024, 'RU': 2048, 'TD': 4096, 'UN': 8192, 'WQ': 16384}\n",
      "{'NA': 0, 'NW': 0, 'MR': 0, 'XD': 0, 'HK': 0, 'JL': 0, 'RQ': 13, 'AB': 0, 'PE': 0, 'QF': 0, 'BA': 0, 'SY': 0, 'NT': 0, 'GU': 21, 'AZ': 12, 'WQ': 23, 'DR': 0, 'UM': 0, 'XI': 0, 'SS': 0, 'IE': 22, 'BT': 24, 'GA': 0, 'AR': 0, 'DJ': 0, 'PI': 0, 'WB': 0, 'OQ': 0, 'RU': 19, 'IF': 7, 'BO': 0, 'CN': 0, 'HH': 0, 'AS': 0, 'FS': 0, 'PQ': 0, 'AA': 0, 'ME': 18, 'RF': 0, 'MH': 8, 'YP': 0, 'FI': 11, 'UU': 0, 'CO': 0, 'TD': 16, 'MU': 15, 'BL': 0, 'PH': 0, 'XA': 0, 'GC': 0, 'KB': 0, 'DI': 0, 'CQ': 9, 'VJ': 0, 'UN': 20}\n"
     ]
    }
   ],
   "source": [
    "print(valve_to_num)\n",
    "print(valves)"
   ]
  },
  {
   "cell_type": "code",
   "execution_count": 34,
   "id": "c7f803b7-31f8-4690-a788-d2fcb201da99",
   "metadata": {},
   "outputs": [
    {
     "name": "stdout",
     "output_type": "stream",
     "text": [
      "1 5\n",
      "2 10\n",
      "3 25\n",
      "4 46\n",
      "5 59\n",
      "6 117\n",
      "7 203\n",
      "8 237\n",
      "9 390\n",
      "10 624\n",
      "11 842\n",
      "12 1136\n",
      "13 1642\n",
      "14 2334\n",
      "15 3304\n",
      "16 4544\n",
      "17 6203\n",
      "18 8599\n",
      "19 11736\n",
      "20 15868\n",
      "21 21584\n",
      "22 28901\n",
      "23 38290\n",
      "24 51288\n",
      "25 68574\n",
      "26 90873\n"
     ]
    }
   ],
   "source": [
    "# part 1\n",
    "states = [(start,0,0)]\n",
    "#state = (loc,preasure,flipped)\n",
    "bests = {}\n",
    "MAX_TIME = 26\n",
    "for i in range(1,MAX_TIME+1):\n",
    "    new_state = []\n",
    "    for state in states:\n",
    "        loc,preasure,flipped = state\n",
    "\n",
    "        if (loc,flipped) in bests and preasure <= bests[(loc,flipped)]:\n",
    "            continue\n",
    "        \n",
    "        bests[(loc,flipped)] = preasure\n",
    "        \n",
    "        if loc in valve_to_num and valve_to_num[loc] & flipped == 0:\n",
    "            new_flipped = flipped | valve_to_num[loc]\n",
    "            new_state.append((loc,preasure+valves[loc]*(MAX_TIME-i),new_flipped))\n",
    "        \n",
    "        for dest in paths[loc]:\n",
    "            new_state.append((dest,preasure,flipped))\n",
    "        \n",
    "    states = new_state\n",
    "    print(i,len(states))           "
   ]
  },
  {
   "cell_type": "code",
   "execution_count": 35,
   "id": "22c96e03-25e2-4df0-a123-55d7f01e64fc",
   "metadata": {},
   "outputs": [],
   "source": [
    "best_flipped = {}\n",
    "for (loc,flipped),value in bests.items():\n",
    "    if flipped not in best_flipped:\n",
    "        best_flipped[flipped] = value\n",
    "    elif value > best_flipped[flipped]:\n",
    "        best_flipped[flipped] = value"
   ]
  },
  {
   "cell_type": "code",
   "execution_count": 38,
   "id": "9e910d28-2ffa-466d-bcec-4d91922813fb",
   "metadata": {},
   "outputs": [
    {
     "name": "stdout",
     "output_type": "stream",
     "text": [
      "4808\n"
     ]
    }
   ],
   "source": [
    "print(len(best_flipped))"
   ]
  },
  {
   "cell_type": "code",
   "execution_count": 36,
   "id": "a14e171e-983b-4d1e-8538-78d47551b95a",
   "metadata": {},
   "outputs": [],
   "source": [
    "best = (0,0,0)\n",
    "for k1 in best_flipped:\n",
    "    for k2 in best_flipped:\n",
    "        if k1 & k2 == 0:\n",
    "            if best_flipped[k1] + best_flipped[k2] > best[0]:\n",
    "                best = (best_flipped[k1] + best_flipped[k2],k1,k2)"
   ]
  },
  {
   "cell_type": "code",
   "execution_count": 40,
   "id": "f35ce9b5-fd71-48ce-8fab-a8268321eca6",
   "metadata": {},
   "outputs": [
    {
     "name": "stdout",
     "output_type": "stream",
     "text": [
      "(2911, 25712, 4999)\n",
      "0x77f7\n"
     ]
    }
   ],
   "source": [
    "print(best)\n",
    "print(hex(best[1]+best[2]))"
   ]
  },
  {
   "cell_type": "code",
   "execution_count": 11,
   "id": "269ad2d3-caea-4c2f-b9ed-caa89645c630",
   "metadata": {},
   "outputs": [
    {
     "name": "stdout",
     "output_type": "stream",
     "text": [
      "1651\n"
     ]
    }
   ],
   "source": [
    "print(max((x[1] for x in states)))"
   ]
  },
  {
   "cell_type": "code",
   "execution_count": 12,
   "id": "30ef9e60-fc9d-46b2-a056-550a3deeeeba",
   "metadata": {},
   "outputs": [
    {
     "data": {
      "text/plain": [
       "'\\n1 3\\n2 9\\n3 25\\n4 71\\n5 176\\n6 445\\n7 1036\\n8 2487\\n9 5684\\n10 13566\\n11 30583\\n12 72542\\n13 163469\\n387979\\n874657\\n2075430\\n4678789\\n11102556\\n25031007\\n\\n1 3\\n2 9\\n3 25\\n4 71\\n5 198\\n6 556\\n7 1533\\n8 4247\\n9 11566\\n10 31616\\n11 85205\\n12 230122\\n13 614709\\n14 1642866\\n15 4354546\\n16 11532568'"
      ]
     },
     "execution_count": 12,
     "metadata": {},
     "output_type": "execute_result"
    }
   ],
   "source": [
    "\"\"\"\n",
    "1 3\n",
    "2 9\n",
    "3 25\n",
    "4 71\n",
    "5 176\n",
    "6 445\n",
    "7 1036\n",
    "8 2487\n",
    "9 5684\n",
    "10 13566\n",
    "11 30583\n",
    "12 72542\n",
    "13 163469\n",
    "387979\n",
    "874657\n",
    "2075430\n",
    "4678789\n",
    "11102556\n",
    "25031007\n",
    "\n",
    "1 3\n",
    "2 9\n",
    "3 25\n",
    "4 71\n",
    "5 198\n",
    "6 556\n",
    "7 1533\n",
    "8 4247\n",
    "9 11566\n",
    "10 31616\n",
    "11 85205\n",
    "12 230122\n",
    "13 614709\n",
    "14 1642866\n",
    "15 4354546\n",
    "16 11532568\"\"\""
   ]
  },
  {
   "cell_type": "code",
   "execution_count": 15,
   "id": "9acd80e3-72f9-4e2b-81ed-35569fee4f8e",
   "metadata": {},
   "outputs": [],
   "source": [
    "#def visit(target,valves,visited):\n",
    "    \n",
    "non_zero_valves = {k:v for k,v in valves.items() if v > 0}\n",
    "\n",
    "        \n",
    "\n",
    "def distanceTo (target,valves):\n",
    "    visited = {target:0}\n",
    "    cur = target\n",
    "    to_visit = set([target])\n",
    "    while len(visited) < len(valves) and len(to_visit) > 0:\n",
    "        update = []\n",
    "        for new in to_visit:\n",
    "            for k in valves[new]:\n",
    "                if k not in visited:\n",
    "                    update.append(k)\n",
    "                    visited[k] = visited[new]+1\n",
    "        to_visit = update\n",
    "    if len(to_visit) == 0:\n",
    "        print(\"to_visit is empty\")\n",
    "    del visited[target]\n",
    "    return visited\n",
    "\n",
    "shorter_caves = {}\n",
    "for cave in non_zero_valves:\n",
    "    shorter_caves[cave] = distanceTo(cave,paths)\n",
    "shorter_caves [start] = distanceTo(start,paths)"
   ]
  },
  {
   "cell_type": "code",
   "execution_count": null,
   "id": "f6e73e09-fbde-45a0-abb3-e91998f133d3",
   "metadata": {},
   "outputs": [],
   "source": []
  },
  {
   "cell_type": "code",
   "execution_count": null,
   "id": "87ac6e04-f8c1-4580-b79d-c1278a5b8b38",
   "metadata": {},
   "outputs": [],
   "source": []
  },
  {
   "cell_type": "code",
   "execution_count": 13,
   "id": "16cf1602-2120-40af-a116-1529e4e43c47",
   "metadata": {},
   "outputs": [
    {
     "name": "stdout",
     "output_type": "stream",
     "text": [
      "AA\n"
     ]
    },
    {
     "ename": "IndexError",
     "evalue": "list index out of range",
     "output_type": "error",
     "traceback": [
      "\u001b[1;31m---------------------------------------------------------------------------\u001b[0m",
      "\u001b[1;31mIndexError\u001b[0m                                Traceback (most recent call last)",
      "\u001b[1;32m~\\AppData\\Local\\Temp\\ipykernel_17304\\1220316365.py\u001b[0m in \u001b[0;36m<module>\u001b[1;34m\u001b[0m\n\u001b[0;32m      8\u001b[0m \u001b[0mstates\u001b[0m \u001b[1;33m=\u001b[0m \u001b[1;33m[\u001b[0m\u001b[1;33m]\u001b[0m\u001b[1;33m*\u001b[0m\u001b[1;33m(\u001b[0m\u001b[0mMAX_TIME\u001b[0m\u001b[1;33m+\u001b[0m\u001b[1;36m1\u001b[0m\u001b[1;33m)\u001b[0m\u001b[1;33m\u001b[0m\u001b[1;33m\u001b[0m\u001b[0m\n\u001b[0;32m      9\u001b[0m \u001b[1;32mfor\u001b[0m \u001b[0mi\u001b[0m \u001b[1;32min\u001b[0m \u001b[0mrange\u001b[0m\u001b[1;33m(\u001b[0m\u001b[1;36m1\u001b[0m\u001b[1;33m,\u001b[0m\u001b[0mMAX_TIME\u001b[0m\u001b[1;33m+\u001b[0m\u001b[1;36m1\u001b[0m\u001b[1;33m)\u001b[0m\u001b[1;33m:\u001b[0m\u001b[1;33m\u001b[0m\u001b[1;33m\u001b[0m\u001b[0m\n\u001b[1;32m---> 10\u001b[1;33m     \u001b[1;32mfor\u001b[0m \u001b[0mstate\u001b[0m \u001b[1;32min\u001b[0m \u001b[0mstates\u001b[0m\u001b[1;33m[\u001b[0m\u001b[0mi\u001b[0m\u001b[1;33m]\u001b[0m\u001b[1;33m:\u001b[0m\u001b[1;33m\u001b[0m\u001b[1;33m\u001b[0m\u001b[0m\n\u001b[0m\u001b[0;32m     11\u001b[0m         \u001b[0mloc\u001b[0m\u001b[1;33m,\u001b[0m\u001b[0mloc1\u001b[0m\u001b[1;33m,\u001b[0m\u001b[0mpreasure\u001b[0m\u001b[1;33m,\u001b[0m\u001b[0mflipped\u001b[0m \u001b[1;33m=\u001b[0m \u001b[0mstate\u001b[0m\u001b[1;33m\u001b[0m\u001b[1;33m\u001b[0m\u001b[0m\n\u001b[0;32m     12\u001b[0m \u001b[1;33m\u001b[0m\u001b[0m\n",
      "\u001b[1;31mIndexError\u001b[0m: list index out of range"
     ]
    }
   ],
   "source": [
    "# part 2\n",
    "print(start)\n",
    "states = [(start,start,0,0)]\n",
    "#state = (loc,preasure,flipped)\n",
    "bests = {}\n",
    "MAX_TIME = 26\n",
    "not_printed_yet = False\n",
    "states = []*(MAX_TIME+1)\n",
    "for i in range(1,MAX_TIME+1):\n",
    "    for state in states[i]:\n",
    "        loc,loc1,preasure,flipped = state\n",
    "\n",
    "        if (loc,loc1,flipped) in bests and preasure <= bests[(loc,loc1,flipped)]:\n",
    "            continue\n",
    "        \n",
    "        bests[(loc,loc1,flipped)] = copy.copy(preasure)\n",
    "        if not_printed_yet and flipped > 40:\n",
    "            not_printed_yet = True\n",
    "            print(\"flipped finished in round\",i)\n",
    "        if loc in valve_to_num and valve_to_num[loc] & flipped == 0:\n",
    "            new_flipped = flipped | valve_to_num[loc]\n",
    "            new_state.append((loc,loc1,preasure+valves[loc]*(MAX_TIME-i),new_flipped))\n",
    "\n",
    "            if loc1 in valve_to_num and valve_to_num[loc1] & new_flipped == 0:\n",
    "                new_flipped1 = new_flipped | valve_to_num[loc1]\n",
    "                new_state.append((loc,loc1,preasure+(valves[loc]*(MAX_TIME-i))+(valves[loc1]*(MAX_TIME-i)),new_flipped1))\n",
    "\n",
    "            for dest1 in paths[loc1]:\n",
    "                new_state.append((loc,dest1,preasure+valves[loc]*(MAX_TIME-i),new_flipped))\n",
    "        \n",
    "        for dest in paths[loc]:\n",
    "            #new_state.append((dest,loc1,preasure,flipped))\n",
    "            if loc1 in valve_to_num and valve_to_num[loc1] & flipped == 0:\n",
    "                new_flipped1 = flipped | valve_to_num[loc1]\n",
    "                new_state.append((dest,loc1,preasure+(valves[loc1]*(MAX_TIME-i)),new_flipped1))\n",
    "\n",
    "            for dest1 in paths[loc1]:\n",
    "                new_state.append((dest,dest1,preasure,flipped))\n",
    "  \n",
    "        \n",
    "    #print(states)\n",
    "    print(i,len(states))   \n",
    "    print(max((x[2] for x in states)))\n",
    "    if len(new_state) > 0:\n",
    "        states = new_state"
   ]
  },
  {
   "cell_type": "code",
   "execution_count": 150,
   "id": "2ce243e9-cbb4-4aec-9b2d-ad88b7a4436c",
   "metadata": {},
   "outputs": [
    {
     "name": "stdout",
     "output_type": "stream",
     "text": [
      "1253\n"
     ]
    }
   ],
   "source": [
    "print(max((x[2] for x in states)))"
   ]
  },
  {
   "cell_type": "code",
   "execution_count": 166,
   "id": "a2bb7441-e04c-4c1f-bb58-19431eda81c1",
   "metadata": {},
   "outputs": [
    {
     "data": {
      "text/plain": [
       "6188"
      ]
     },
     "execution_count": 166,
     "metadata": {},
     "output_type": "execute_result"
    }
   ],
   "source": [
    "sum(valves.values())*26"
   ]
  },
  {
   "cell_type": "code",
   "execution_count": 154,
   "id": "ba3aebd3-37b3-41d1-889b-a0f1ac715774",
   "metadata": {},
   "outputs": [
    {
     "name": "stdout",
     "output_type": "stream",
     "text": [
      "1707\n"
     ]
    }
   ],
   "source": [
    "print(max(bests.values()))"
   ]
  },
  {
   "cell_type": "code",
   "execution_count": null,
   "id": "4a5db5ae-35b4-407c-a516-303012aeadd9",
   "metadata": {},
   "outputs": [],
   "source": [
    "# part 2, guess 2973\n",
    "# part 2, guess 2793 (too low)"
   ]
  },
  {
   "cell_type": "code",
   "execution_count": null,
   "id": "7b81a341-78e9-47f1-8e1f-9ba8bb7c6c33",
   "metadata": {},
   "outputs": [],
   "source": []
  },
  {
   "cell_type": "code",
   "execution_count": null,
   "id": "04a7ccc4-42b3-4c97-a3bd-a54b18230af6",
   "metadata": {},
   "outputs": [],
   "source": []
  },
  {
   "cell_type": "code",
   "execution_count": null,
   "id": "5d254838-717d-43d3-be24-a964de87e447",
   "metadata": {},
   "outputs": [],
   "source": [
    "# guessed 631\n",
    "# guessed 2156 (too low)"
   ]
  },
  {
   "cell_type": "code",
   "execution_count": null,
   "id": "8821962c-5ce4-417f-9ad4-fbd647ee9264",
   "metadata": {},
   "outputs": [],
   "source": [
    "print(valves)"
   ]
  },
  {
   "cell_type": "code",
   "execution_count": 179,
   "id": "cb8b514f-3d36-4803-b9ca-2043252f1ed8",
   "metadata": {},
   "outputs": [],
   "source": [
    "#non_zero_valves[start] = 0"
   ]
  },
  {
   "cell_type": "code",
   "execution_count": 14,
   "id": "51f9bcae-6ffc-4ee2-9ed6-476abada25ef",
   "metadata": {},
   "outputs": [],
   "source": []
  },
  {
   "cell_type": "code",
   "execution_count": 181,
   "id": "71f64e62-e426-4528-9bc2-027a94a66ff9",
   "metadata": {},
   "outputs": [],
   "source": [
    "for k,v in paths.items():\n",
    "    for tmp in v:\n",
    "        if k not in paths[tmp]:\n",
    "            print(\"Caves are not reflexive\")\n"
   ]
  },
  {
   "cell_type": "code",
   "execution_count": 182,
   "id": "d4bd5481-d299-452c-9454-9371ccd2b79d",
   "metadata": {},
   "outputs": [
    {
     "name": "stdout",
     "output_type": "stream",
     "text": [
      "{'RQ': 13, 'GU': 21, 'AZ': 12, 'WQ': 23, 'IE': 22, 'BT': 24, 'RU': 19, 'IF': 7, 'ME': 18, 'MH': 8, 'FI': 11, 'TD': 16, 'MU': 15, 'CQ': 9, 'UN': 20}\n"
     ]
    }
   ],
   "source": [
    "print(non_zero_valves)"
   ]
  },
  {
   "cell_type": "code",
   "execution_count": 183,
   "id": "b03ea2c6-8bec-4161-b772-44203829ba8f",
   "metadata": {},
   "outputs": [
    {
     "name": "stdout",
     "output_type": "stream",
     "text": [
      "{'RQ': {'BL': 1, 'DJ': 1, 'BT': 2, 'NT': 2, 'KB': 3, 'GA': 3, 'UN': 3, 'NW': 4, 'DR': 4, 'XD': 4, 'RF': 4, 'MH': 5, 'CQ': 5, 'CN': 5, 'BA': 5, 'FS': 6, 'SS': 6, 'SY': 6, 'UU': 6, 'WQ': 6, 'GU': 6, 'HH': 7, 'MU': 7, 'VJ': 7, 'UM': 7, 'YP': 7, 'AA': 8, 'NA': 8, 'IE': 8, 'CO': 9, 'AS': 9, 'HK': 9, 'PQ': 9, 'PH': 9, 'XI': 9, 'XA': 9, 'FI': 10, 'AZ': 10, 'IF': 10, 'TD': 10, 'ME': 10, 'DI': 10, 'PI': 11, 'MR': 11, 'AR': 11, 'QF': 11, 'PE': 11, 'JL': 11, 'GC': 11, 'OQ': 11, 'WB': 11, 'BO': 11, 'AB': 12, 'RU': 13}, 'GU': {'VJ': 1, 'BA': 1, 'YP': 1, 'WQ': 2, 'RF': 2, 'IE': 2, 'UM': 3, 'CN': 3, 'UN': 3, 'XI': 3, 'XA': 3, 'XD': 4, 'NT': 4, 'IF': 4, 'DI': 4, 'DJ': 5, 'AR': 5, 'JL': 5, 'HK': 5, 'PE': 5, 'FI': 5, 'RQ': 6, 'WB': 6, 'AA': 6, 'AZ': 6, 'PI': 6, 'MR': 6, 'CO': 6, 'BL': 7, 'TD': 7, 'HH': 7, 'AS': 7, 'PQ': 7, 'QF': 7, 'GC': 7, 'BT': 8, 'OQ': 8, 'FS': 8, 'KB': 9, 'GA': 9, 'ME': 9, 'MH': 9, 'NW': 10, 'DR': 10, 'BO': 10, 'PH': 10, 'SS': 10, 'SY': 10, 'CQ': 11, 'AB': 11, 'NA': 11, 'MU': 11, 'UU': 12, 'RU': 12}, 'AZ': {'QF': 1, 'PI': 1, 'AS': 1, 'PE': 1, 'TD': 2, 'FI': 2, 'AA': 2, 'IF': 2, 'GC': 3, 'OQ': 3, 'WB': 3, 'PQ': 3, 'MR': 3, 'AR': 3, 'CO': 3, 'DI': 3, 'HH': 3, 'HK': 3, 'JL': 3, 'XI': 3, 'ME': 4, 'XA': 4, 'FS': 4, 'IE': 4, 'BO': 5, 'PH': 5, 'MH': 5, 'YP': 5, 'UM': 5, 'AB': 6, 'NA': 6, 'NW': 6, 'SS': 6, 'SY': 6, 'GU': 6, 'WQ': 6, 'RU': 7, 'MU': 7, 'KB': 7, 'CQ': 7, 'VJ': 7, 'BA': 7, 'CN': 7, 'UU': 8, 'BT': 8, 'DR': 8, 'RF': 8, 'XD': 8, 'BL': 9, 'GA': 9, 'UN': 9, 'RQ': 10, 'NT': 10, 'DJ': 11}, 'WQ': {'VJ': 1, 'UM': 1, 'CN': 1, 'GU': 2, 'IE': 2, 'XD': 2, 'BA': 3, 'YP': 3, 'XI': 3, 'XA': 3, 'UN': 3, 'RF': 4, 'IF': 4, 'DI': 4, 'NT': 4, 'AR': 5, 'JL': 5, 'HK': 5, 'PE': 5, 'FI': 5, 'DJ': 5, 'WB': 6, 'AA': 6, 'AZ': 6, 'PI': 6, 'MR': 6, 'CO': 6, 'RQ': 6, 'TD': 7, 'HH': 7, 'AS': 7, 'PQ': 7, 'QF': 7, 'GC': 7, 'BL': 7, 'OQ': 8, 'FS': 8, 'BT': 8, 'ME': 9, 'MH': 9, 'KB': 9, 'GA': 9, 'BO': 10, 'PH': 10, 'NW': 10, 'SS': 10, 'SY': 10, 'DR': 10, 'AB': 11, 'NA': 11, 'CQ': 11, 'MU': 11, 'RU': 12, 'UU': 12}, 'IE': {'YP': 1, 'UM': 1, 'XI': 1, 'XA': 1, 'GU': 2, 'WQ': 2, 'IF': 2, 'DI': 2, 'VJ': 3, 'BA': 3, 'CN': 3, 'AR': 3, 'JL': 3, 'HK': 3, 'PE': 3, 'FI': 3, 'RF': 4, 'XD': 4, 'WB': 4, 'AA': 4, 'AZ': 4, 'PI': 4, 'MR': 4, 'CO': 4, 'UN': 5, 'TD': 5, 'HH': 5, 'AS': 5, 'PQ': 5, 'QF': 5, 'GC': 5, 'NT': 6, 'OQ': 6, 'FS': 6, 'DJ': 7, 'ME': 7, 'MH': 7, 'RQ': 8, 'BO': 8, 'PH': 8, 'NW': 8, 'SS': 8, 'SY': 8, 'BL': 9, 'AB': 9, 'NA': 9, 'KB': 9, 'CQ': 9, 'MU': 9, 'BT': 10, 'RU': 10, 'UU': 10, 'DR': 10, 'GA': 11}, 'BT': {'KB': 1, 'BL': 1, 'GA': 1, 'NW': 2, 'RQ': 2, 'DR': 2, 'MH': 3, 'DJ': 3, 'CQ': 3, 'FS': 4, 'SS': 4, 'SY': 4, 'NT': 4, 'UU': 4, 'HH': 5, 'MU': 5, 'UN': 5, 'AA': 6, 'NA': 6, 'XD': 6, 'RF': 6, 'CO': 7, 'AS': 7, 'HK': 7, 'PQ': 7, 'PH': 7, 'CN': 7, 'BA': 7, 'FI': 8, 'AZ': 8, 'IF': 8, 'TD': 8, 'ME': 8, 'WQ': 8, 'GU': 8, 'PI': 9, 'MR': 9, 'AR': 9, 'DI': 9, 'QF': 9, 'PE': 9, 'JL': 9, 'XI': 9, 'GC': 9, 'OQ': 9, 'WB': 9, 'BO': 9, 'VJ': 9, 'UM': 9, 'YP': 9, 'XA': 10, 'IE': 10, 'AB': 10, 'RU': 11}, 'RU': {'AB': 1, 'BO': 2, 'ME': 3, 'OQ': 4, 'PH': 4, 'TD': 5, 'NA': 5, 'QF': 6, 'GC': 6, 'WB': 6, 'PQ': 6, 'MU': 6, 'AZ': 7, 'MR': 7, 'JL': 7, 'AA': 7, 'SY': 7, 'UU': 7, 'PI': 8, 'AS': 8, 'PE': 8, 'FI': 8, 'IF': 8, 'HH': 8, 'CO': 8, 'HK': 8, 'MH': 8, 'CQ': 8, 'AR': 9, 'DI': 9, 'XI': 9, 'FS': 9, 'NW': 9, 'SS': 9, 'DR': 9, 'XA': 10, 'IE': 10, 'KB': 10, 'GA': 10, 'YP': 11, 'UM': 11, 'BT': 11, 'GU': 12, 'WQ': 12, 'BL': 12, 'VJ': 13, 'BA': 13, 'CN': 13, 'RQ': 13, 'RF': 14, 'XD': 14, 'DJ': 14, 'UN': 15, 'NT': 15}, 'IF': {'AR': 1, 'JL': 1, 'HK': 1, 'PE': 1, 'XI': 1, 'FI': 2, 'WB': 2, 'AA': 2, 'AZ': 2, 'IE': 2, 'PI': 3, 'MR': 3, 'CO': 3, 'DI': 3, 'TD': 3, 'HH': 3, 'AS': 3, 'PQ': 3, 'QF': 3, 'YP': 3, 'UM': 3, 'XA': 3, 'GC': 4, 'OQ': 4, 'FS': 4, 'GU': 4, 'WQ': 4, 'ME': 5, 'MH': 5, 'VJ': 5, 'BA': 5, 'CN': 5, 'BO': 6, 'PH': 6, 'NW': 6, 'SS': 6, 'SY': 6, 'RF': 6, 'XD': 6, 'AB': 7, 'NA': 7, 'KB': 7, 'CQ': 7, 'MU': 7, 'UN': 7, 'RU': 8, 'BT': 8, 'UU': 8, 'DR': 8, 'NT': 8, 'BL': 9, 'GA': 9, 'DJ': 9, 'RQ': 10}, 'ME': {'OQ': 1, 'BO': 1, 'PH': 1, 'TD': 2, 'AB': 2, 'NA': 2, 'QF': 3, 'GC': 3, 'WB': 3, 'PQ': 3, 'RU': 3, 'MU': 3, 'AZ': 4, 'MR': 4, 'JL': 4, 'AA': 4, 'SY': 4, 'UU': 4, 'PI': 5, 'AS': 5, 'PE': 5, 'FI': 5, 'IF': 5, 'HH': 5, 'CO': 5, 'HK': 5, 'MH': 5, 'CQ': 5, 'AR': 6, 'DI': 6, 'XI': 6, 'FS': 6, 'NW': 6, 'SS': 6, 'DR': 6, 'XA': 7, 'IE': 7, 'KB': 7, 'GA': 7, 'YP': 8, 'UM': 8, 'BT': 8, 'GU': 9, 'WQ': 9, 'BL': 9, 'VJ': 10, 'BA': 10, 'CN': 10, 'RQ': 10, 'RF': 11, 'XD': 11, 'DJ': 11, 'UN': 12, 'NT': 12}, 'MH': {'FS': 1, 'NW': 1, 'SS': 1, 'SY': 1, 'HH': 2, 'KB': 2, 'CQ': 2, 'MU': 2, 'AA': 3, 'BT': 3, 'UU': 3, 'DR': 3, 'NA': 3, 'CO': 4, 'AS': 4, 'HK': 4, 'PQ': 4, 'BL': 4, 'GA': 4, 'PH': 4, 'FI': 5, 'AZ': 5, 'IF': 5, 'TD': 5, 'RQ': 5, 'ME': 5, 'PI': 6, 'MR': 6, 'AR': 6, 'DI': 6, 'QF': 6, 'PE': 6, 'JL': 6, 'XI': 6, 'GC': 6, 'OQ': 6, 'WB': 6, 'DJ': 6, 'BO': 6, 'XA': 7, 'IE': 7, 'NT': 7, 'AB': 7, 'YP': 8, 'UM': 8, 'UN': 8, 'RU': 8, 'GU': 9, 'WQ': 9, 'XD': 9, 'RF': 9, 'VJ': 10, 'BA': 10, 'CN': 10}, 'FI': {'PI': 1, 'MR': 1, 'AR': 1, 'CO': 1, 'DI': 1, 'AZ': 2, 'GC': 2, 'IF': 2, 'AA': 2, 'XA': 2, 'QF': 3, 'AS': 3, 'PE': 3, 'TD': 3, 'JL': 3, 'HK': 3, 'XI': 3, 'HH': 3, 'PQ': 3, 'IE': 3, 'OQ': 4, 'WB': 4, 'FS': 4, 'YP': 4, 'UM': 4, 'ME': 5, 'MH': 5, 'GU': 5, 'WQ': 5, 'BO': 6, 'PH': 6, 'NW': 6, 'SS': 6, 'SY': 6, 'VJ': 6, 'BA': 6, 'CN': 6, 'AB': 7, 'NA': 7, 'KB': 7, 'CQ': 7, 'MU': 7, 'RF': 7, 'XD': 7, 'RU': 8, 'BT': 8, 'UU': 8, 'DR': 8, 'UN': 8, 'BL': 9, 'GA': 9, 'NT': 9, 'RQ': 10, 'DJ': 10}, 'TD': {'QF': 1, 'GC': 1, 'OQ': 1, 'WB': 1, 'PQ': 1, 'AZ': 2, 'MR': 2, 'ME': 2, 'JL': 2, 'AA': 2, 'PI': 3, 'AS': 3, 'PE': 3, 'FI': 3, 'BO': 3, 'PH': 3, 'IF': 3, 'HH': 3, 'CO': 3, 'HK': 3, 'AR': 4, 'DI': 4, 'AB': 4, 'NA': 4, 'XI': 4, 'FS': 4, 'XA': 5, 'RU': 5, 'MU': 5, 'IE': 5, 'MH': 5, 'SY': 6, 'UU': 6, 'YP': 6, 'UM': 6, 'NW': 6, 'SS': 6, 'CQ': 7, 'GU': 7, 'WQ': 7, 'KB': 7, 'DR': 8, 'VJ': 8, 'BA': 8, 'CN': 8, 'BT': 8, 'GA': 9, 'RF': 9, 'XD': 9, 'BL': 9, 'UN': 10, 'RQ': 10, 'NT': 11, 'DJ': 11}, 'MU': {'SY': 1, 'UU': 1, 'NA': 1, 'MH': 2, 'CQ': 2, 'PH': 2, 'FS': 3, 'NW': 3, 'SS': 3, 'DR': 3, 'ME': 3, 'HH': 4, 'KB': 4, 'GA': 4, 'OQ': 4, 'BO': 4, 'AA': 5, 'BT': 5, 'TD': 5, 'AB': 5, 'CO': 6, 'AS': 6, 'HK': 6, 'PQ': 6, 'BL': 6, 'QF': 6, 'GC': 6, 'WB': 6, 'RU': 6, 'FI': 7, 'AZ': 7, 'IF': 7, 'RQ': 7, 'MR': 7, 'JL': 7, 'PI': 8, 'AR': 8, 'DI': 8, 'PE': 8, 'XI': 8, 'DJ': 8, 'XA': 9, 'IE': 9, 'NT': 9, 'YP': 10, 'UM': 10, 'UN': 10, 'GU': 11, 'WQ': 11, 'XD': 11, 'RF': 11, 'VJ': 12, 'BA': 12, 'CN': 12}, 'CQ': {'UU': 1, 'DR': 1, 'SS': 1, 'MU': 2, 'GA': 2, 'MH': 2, 'SY': 3, 'NA': 3, 'BT': 3, 'FS': 3, 'NW': 3, 'PH': 4, 'KB': 4, 'BL': 4, 'HH': 4, 'ME': 5, 'RQ': 5, 'AA': 5, 'OQ': 6, 'BO': 6, 'DJ': 6, 'CO': 6, 'AS': 6, 'HK': 6, 'PQ': 6, 'TD': 7, 'AB': 7, 'NT': 7, 'FI': 7, 'AZ': 7, 'IF': 7, 'QF': 8, 'GC': 8, 'WB': 8, 'RU': 8, 'UN': 8, 'PI': 8, 'MR': 8, 'AR': 8, 'DI': 8, 'PE': 8, 'JL': 8, 'XI': 8, 'XD': 9, 'RF': 9, 'XA': 9, 'IE': 9, 'CN': 10, 'BA': 10, 'YP': 10, 'UM': 10, 'WQ': 11, 'GU': 11, 'VJ': 12}, 'UN': {'NT': 1, 'XD': 1, 'RF': 1, 'DJ': 2, 'CN': 2, 'BA': 2, 'RQ': 3, 'WQ': 3, 'GU': 3, 'BL': 4, 'VJ': 4, 'UM': 4, 'YP': 4, 'BT': 5, 'IE': 5, 'KB': 6, 'GA': 6, 'XI': 6, 'XA': 6, 'NW': 7, 'DR': 7, 'IF': 7, 'DI': 7, 'MH': 8, 'CQ': 8, 'AR': 8, 'JL': 8, 'HK': 8, 'PE': 8, 'FI': 8, 'FS': 9, 'SS': 9, 'SY': 9, 'UU': 9, 'WB': 9, 'AA': 9, 'AZ': 9, 'PI': 9, 'MR': 9, 'CO': 9, 'HH': 10, 'MU': 10, 'TD': 10, 'AS': 10, 'PQ': 10, 'QF': 10, 'GC': 10, 'NA': 11, 'OQ': 11, 'PH': 12, 'ME': 12, 'BO': 13, 'AB': 14, 'RU': 15}, 'AA': {'HH': 1, 'CO': 1, 'AS': 1, 'HK': 1, 'PQ': 1, 'FS': 2, 'FI': 2, 'AZ': 2, 'IF': 2, 'TD': 2, 'MH': 3, 'PI': 3, 'MR': 3, 'AR': 3, 'DI': 3, 'QF': 3, 'PE': 3, 'JL': 3, 'XI': 3, 'GC': 3, 'OQ': 3, 'WB': 3, 'NW': 4, 'SS': 4, 'SY': 4, 'XA': 4, 'IE': 4, 'ME': 4, 'KB': 5, 'CQ': 5, 'MU': 5, 'YP': 5, 'UM': 5, 'BO': 5, 'PH': 5, 'BT': 6, 'UU': 6, 'DR': 6, 'NA': 6, 'GU': 6, 'WQ': 6, 'AB': 6, 'BL': 7, 'GA': 7, 'VJ': 7, 'BA': 7, 'CN': 7, 'RU': 7, 'RQ': 8, 'RF': 8, 'XD': 8, 'DJ': 9, 'UN': 9, 'NT': 10}}\n"
     ]
    }
   ],
   "source": [
    "print(shorter_caves)"
   ]
  },
  {
   "cell_type": "code",
   "execution_count": null,
   "id": "2096ac84-412c-4da1-aa52-e598d240811c",
   "metadata": {},
   "outputs": [],
   "source": []
  },
  {
   "cell_type": "code",
   "execution_count": null,
   "id": "9b565001-3ef0-42f4-9b8b-f9a757706331",
   "metadata": {},
   "outputs": [],
   "source": []
  },
  {
   "cell_type": "code",
   "execution_count": null,
   "id": "1a06ad88-9b8e-4a6b-b06b-df7b5161c74b",
   "metadata": {},
   "outputs": [],
   "source": []
  },
  {
   "cell_type": "code",
   "execution_count": null,
   "id": "041246af-444c-4a72-b03a-ed645dd8d793",
   "metadata": {},
   "outputs": [],
   "source": []
  },
  {
   "cell_type": "code",
   "execution_count": null,
   "id": "b66ec99d-4bd4-4e4d-885b-5f36899b6928",
   "metadata": {},
   "outputs": [],
   "source": [
    "biggest = 0\n",
    "def estimate_remaining_potential(rate,time_left,opened,valves):\n",
    "    unopened = [v for k,v in valves.items() if k not in opened]\n",
    "    unopened = sorted(unopened)[-(time_left)//2:]\n",
    "    return (rate+sum(unopened))*time_left+100\n",
    "\n",
    "def trySolution(loc,time_left,rate,released,opened):\n",
    "    global biggest\n",
    "    global shorter_caves\n",
    "    global non_zero_valves\n",
    "    global valves\n",
    "    global paths\n",
    "    \n",
    "    # update\n",
    "    released += rate\n",
    "    time_left -= 1\n",
    "    \n",
    "    if time_left == 0:\n",
    "        if released > biggest:\n",
    "            biggest = released\n",
    "            print(biggest)\n",
    "        return released # may have to add current rate\n",
    "\n",
    "    # be smart and leave if already lost\n",
    "    if released + estimate_remaining_potential(rate,time_left,opened,valves) < biggest:\n",
    "        return 0\n",
    "\n",
    "    #print(released,time_left)\n",
    "    extra = 0\n",
    "    # random bullshit GO!\n",
    "    if loc not in opened and valves[loc] > 0:\n",
    "        #new_opened = copy.copy(opened)\n",
    "        opened.add(loc)\n",
    "        extra = trySolution(loc,time_left-1,rate+valves[loc],released,opened)\n",
    "        opened.remove(loc)\n",
    "    #if loc in shorter_caves:\n",
    "    #    for k in non_zero_valves:\n",
    "    #        v = shorter_caves[loc][k]\n",
    "    #    #for k,v in shorter_caves[loc].items():\n",
    "    #        if v <= time_left and v > 0:\n",
    "    #            extra1 = trySolution(k,time_left-(v-1),rate,released+rate*(v-1),opened)\n",
    "    #            extra = max(extra,extra1)\n",
    "    if True:\n",
    "        #print(\"we shouldn't be here\")\n",
    "        for new_locs in paths[loc]:\n",
    "            extra1 = trySolution(new_locs,time_left,rate,released,opened)\n",
    "            extra = max(extra,extra1)\n",
    "    return extra\n"
   ]
  },
  {
   "cell_type": "code",
   "execution_count": null,
   "id": "5a9fd7fa-f597-40e0-8b03-a2dd9b2ef7cf",
   "metadata": {},
   "outputs": [],
   "source": [
    "biggest = 0\n",
    "trySolution(start,30,0,0,set())\n"
   ]
  },
  {
   "cell_type": "code",
   "execution_count": null,
   "id": "7379ada4-82cd-436f-9b70-62ac8868114e",
   "metadata": {},
   "outputs": [],
   "source": [
    "def try2():\n",
    "    #state = (loc,rate,released,time_left,flipped)\n",
    "    state = {}\n",
    "    "
   ]
  }
 ],
 "metadata": {
  "kernelspec": {
   "display_name": "Python 3 (ipykernel)",
   "language": "python",
   "name": "python3"
  },
  "language_info": {
   "codemirror_mode": {
    "name": "ipython",
    "version": 3
   },
   "file_extension": ".py",
   "mimetype": "text/x-python",
   "name": "python",
   "nbconvert_exporter": "python",
   "pygments_lexer": "ipython3",
   "version": "3.9.13"
  }
 },
 "nbformat": 4,
 "nbformat_minor": 5
}
