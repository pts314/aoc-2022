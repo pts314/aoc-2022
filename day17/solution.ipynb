{
 "cells": [
  {
   "cell_type": "code",
   "execution_count": 281,
   "id": "731e01f2-f9f9-4bc1-9011-398fb073aca5",
   "metadata": {},
   "outputs": [],
   "source": [
    "import re\n",
    "import numpy as np\n",
    "import math\n",
    "from matplotlib import pyplot as plt\n",
    "from functools import lru_cache"
   ]
  },
  {
   "cell_type": "code",
   "execution_count": 321,
   "id": "266e0848-ca2c-4049-bef6-551100c4efde",
   "metadata": {},
   "outputs": [],
   "source": [
    "with open(\"example.txt\") as f:\n",
    "    data = f.read()\n",
    "    lines = data.strip().split(\"\\n\")\n",
    "    records = data.strip().split(\"\\n\\n\")"
   ]
  },
  {
   "cell_type": "code",
   "execution_count": 382,
   "id": "5b56b8d6-41e2-41f3-b509-307c41bad83f",
   "metadata": {},
   "outputs": [],
   "source": [
    "with open(\"input.txt\") as f:\n",
    "    data = f.read()\n",
    "    lines = data.strip().split(\"\\n\")   \n",
    "    records = data.strip().split(\"\\n\\n\")"
   ]
  },
  {
   "cell_type": "code",
   "execution_count": 383,
   "id": "5e2782bf-4551-46e6-b75a-c7631d48e6e6",
   "metadata": {},
   "outputs": [],
   "source": [
    "class wrapped_array():\n",
    "    arr = []\n",
    "    index = 0\n",
    "    \n",
    "    def __init__(self,arr):\n",
    "        self.arr = arr\n",
    "        self.index = 0\n",
    "    \n",
    "    def get_next(self):\n",
    "        next_thing = self.arr[self.index]\n",
    "        self.index = (self.index+1) % len(self.arr)\n",
    "        return next_thing\n",
    "\n",
    "    def __repr__(self):\n",
    "        return \"(\"+str(self.arr)+\",\"+str(self.index)+\")\""
   ]
  },
  {
   "cell_type": "code",
   "execution_count": 384,
   "id": "a8822b7d-f2a4-4a54-b8f1-5d6f777f0f95",
   "metadata": {},
   "outputs": [],
   "source": [
    "#board = np.array([list(x) for x in lines])\n",
    "wind = wrapped_array(lines[0])\n"
   ]
  },
  {
   "cell_type": "code",
   "execution_count": 385,
   "id": "456e75d3-1153-4b99-803e-8cfbc0a85bef",
   "metadata": {},
   "outputs": [],
   "source": [
    "for _ in range(100):\n",
    "    wind.get_next()"
   ]
  },
  {
   "cell_type": "code",
   "execution_count": 386,
   "id": "2d12a54f-eb68-4e3b-9d7a-60d47e4e039d",
   "metadata": {},
   "outputs": [
    {
     "name": "stdout",
     "output_type": "stream",
     "text": [
      "([array([[1, 1, 1, 1]]), array([[0, 1, 0],\n",
      "       [1, 1, 1],\n",
      "       [0, 1, 0]]), array([[1, 1, 1],\n",
      "       [0, 0, 1],\n",
      "       [0, 0, 1]]), array([[1],\n",
      "       [1],\n",
      "       [1],\n",
      "       [1]]), array([[1, 1],\n",
      "       [1, 1]])],0)\n"
     ]
    }
   ],
   "source": [
    "raw_stones = [\n",
    "    np.array([[1,1,1,1]]),\n",
    "    np.array([[0,1,0],[1,1,1],[0,1,0]]),\n",
    "    np.array([[1,1,1],[0,0,1],[0,0,1]]),\n",
    "    np.array([[1],[1],[1],[1]]),\n",
    "    np.array([[1,1],[1,1]])\n",
    "]\n",
    "stones = wrapped_array(raw_stones)\n",
    "    \n",
    "\"\"\"\n",
    "####\n",
    "    \n",
    ".#.\n",
    "###\n",
    ".#.\n",
    "\n",
    "..#\n",
    "..#\n",
    "###\n",
    "\n",
    "#\n",
    "#\n",
    "#\n",
    "#\n",
    "\n",
    "##\n",
    "##\"\"\"\n",
    "print(stones)"
   ]
  },
  {
   "cell_type": "code",
   "execution_count": 387,
   "id": "903f4bdd-f638-4902-bf24-bf9c327c9b95",
   "metadata": {},
   "outputs": [],
   "source": [
    "num_falling_rocks = 2022"
   ]
  },
  {
   "cell_type": "code",
   "execution_count": 388,
   "id": "629bffdf-2f98-4344-a1a1-b70c8e08eaec",
   "metadata": {},
   "outputs": [
    {
     "data": {
      "text/plain": [
       "(6066, 7)"
      ]
     },
     "execution_count": 388,
     "metadata": {},
     "output_type": "execute_result"
    }
   ],
   "source": [
    "tunnel = np.zeros([2022*3,7])\n",
    "tunnel.shape\n",
    "# we'll plan on rotating this down and keeping track of how far we go"
   ]
  },
  {
   "cell_type": "code",
   "execution_count": 389,
   "id": "b66ec99d-4bd4-4e4d-885b-5f36899b6928",
   "metadata": {},
   "outputs": [],
   "source": [
    "#((tunnel[1:4,1:4] + stones[1]) == 1).any()\n",
    "#tunnel[1:4,1:4] += stones[1])"
   ]
  },
  {
   "cell_type": "code",
   "execution_count": 390,
   "id": "1c76680a-cff6-4fb0-b971-3015f3048cee",
   "metadata": {},
   "outputs": [],
   "source": [
    "\n",
    "\n",
    "def place_stone(tunnel,stone,point):\n",
    "    y, x = point\n",
    "    ysize, xsize = stone.shape\n",
    "    xmax, ymax = (x + xsize), (y + ysize)\n",
    "    tunnel[y:ymax, x:xmax] += stone\n",
    "    return tunnel\n",
    "\n",
    "def can_drop(tunnel,stone,point):\n",
    "    y, x = point\n",
    "    y -= 1\n",
    "    return place_is_legal(tunnel,stone,(y,x))\n",
    "\n",
    "def place_is_legal(tunnel,stone,point):\n",
    "    y, x = point\n",
    "    ysize, xsize = stone.shape\n",
    "    xmax, ymax = (x + xsize), (y + ysize)\n",
    "    if not ( y >= 0 and x >= 0 and x < tunnel.shape[1]):\n",
    "        return False\n",
    "    tmp = tunnel[y:ymax, x:xmax] + stone\n",
    "    return not (tmp>1).any()\n",
    "\n",
    "def find_highest_set_space(tunnel):\n",
    "    indexes = np.where(tunnel > 0)[0]\n",
    "    return max(indexes) if len(indexes) > 0 else -1\n",
    "\n",
    "def push_wind(tunnel,stone,index,wind):\n",
    "    #print(index)\n",
    "    #print(stone.shape)\n",
    "    direction = 1 if wind.get_next() == \">\" else -1\n",
    "    if direction > 0:\n",
    "        if index[1]+stone.shape[1]-1+direction >= tunnel.shape[1]:\n",
    "            return index\n",
    "    if direction < 0:\n",
    "        if index[1]+direction < 0:\n",
    "            return index\n",
    "    tentative_index = (index[0],index[1]+direction)\n",
    "    if place_is_legal(tunnel,stone,tentative_index):\n",
    "        return tentative_index\n",
    "    else:\n",
    "        return index\n",
    "    \n",
    "    \n",
    "def squish(tunnel):\n",
    "    y = find_highest_set_space(tunnel)\n",
    "    tmp = tunnel[y-9:y,:]\n",
    "    return inner_squish(tmp)\n",
    "    \n",
    "def inner_squish(tmp):\n",
    "    tmp1 = 0\n",
    "    tmp = tmp.ravel()\n",
    "    for i in range(len(tmp)):\n",
    "        if tmp[i] > 0:\n",
    "            tmp1+= int(tmp[i])<<i\n",
    "    return int(tmp1)"
   ]
  },
  {
   "cell_type": "code",
   "execution_count": 391,
   "id": "036e9c42-0427-4b12-a743-ea8b5458f075",
   "metadata": {},
   "outputs": [],
   "source": [
    "stone = stones.get_next()\n",
    "first_i = 0"
   ]
  },
  {
   "cell_type": "code",
   "execution_count": 392,
   "id": "27ac97b5-bfa2-4e8a-953b-b98aa848187d",
   "metadata": {},
   "outputs": [
    {
     "data": {
      "text/plain": [
       "True"
      ]
     },
     "execution_count": 392,
     "metadata": {},
     "output_type": "execute_result"
    }
   ],
   "source": [
    "can_drop(tunnel,stone,(1,2))"
   ]
  },
  {
   "cell_type": "code",
   "execution_count": 393,
   "id": "abfb8e12-a2f9-4644-a91e-fc77f92ed70e",
   "metadata": {},
   "outputs": [
    {
     "data": {
      "text/plain": [
       "-1"
      ]
     },
     "execution_count": 393,
     "metadata": {},
     "output_type": "execute_result"
    }
   ],
   "source": [
    "find_highest_set_space(tunnel)"
   ]
  },
  {
   "cell_type": "code",
   "execution_count": 398,
   "id": "e857da59-4a1c-4a1b-aa54-88b4b8dff407",
   "metadata": {},
   "outputs": [
    {
     "name": "stdout",
     "output_type": "stream",
     "text": [
      "0\n",
      "100\n",
      "200\n",
      "300\n",
      "400\n",
      "500\n",
      "600\n",
      "700\n",
      "800\n",
      "900\n",
      "1000\n",
      "final offset 1010\n",
      "y value is 1629\n",
      "1629\n"
     ]
    }
   ],
   "source": [
    "max_t = 100000\n",
    "\n",
    "tunnel = np.zeros([max_t*3,7])\n",
    "stone_index = 0\n",
    "stones = wrapped_array(raw_stones)\n",
    "wind = wrapped_array(lines[0])\n",
    "loop = {}\n",
    "for i in range(max_t):\n",
    "    stone = stones.get_next()\n",
    "    # start 3 up from highest block\n",
    "    index = (find_highest_set_space(tunnel)+4,2)\n",
    "    isStable = False\n",
    "    while not isStable:\n",
    "        # push wind\n",
    "        #print(index)\n",
    "        index = push_wind(tunnel,stone,index,wind)\n",
    "        #print(index)\n",
    "\n",
    "        # drop\n",
    "        if can_drop(tunnel,stone,index):\n",
    "            index = (index[0]-1,index[1])\n",
    "            #print(index)\n",
    "        else:\n",
    "            isStable = True\n",
    "        #print(\"end loop\")\n",
    "    place_stone(tunnel,stone,index)\n",
    "    if i > 10:\n",
    "        t = squish(tunnel)\n",
    "        state = (t,stones.index,wind.index)\n",
    "        if state in loop:\n",
    "            print(\"found loop at i = \",i)\n",
    "            print(state)\n",
    "            print(\"old\",loop[state])\n",
    "            print(\"new\",i,index)\n",
    "            first_i,first_point,first_y = loop[state]\n",
    "            last_i,last_point,last_y = (i,index,find_highest_set_space(tunnel))\n",
    "            break\n",
    "        loop[state] = (i,index,find_highest_set_space(tunnel))\n",
    "    if (i % 100) == 0:\n",
    "        print(i)\n",
    "    if i == left_over_i:\n",
    "        print(\"final offset\",i)\n",
    "        print(\"y value is\",find_highest_set_space(tunnel))  \n",
    "        left_over_y = find_highest_set_space(tunnel)\n",
    "        break\n",
    "\n",
    "        \n",
    "    #stone_index = wrap_incr(stones,stone_index)\n",
    "print(find_highest_set_space(tunnel))"
   ]
  },
  {
   "cell_type": "code",
   "execution_count": 399,
   "id": "a0017c2e-6458-4efe-a18f-23cab24a8440",
   "metadata": {},
   "outputs": [
    {
     "name": "stdout",
     "output_type": "stream",
     "text": [
      "187\n",
      "1932\n",
      "1745\n"
     ]
    }
   ],
   "source": [
    "# index\n",
    "d_i = last_i-first_i\n",
    "print(first_i)\n",
    "print(last_i)\n",
    "print(d_i)"
   ]
  },
  {
   "cell_type": "code",
   "execution_count": 400,
   "id": "adabd280-952d-4089-a940-6aec372da3f9",
   "metadata": {},
   "outputs": [
    {
     "name": "stdout",
     "output_type": "stream",
     "text": [
      "300\n",
      "3053\n",
      "2753\n",
      "1629\n",
      "1010\n"
     ]
    }
   ],
   "source": [
    "# hight\n",
    "d_y = last_y-first_y\n",
    "print(first_y)\n",
    "print(last_y)\n",
    "print(d_y)\n",
    "print(left_over_y)\n",
    "left_over_i = (1000000000000)%d_i\n",
    "print(left_over_i)"
   ]
  },
  {
   "cell_type": "code",
   "execution_count": 401,
   "id": "4d66970c-19a9-435d-9419-bd836473545c",
   "metadata": {},
   "outputs": [
    {
     "data": {
      "text/plain": [
       "1577650429835"
      ]
     },
     "execution_count": 401,
     "metadata": {},
     "output_type": "execute_result"
    }
   ],
   "source": [
    "((1000000000000)//d_i) * d_y + left_over_y"
   ]
  },
  {
   "cell_type": "code",
   "execution_count": 380,
   "id": "d721168c-b550-49ef-9daa-c7adef5c9f90",
   "metadata": {},
   "outputs": [
    {
     "data": {
      "text/plain": [
       "1514285714288"
      ]
     },
     "execution_count": 380,
     "metadata": {},
     "output_type": "execute_result"
    }
   ],
   "source": [
    "1514285714288"
   ]
  },
  {
   "cell_type": "code",
   "execution_count": null,
   "id": "73600b5d-db0f-487f-803d-f1890a059b49",
   "metadata": {},
   "outputs": [],
   "source": [
    "#guessed 1577650429814, too low"
   ]
  },
  {
   "cell_type": "code",
   "execution_count": null,
   "id": "43b7c7f3-5776-47b1-ac9a-0f64426c4263",
   "metadata": {},
   "outputs": [],
   "source": [
    "#guessed 1577650430112, too high"
   ]
  },
  {
   "cell_type": "code",
   "execution_count": 302,
   "id": "e3c6ff2f-a10b-44e0-a86f-3da289c86169",
   "metadata": {},
   "outputs": [
    {
     "data": {
      "text/plain": [
       "1198"
      ]
     },
     "execution_count": 302,
     "metadata": {},
     "output_type": "execute_result"
    }
   ],
   "source": [
    "188+1010"
   ]
  },
  {
   "cell_type": "code",
   "execution_count": 258,
   "id": "b6a7545c-2e29-4c8c-958d-79d1e69e7a41",
   "metadata": {},
   "outputs": [
    {
     "name": "stdout",
     "output_type": "stream",
     "text": [
      "3193\n"
     ]
    }
   ],
   "source": [
    "print(find_highest_set_space(tunnel)+1)"
   ]
  },
  {
   "cell_type": "code",
   "execution_count": 260,
   "id": "2575bf9d-3ba6-4a43-be1a-05e0d6aa904a",
   "metadata": {},
   "outputs": [
    {
     "data": {
      "text/plain": [
       "10091"
      ]
     },
     "execution_count": 260,
     "metadata": {},
     "output_type": "execute_result"
    }
   ],
   "source": [
    "len(lines[0])"
   ]
  },
  {
   "cell_type": "code",
   "execution_count": 269,
   "id": "76c3e548-668e-4ede-b53f-e849eea8d850",
   "metadata": {},
   "outputs": [],
   "source": [
    "y = find_highest_set_space(tunnel)\n"
   ]
  },
  {
   "cell_type": "code",
   "execution_count": 280,
   "id": "a5314902-0de1-4096-aa3a-79791c76ccd6",
   "metadata": {},
   "outputs": [
    {
     "name": "stdout",
     "output_type": "stream",
     "text": [
      "539430165999223167\n",
      "63\n"
     ]
    }
   ],
   "source": [
    "tmp1 = 0\n",
    "tmp = tunnel[y-9:y,:]\n",
    "tmp = tmp.ravel()\n",
    "for i in range(len(tmp)):\n",
    "    if tmp[i] > 0:\n",
    "        tmp1+= int(tmp[i])<<i\n",
    "print(tmp1)\n",
    "print(len(tmp))"
   ]
  },
  {
   "cell_type": "code",
   "execution_count": 271,
   "id": "092804ba-5ee7-4f9a-af7d-7cf774d57d16",
   "metadata": {},
   "outputs": [
    {
     "name": "stdout",
     "output_type": "stream",
     "text": [
      "[0. 1. 1. 1. 1. 0. 0. 1. 1. 1. 1. 1. 1. 1. 0. 1. 0. 0. 0. 0. 0. 0. 1. 1.\n",
      " 1. 0. 0. 0. 0. 0. 1. 1. 0. 0. 0. 0. 0. 1. 1. 0. 0. 0. 0. 0. 1. 1. 1. 0.\n",
      " 0. 0. 0. 1. 1. 1. 0. 0. 0. 1. 1. 1. 1. 1. 0. 1. 1. 1. 0. 0. 0. 0.]\n"
     ]
    }
   ],
   "source": [
    "print(tmp.ravel())"
   ]
  },
  {
   "cell_type": "code",
   "execution_count": 259,
   "id": "5a9fd7fa-f597-40e0-8b03-a2dd9b2ef7cf",
   "metadata": {},
   "outputs": [
    {
     "data": {
      "text/plain": [
       "<matplotlib.image.AxesImage at 0x23d5aac07c0>"
      ]
     },
     "execution_count": 259,
     "metadata": {},
     "output_type": "execute_result"
    },
    {
     "data": {
      "image/png": "[encoded data removed]",
      "text/plain": [
       "<Figure size 400x1600 with 1 Axes>"
      ]
     },
     "metadata": {},
     "output_type": "display_data"
    }
   ],
   "source": [
    "plt.matshow(np.flip(tunnel[:100,:],0))"
   ]
  },
  {
   "cell_type": "code",
   "execution_count": 218,
   "id": "129616dd-a1ba-4100-a3b7-11e030bb4264",
   "metadata": {},
   "outputs": [
    {
     "data": {
      "text/plain": [
       "(array([], dtype=int64), array([], dtype=int64))"
      ]
     },
     "execution_count": 218,
     "metadata": {},
     "output_type": "execute_result"
    }
   ],
   "source": [
    "np.where(tunnel > 1)"
   ]
  },
  {
   "cell_type": "code",
   "execution_count": null,
   "id": "f00ddc7d-ac10-4e87-8c2c-577fcba06552",
   "metadata": {},
   "outputs": [],
   "source": []
  }
 ],
 "metadata": {
  "kernelspec": {
   "display_name": "Python 3 (ipykernel)",
   "language": "python",
   "name": "python3"
  },
  "language_info": {
   "codemirror_mode": {
    "name": "ipython",
    "version": 3
   },
   "file_extension": ".py",
   "mimetype": "text/x-python",
   "name": "python",
   "nbconvert_exporter": "python",
   "pygments_lexer": "ipython3",
   "version": "3.9.13"
  }
 },
 "nbformat": 4,
 "nbformat_minor": 5
}
