{
 "cells": [
  {
   "cell_type": "code",
   "execution_count": 2,
   "id": "731e01f2-f9f9-4bc1-9011-398fb073aca5",
   "metadata": {},
   "outputs": [],
   "source": [
    "import re\n",
    "import numpy as np\n",
    "import math\n",
    "from matplotlib import pyplot as plt"
   ]
  },
  {
   "cell_type": "code",
   "execution_count": 3,
   "id": "266e0848-ca2c-4049-bef6-551100c4efde",
   "metadata": {},
   "outputs": [],
   "source": [
    "with open(\"example.txt\") as f:\n",
    "    data = f.read()\n",
    "    lines = data.strip().split(\"\\n\")\n",
    "    records = data.strip().split(\"\\n\\n\")"
   ]
  },
  {
   "cell_type": "code",
   "execution_count": 6,
   "id": "5b56b8d6-41e2-41f3-b509-307c41bad83f",
   "metadata": {},
   "outputs": [],
   "source": [
    "with open(\"input.txt\") as f:\n",
    "    data = f.read()\n",
    "    lines = data.strip().split(\"\\n\")   \n",
    "    records = data.strip().split(\"\\n\\n\")"
   ]
  },
  {
   "cell_type": "code",
   "execution_count": 7,
   "id": "a8822b7d-f2a4-4a54-b8f1-5d6f777f0f95",
   "metadata": {},
   "outputs": [],
   "source": [
    "#board = np.array([list(x) for x in lines])\n",
    "#plt.matshow(screen)"
   ]
  },
  {
   "cell_type": "code",
   "execution_count": 14,
   "id": "2d12a54f-eb68-4e3b-9d7a-60d47e4e039d",
   "metadata": {},
   "outputs": [],
   "source": [
    "keys = {\"=\":-2,\"-\":-1,\"0\":0,\"1\":1,\"2\":2}\n",
    "def get_snafu_value(line):\n",
    "    val = 0\n",
    "    for i,v in enumerate(line):\n",
    "        val *= 5\n",
    "        val += keys[v]\n",
    "    return val\n",
    "    \n",
    "vsum = 0\n",
    "for line in lines:\n",
    "    val = get_snafu_value(line)\n",
    "    vsum += val"
   ]
  },
  {
   "cell_type": "code",
   "execution_count": 15,
   "id": "903f4bdd-f638-4902-bf24-bf9c327c9b95",
   "metadata": {},
   "outputs": [
    {
     "name": "stdout",
     "output_type": "stream",
     "text": [
      "27210103880867\n"
     ]
    }
   ],
   "source": [
    "print(vsum)"
   ]
  },
  {
   "cell_type": "code",
   "execution_count": 16,
   "id": "629bffdf-2f98-4344-a1a1-b70c8e08eaec",
   "metadata": {},
   "outputs": [],
   "source": [
    "# guessed 27210103880867, didn't work"
   ]
  },
  {
   "cell_type": "code",
   "execution_count": 24,
   "id": "b66ec99d-4bd4-4e4d-885b-5f36899b6928",
   "metadata": {},
   "outputs": [
    {
     "data": {
      "text/plain": [
       "19.220753560898235"
      ]
     },
     "execution_count": 24,
     "metadata": {},
     "output_type": "execute_result"
    }
   ],
   "source": [
    "math.log(vsum)/math.log(5)"
   ]
  },
  {
   "cell_type": "code",
   "execution_count": 92,
   "id": "5a9fd7fa-f597-40e0-8b03-a2dd9b2ef7cf",
   "metadata": {},
   "outputs": [
    {
     "name": "stdout",
     "output_type": "stream",
     "text": [
      "0\n",
      "0\n"
     ]
    }
   ],
   "source": [
    "val = vsum\n",
    "snafu = \"121=2=1==0=10=2-20=2\"\n",
    "get_snafu_value(snafu)\n",
    "while val != 0:\n",
    "    remainder = vsum - get_snafu_value(snafu)\n",
    "    print(remainder)\n",
    "    if remainder == 0:\n",
    "        break\n",
    "    digit_in_work = math.floor(math.log(abs(remainder))/math.log(5))\n",
    "    print(\"working on\",digit_in_work)\n",
    "    print(\"remainder of\",remainder)\n",
    "    next_digit = remainder / 5**digit_in_work\n",
    "    print(next_digit)\n",
    "    print(snafu)\n",
    "    break\n",
    "    \n",
    "print( vsum - get_snafu_value(snafu))"
   ]
  },
  {
   "cell_type": "code",
   "execution_count": null,
   "id": "868c40fb-35a3-44aa-bce9-73bb395c9c25",
   "metadata": {},
   "outputs": [],
   "source": [
    "# guess and check! I just changed the snafu value until it came out to be zero. With more thinking I could figure out how to reverse them, but I only needed one value, so eh"
   ]
  }
 ],
 "metadata": {
  "kernelspec": {
   "display_name": "Python 3 (ipykernel)",
   "language": "python",
   "name": "python3"
  },
  "language_info": {
   "codemirror_mode": {
    "name": "ipython",
    "version": 3
   },
   "file_extension": ".py",
   "mimetype": "text/x-python",
   "name": "python",
   "nbconvert_exporter": "python",
   "pygments_lexer": "ipython3",
   "version": "3.9.13"
  }
 },
 "nbformat": 4,
 "nbformat_minor": 5
}
