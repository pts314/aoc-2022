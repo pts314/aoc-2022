{
 "cells": [
  {
   "cell_type": "code",
   "execution_count": 33,
   "id": "731e01f2-f9f9-4bc1-9011-398fb073aca5",
   "metadata": {},
   "outputs": [],
   "source": [
    "import re\n",
    "import numpy as np\n",
    "import math\n",
    "from matplotlib import pyplot as plt\n",
    "from collections import defaultdict\n",
    "from collections import Counter\n",
    "import intervaltree"
   ]
  },
  {
   "cell_type": "code",
   "execution_count": 34,
   "id": "266e0848-ca2c-4049-bef6-551100c4efde",
   "metadata": {},
   "outputs": [],
   "source": [
    "with open(\"example.txt\") as f:\n",
    "    data = f.read()\n",
    "    lines = data.strip().split(\"\\n\")\n",
    "    records = data.strip().split(\"\\n\\n\")"
   ]
  },
  {
   "cell_type": "code",
   "execution_count": 35,
   "id": "5b56b8d6-41e2-41f3-b509-307c41bad83f",
   "metadata": {},
   "outputs": [],
   "source": [
    "with open(\"input.txt\") as f:\n",
    "    data = f.read()\n",
    "    lines = data.strip().split(\"\\n\")   \n",
    "    records = data.strip().split(\"\\n\\n\")"
   ]
  },
  {
   "cell_type": "code",
   "execution_count": 36,
   "id": "a8822b7d-f2a4-4a54-b8f1-5d6f777f0f95",
   "metadata": {},
   "outputs": [],
   "source": [
    "#board = np.array([list(x) for x in lines])\n",
    "#plt.matshow(screen)"
   ]
  },
  {
   "cell_type": "code",
   "execution_count": 37,
   "id": "2d12a54f-eb68-4e3b-9d7a-60d47e4e039d",
   "metadata": {},
   "outputs": [
    {
     "name": "stdout",
     "output_type": "stream",
     "text": [
      "['Sensor at x=98246, y=1908027: closest beacon is at x=1076513, y=2000000', 'Sensor at x=1339369, y=2083853: closest beacon is at x=1076513, y=2000000', 'Sensor at x=679177, y=3007305: closest beacon is at x=1076513, y=2000000', 'Sensor at x=20262, y=3978297: closest beacon is at x=13166, y=4136840', 'Sensor at x=3260165, y=2268955: closest beacon is at x=4044141, y=2290104', 'Sensor at x=2577675, y=3062584: closest beacon is at x=2141091, y=2828176', 'Sensor at x=3683313, y=2729137: closest beacon is at x=4044141, y=2290104', 'Sensor at x=1056412, y=370641: closest beacon is at x=1076513, y=2000000', 'Sensor at x=2827280, y=1827095: closest beacon is at x=2757345, y=1800840', 'Sensor at x=1640458, y=3954524: closest beacon is at x=2141091, y=2828176', 'Sensor at x=2139884, y=1162189: closest beacon is at x=2757345, y=1800840', 'Sensor at x=3777450, y=3714504: closest beacon is at x=3355953, y=3271922', 'Sensor at x=1108884, y=2426713: closest beacon is at x=1076513, y=2000000', 'Sensor at x=2364307, y=20668: closest beacon is at x=2972273, y=-494417', 'Sensor at x=3226902, y=2838842: closest beacon is at x=3355953, y=3271922', 'Sensor at x=22804, y=3803886: closest beacon is at x=13166, y=4136840', 'Sensor at x=2216477, y=2547945: closest beacon is at x=2141091, y=2828176', 'Sensor at x=1690953, y=2203555: closest beacon is at x=1076513, y=2000000', 'Sensor at x=3055156, y=3386812: closest beacon is at x=3355953, y=3271922', 'Sensor at x=3538996, y=719130: closest beacon is at x=2972273, y=-494417', 'Sensor at x=2108918, y=2669413: closest beacon is at x=2141091, y=2828176', 'Sensor at x=3999776, y=2044283: closest beacon is at x=4044141, y=2290104', 'Sensor at x=2184714, y=2763072: closest beacon is at x=2141091, y=2828176', 'Sensor at x=2615462, y=2273553: closest beacon is at x=2757345, y=1800840']\n"
     ]
    }
   ],
   "source": [
    "print(lines)"
   ]
  },
  {
   "cell_type": "code",
   "execution_count": 38,
   "id": "903f4bdd-f638-4902-bf24-bf9c327c9b95",
   "metadata": {},
   "outputs": [
    {
     "name": "stdout",
     "output_type": "stream",
     "text": [
      "98246 1908027 1076513 2000000\n",
      "1339369 2083853 1076513 2000000\n",
      "679177 3007305 1076513 2000000\n",
      "20262 3978297 13166 4136840\n",
      "3260165 2268955 4044141 2290104\n",
      "2577675 3062584 2141091 2828176\n",
      "3683313 2729137 4044141 2290104\n",
      "1056412 370641 1076513 2000000\n",
      "2827280 1827095 2757345 1800840\n",
      "1640458 3954524 2141091 2828176\n",
      "2139884 1162189 2757345 1800840\n",
      "3777450 3714504 3355953 3271922\n",
      "1108884 2426713 1076513 2000000\n",
      "2364307 20668 2972273 -494417\n",
      "3226902 2838842 3355953 3271922\n",
      "22804 3803886 13166 4136840\n",
      "2216477 2547945 2141091 2828176\n",
      "1690953 2203555 1076513 2000000\n",
      "3055156 3386812 3355953 3271922\n",
      "3538996 719130 2972273 -494417\n",
      "2108918 2669413 2141091 2828176\n",
      "3999776 2044283 4044141 2290104\n",
      "2184714 2763072 2141091 2828176\n",
      "2615462 2273553 2757345 1800840\n"
     ]
    }
   ],
   "source": [
    "# maybe count of finds?\n",
    "beacons = defaultdict(int)\n",
    "# sensors from point to distance to closest becon\n",
    "sensors = {}\n",
    "for line in lines:\n",
    "    sx,sy,bx,by = [int(x) for x in re.findall(r\"-?\\d+\",line)]\n",
    "    print(sx,sy,bx,by)\n",
    "    beacons[(bx,by)] += 1\n",
    "    sensors[(sx,sy)] = abs(sx-bx)+abs(sy-by)"
   ]
  },
  {
   "cell_type": "code",
   "execution_count": 39,
   "id": "629bffdf-2f98-4344-a1a1-b70c8e08eaec",
   "metadata": {},
   "outputs": [
    {
     "name": "stdout",
     "output_type": "stream",
     "text": [
      "defaultdict(<class 'int'>, {(1076513, 2000000): 6, (13166, 4136840): 2, (4044141, 2290104): 3, (2141091, 2828176): 5, (2757345, 1800840): 3, (3355953, 3271922): 3, (2972273, -494417): 2})\n"
     ]
    }
   ],
   "source": [
    "print(beacons)"
   ]
  },
  {
   "cell_type": "code",
   "execution_count": 40,
   "id": "b66ec99d-4bd4-4e4d-885b-5f36899b6928",
   "metadata": {},
   "outputs": [
    {
     "name": "stdout",
     "output_type": "stream",
     "text": [
      "{(98246, 1908027): 1070240, (1339369, 2083853): 346709, (679177, 3007305): 1404641, (20262, 3978297): 165639, (3260165, 2268955): 805125, (2577675, 3062584): 670992, (3683313, 2729137): 799861, (1056412, 370641): 1649460, (2827280, 1827095): 96190, (1640458, 3954524): 1626981, (2139884, 1162189): 1256112, (3777450, 3714504): 864079, (1108884, 2426713): 459084, (2364307, 20668): 1123051, (3226902, 2838842): 562131, (22804, 3803886): 342592, (2216477, 2547945): 355617, (1690953, 2203555): 817995, (3055156, 3386812): 415687, (3538996, 719130): 1780270, (2108918, 2669413): 190936, (3999776, 2044283): 290186, (2184714, 2763072): 108727, (2615462, 2273553): 614596}\n"
     ]
    }
   ],
   "source": [
    "print(sensors)"
   ]
  },
  {
   "cell_type": "code",
   "execution_count": 41,
   "id": "5a9fd7fa-f597-40e0-8b03-a2dd9b2ef7cf",
   "metadata": {},
   "outputs": [],
   "source": [
    "def spacesAt(sensors,y):\n",
    "    intervals = Counter()\n",
    "    for point in sensors:\n",
    "        xrange = sensors[point] - abs(point[1] - y)\n",
    "        print(\"point is\",point)\n",
    "        print(\"distance is\",abs(point[1]-y))\n",
    "        print(\"yrange is\",xrange)\n",
    "        if xrange > 0:\n",
    "            lower_x = point[0]-xrange\n",
    "            higher_x = point[0]+xrange\n",
    "            this_point = (lower_x,higher_x)\n",
    "            new_intervals = Counter()\n",
    "            for interval in intervals:\n",
    "                high = min(interval[1],this_point[1])\n",
    "                low = max(interval[0],this_point[0])\n",
    "                if low <= high:\n",
    "                    new_intervals[(low,high)] -= intervals[interval]\n",
    "            intervals.update(new_intervals)\n",
    "            intervals[this_point] += 1\n",
    "    return intervals"
   ]
  },
  {
   "cell_type": "code",
   "execution_count": 42,
   "id": "baeb34c1-6448-4f1b-86cf-5359484b6f8c",
   "metadata": {},
   "outputs": [
    {
     "name": "stdout",
     "output_type": "stream",
     "text": [
      "point is (98246, 1908027)\n",
      "distance is 91973\n",
      "yrange is 978267\n",
      "point is (1339369, 2083853)\n",
      "distance is 83853\n",
      "yrange is 262856\n",
      "point is (679177, 3007305)\n",
      "distance is 1007305\n",
      "yrange is 397336\n",
      "point is (20262, 3978297)\n",
      "distance is 1978297\n",
      "yrange is -1812658\n",
      "point is (3260165, 2268955)\n",
      "distance is 268955\n",
      "yrange is 536170\n",
      "point is (2577675, 3062584)\n",
      "distance is 1062584\n",
      "yrange is -391592\n",
      "point is (3683313, 2729137)\n",
      "distance is 729137\n",
      "yrange is 70724\n",
      "point is (1056412, 370641)\n",
      "distance is 1629359\n",
      "yrange is 20101\n",
      "point is (2827280, 1827095)\n",
      "distance is 172905\n",
      "yrange is -76715\n",
      "point is (1640458, 3954524)\n",
      "distance is 1954524\n",
      "yrange is -327543\n",
      "point is (2139884, 1162189)\n",
      "distance is 837811\n",
      "yrange is 418301\n",
      "point is (3777450, 3714504)\n",
      "distance is 1714504\n",
      "yrange is -850425\n",
      "point is (1108884, 2426713)\n",
      "distance is 426713\n",
      "yrange is 32371\n",
      "point is (2364307, 20668)\n",
      "distance is 1979332\n",
      "yrange is -856281\n",
      "point is (3226902, 2838842)\n",
      "distance is 838842\n",
      "yrange is -276711\n",
      "point is (22804, 3803886)\n",
      "distance is 1803886\n",
      "yrange is -1461294\n",
      "point is (2216477, 2547945)\n",
      "distance is 547945\n",
      "yrange is -192328\n",
      "point is (1690953, 2203555)\n",
      "distance is 203555\n",
      "yrange is 614440\n",
      "point is (3055156, 3386812)\n",
      "distance is 1386812\n",
      "yrange is -971125\n",
      "point is (3538996, 719130)\n",
      "distance is 1280870\n",
      "yrange is 499400\n",
      "point is (2108918, 2669413)\n",
      "distance is 669413\n",
      "yrange is -478477\n",
      "point is (3999776, 2044283)\n",
      "distance is 44283\n",
      "yrange is 245903\n",
      "point is (2184714, 2763072)\n",
      "distance is 763072\n",
      "yrange is -654345\n",
      "point is (2615462, 2273553)\n",
      "distance is 273553\n",
      "yrange is 341043\n",
      "Counter({(-880021, 1076513): 1, (2723995, 3796335): 1, (1721583, 2558185): 1, (1076513, 2305393): 1, (3039596, 4038396): 1, (3753873, 4245679): 1, (2274419, 2956505): 1, (1076513, 1602225): 0, (281841, 1076513): 0, (3612589, 3754037): 0, (1036311, 1076513): 0, (1076513, 1141255): 0, (3753873, 3796335): 0, (3753873, 3754037): 0, (2274419, 2305393): 0, (1076513, 1076513): -1, (1721583, 2305393): -1, (3039596, 3796335): -1, (3753873, 4038396): -1, (2723995, 2956505): -1, (2274419, 2558185): -1})\n"
     ]
    }
   ],
   "source": [
    "s = spacesAt(sensors,2000000)\n",
    "print(s)"
   ]
  },
  {
   "cell_type": "code",
   "execution_count": 43,
   "id": "157d7e5e-f252-4dd0-b5a4-77adad6bdd1f",
   "metadata": {},
   "outputs": [],
   "source": [
    "covered_area = 0\n",
    "for point in s:\n",
    "    covered_area += (point[1]-point[0]+1) * s[point]\n",
    "for b in beacons:\n",
    "    if b[1] == 2000000:\n",
    "        covered_area -= 1"
   ]
  },
  {
   "cell_type": "code",
   "execution_count": 44,
   "id": "ddef025d-4e99-46a8-bf3e-5134e2421d00",
   "metadata": {},
   "outputs": [
    {
     "name": "stdout",
     "output_type": "stream",
     "text": [
      "5125700\n"
     ]
    }
   ],
   "source": [
    "print(covered_area)"
   ]
  },
  {
   "cell_type": "code",
   "execution_count": 45,
   "id": "04aa1d6e-9fe5-4f63-b6f9-b9eae350b232",
   "metadata": {},
   "outputs": [
    {
     "name": "stdout",
     "output_type": "stream",
     "text": [
      "defaultdict(<class 'int'>, {(1076513, 2000000): 6, (13166, 4136840): 2, (4044141, 2290104): 3, (2141091, 2828176): 5, (2757345, 1800840): 3, (3355953, 3271922): 3, (2972273, -494417): 2})\n"
     ]
    }
   ],
   "source": [
    "print(beacons)"
   ]
  },
  {
   "cell_type": "code",
   "execution_count": 50,
   "id": "b1d9c015-941e-4fca-b637-d944eb47fc8c",
   "metadata": {},
   "outputs": [
    {
     "name": "stdout",
     "output_type": "stream",
     "text": [
      "{(98246, 1908027): 1070240, (1339369, 2083853): 346709, (679177, 3007305): 1404641, (20262, 3978297): 165639, (3260165, 2268955): 805125, (2577675, 3062584): 670992, (3683313, 2729137): 799861, (1056412, 370641): 1649460, (2827280, 1827095): 96190, (1640458, 3954524): 1626981, (2139884, 1162189): 1256112, (3777450, 3714504): 864079, (1108884, 2426713): 459084, (2364307, 20668): 1123051, (3226902, 2838842): 562131, (22804, 3803886): 342592, (2216477, 2547945): 355617, (1690953, 2203555): 817995, (3055156, 3386812): 415687, (3538996, 719130): 1780270, (2108918, 2669413): 190936, (3999776, 2044283): 290186, (2184714, 2763072): 108727, (2615462, 2273553): 614596}\n"
     ]
    }
   ],
   "source": [
    "print(sensors)"
   ]
  },
  {
   "cell_type": "code",
   "execution_count": 49,
   "id": "5a4414fb-0362-4f7a-95d8-87dffc8c695c",
   "metadata": {},
   "outputs": [
    {
     "ename": "KeyboardInterrupt",
     "evalue": "",
     "output_type": "error",
     "traceback": [
      "\u001b[1;31m---------------------------------------------------------------------------\u001b[0m",
      "\u001b[1;31mKeyboardInterrupt\u001b[0m                         Traceback (most recent call last)",
      "\u001b[1;32m~\\AppData\\Local\\Temp\\ipykernel_11176\\3516786065.py\u001b[0m in \u001b[0;36m<module>\u001b[1;34m\u001b[0m\n\u001b[0;32m     37\u001b[0m \u001b[1;33m\u001b[0m\u001b[0m\n\u001b[0;32m     38\u001b[0m \u001b[1;33m\u001b[0m\u001b[0m\n\u001b[1;32m---> 39\u001b[1;33m \u001b[0mfindSpace\u001b[0m\u001b[1;33m(\u001b[0m\u001b[0msensors\u001b[0m\u001b[1;33m)\u001b[0m\u001b[1;33m\u001b[0m\u001b[1;33m\u001b[0m\u001b[0m\n\u001b[0m",
      "\u001b[1;32m~\\AppData\\Local\\Temp\\ipykernel_11176\\3516786065.py\u001b[0m in \u001b[0;36mfindSpace\u001b[1;34m(sensors)\u001b[0m\n\u001b[0;32m     32\u001b[0m                 \u001b[1;31m#if p == (14,11):\u001b[0m\u001b[1;33m\u001b[0m\u001b[1;33m\u001b[0m\u001b[0m\n\u001b[0;32m     33\u001b[0m                 \u001b[1;31m#    print(\"we tried it!\")\u001b[0m\u001b[1;33m\u001b[0m\u001b[1;33m\u001b[0m\u001b[0m\n\u001b[1;32m---> 34\u001b[1;33m                 \u001b[1;32mif\u001b[0m \u001b[1;32mnot\u001b[0m \u001b[0minSensor\u001b[0m\u001b[1;33m(\u001b[0m\u001b[0msensors\u001b[0m\u001b[1;33m,\u001b[0m\u001b[0mp\u001b[0m\u001b[1;33m)\u001b[0m \u001b[1;32mand\u001b[0m \u001b[1;32mnot\u001b[0m \u001b[0moutside\u001b[0m\u001b[1;33m(\u001b[0m\u001b[0mp\u001b[0m\u001b[1;33m)\u001b[0m\u001b[1;33m:\u001b[0m\u001b[1;33m\u001b[0m\u001b[1;33m\u001b[0m\u001b[0m\n\u001b[0m\u001b[0;32m     35\u001b[0m                     \u001b[1;32mreturn\u001b[0m \u001b[0mp\u001b[0m\u001b[1;33m\u001b[0m\u001b[1;33m\u001b[0m\u001b[0m\n\u001b[0;32m     36\u001b[0m \u001b[1;33m\u001b[0m\u001b[0m\n",
      "\u001b[1;32m~\\AppData\\Local\\Temp\\ipykernel_11176\\3516786065.py\u001b[0m in \u001b[0;36minSensor\u001b[1;34m(sensors, point)\u001b[0m\n\u001b[0;32m     17\u001b[0m \u001b[1;32mdef\u001b[0m \u001b[0minSensor\u001b[0m\u001b[1;33m(\u001b[0m\u001b[0msensors\u001b[0m\u001b[1;33m,\u001b[0m\u001b[0mpoint\u001b[0m\u001b[1;33m)\u001b[0m\u001b[1;33m:\u001b[0m\u001b[1;33m\u001b[0m\u001b[1;33m\u001b[0m\u001b[0m\n\u001b[0;32m     18\u001b[0m     \u001b[1;32mfor\u001b[0m \u001b[0ms\u001b[0m\u001b[1;33m,\u001b[0m\u001b[0md\u001b[0m \u001b[1;32min\u001b[0m \u001b[0msensors\u001b[0m\u001b[1;33m.\u001b[0m\u001b[0mitems\u001b[0m\u001b[1;33m(\u001b[0m\u001b[1;33m)\u001b[0m\u001b[1;33m:\u001b[0m\u001b[1;33m\u001b[0m\u001b[1;33m\u001b[0m\u001b[0m\n\u001b[1;32m---> 19\u001b[1;33m         \u001b[1;32mif\u001b[0m \u001b[0mabs\u001b[0m\u001b[1;33m(\u001b[0m\u001b[0mpoint\u001b[0m\u001b[1;33m[\u001b[0m\u001b[1;36m0\u001b[0m\u001b[1;33m]\u001b[0m\u001b[1;33m-\u001b[0m\u001b[0ms\u001b[0m\u001b[1;33m[\u001b[0m\u001b[1;36m0\u001b[0m\u001b[1;33m]\u001b[0m\u001b[1;33m)\u001b[0m\u001b[1;33m+\u001b[0m\u001b[0mabs\u001b[0m\u001b[1;33m(\u001b[0m\u001b[0mpoint\u001b[0m\u001b[1;33m[\u001b[0m\u001b[1;36m1\u001b[0m\u001b[1;33m]\u001b[0m\u001b[1;33m-\u001b[0m\u001b[0ms\u001b[0m\u001b[1;33m[\u001b[0m\u001b[1;36m1\u001b[0m\u001b[1;33m]\u001b[0m\u001b[1;33m)\u001b[0m \u001b[1;33m<=\u001b[0m \u001b[0md\u001b[0m\u001b[1;33m:\u001b[0m\u001b[1;33m\u001b[0m\u001b[1;33m\u001b[0m\u001b[0m\n\u001b[0m\u001b[0;32m     20\u001b[0m             \u001b[1;32mreturn\u001b[0m \u001b[1;32mTrue\u001b[0m\u001b[1;33m\u001b[0m\u001b[1;33m\u001b[0m\u001b[0m\n\u001b[0;32m     21\u001b[0m     \u001b[1;32mreturn\u001b[0m \u001b[1;32mFalse\u001b[0m\u001b[1;33m\u001b[0m\u001b[1;33m\u001b[0m\u001b[0m\n",
      "\u001b[1;31mKeyboardInterrupt\u001b[0m: "
     ]
    }
   ],
   "source": [
    "imax = 4000000\n",
    "#imax = 20\n",
    "def outside(p):\n",
    "    x,y = p\n",
    "    global imax\n",
    "    if x < 0:\n",
    "        return True\n",
    "    if y < 0:\n",
    "        return True\n",
    "    if x > imax:\n",
    "        return True\n",
    "    if y > imax:\n",
    "        return True\n",
    "    return False\n",
    "\n",
    "searchSpace = [(0,0),(4000000,4000000)]\n",
    "def inSensor(sensors,point):\n",
    "    for s,d in sensors.items():\n",
    "        if abs(point[0]-s[0])+abs(point[1]-s[1]) <= d:\n",
    "            return True\n",
    "    return False\n",
    "\n",
    "def findSpace(sensors):\n",
    "    for sensor,d in sensors.items():\n",
    "    # for point on edge:\n",
    "        x,y = sensor\n",
    "        for dx in range(d+2):\n",
    "            dy = d+1-dx\n",
    "            for sign in [(-1,-1),(-1,1),(1,1),(1,-1)]:\n",
    "                p = (x+dx*sign[0],y+dy*sign[1])\n",
    "                #print(p)\n",
    "                #if p == (14,11):\n",
    "                #    print(\"we tried it!\")\n",
    "                if not inSensor(sensors,p) and not outside(p):\n",
    "                    return p\n",
    "                \n",
    "\n",
    "\n",
    "findSpace(sensors)"
   ]
  },
  {
   "cell_type": "code",
   "execution_count": 51,
   "id": "1298dcd3-2ec7-445c-9313-70ef07f7d165",
   "metadata": {},
   "outputs": [
    {
     "data": {
      "text/plain": [
       "True"
      ]
     },
     "execution_count": 51,
     "metadata": {},
     "output_type": "execute_result"
    }
   ],
   "source": [
    "inSensor(sensors,(14,11))"
   ]
  },
  {
   "cell_type": "code",
   "execution_count": 54,
   "id": "7d9fa3c5-6b6d-4d6a-8e25-5642052ad970",
   "metadata": {},
   "outputs": [
    {
     "data": {
      "text/plain": [
       "False"
      ]
     },
     "execution_count": 54,
     "metadata": {},
     "output_type": "execute_result"
    }
   ],
   "source": [
    "inSensor(sensors,(2844848, 2658764))"
   ]
  },
  {
   "cell_type": "code",
   "execution_count": 55,
   "id": "17430e40-4351-43f1-a880-6f5a3c642d3f",
   "metadata": {},
   "outputs": [
    {
     "data": {
      "text/plain": [
       "False"
      ]
     },
     "execution_count": 55,
     "metadata": {},
     "output_type": "execute_result"
    }
   ],
   "source": [
    "outside((14,11))"
   ]
  },
  {
   "cell_type": "code",
   "execution_count": 56,
   "id": "1b842a0a-6f47-483c-8eb5-51f4f14c3c1c",
   "metadata": {},
   "outputs": [],
   "source": [
    "answer = (2844848, 2658764)"
   ]
  },
  {
   "cell_type": "code",
   "execution_count": 57,
   "id": "426c5582-f996-439a-bf7a-1d4b4c4d6ed5",
   "metadata": {},
   "outputs": [
    {
     "data": {
      "text/plain": [
       "11379394658764"
      ]
     },
     "execution_count": 57,
     "metadata": {},
     "output_type": "execute_result"
    }
   ],
   "source": [
    "4000000*answer[0] + answer[1]"
   ]
  },
  {
   "cell_type": "code",
   "execution_count": 58,
   "id": "b4b197cc-2915-4d9a-b281-303f5c6e6b44",
   "metadata": {},
   "outputs": [],
   "source": [
    "import z3"
   ]
  },
  {
   "cell_type": "code",
   "execution_count": null,
   "id": "54b93e15-2580-42cf-bc90-9e11a47a1481",
   "metadata": {},
   "outputs": [],
   "source": []
  },
  {
   "cell_type": "code",
   "execution_count": 59,
   "id": "50cc9f8d-0c81-43fa-a799-18d47b6e1027",
   "metadata": {},
   "outputs": [
    {
     "name": "stdout",
     "output_type": "stream",
     "text": [
      "sat\n",
      "[x = 2844848, y = 2658764]\n"
     ]
    }
   ],
   "source": [
    "\n",
    "s = z3.Solver()\n",
    "x = z3.Int(\"x\")\n",
    "y = z3.Int(\"y\")\n",
    "s.add(0 <= x)\n",
    "s.add(x <= 4000000)\n",
    "s.add(0 <= y)\n",
    "s.add(y <= 4000000)\n",
    "def z3_abs(x):\n",
    "    return z3.If(x >= 0, x, -x)\n",
    "for ln in data.split(\"\\n\"):\n",
    "    sx, sy, bx, by = [int(x) for x in re.findall(r\"-?\\d+\",ln)]\n",
    "    m = abs(sx - bx) + abs(sy - by)\n",
    "    s.add(z3_abs(sx - x) + z3_abs(sy - y) > m)\n",
    "    \n",
    "print(s.check())\n",
    "print(s.model())"
   ]
  },
  {
   "cell_type": "code",
   "execution_count": 61,
   "id": "42fbf9a4-b641-4115-a693-2739027aae00",
   "metadata": {},
   "outputs": [
    {
     "name": "stdout",
     "output_type": "stream",
     "text": [
      "(:added-eqs                   2374\n",
      " :arith-eq-adapter            866\n",
      " :arith-bound-propagations-lp 299\n",
      " :arith-conflicts             62\n",
      " :arith-diseq                 45\n",
      " :arith-fixed-eqs             713\n",
      " :arith-lower                 1069\n",
      " :arith-make-feasible         470\n",
      " :arith-max-columns           269\n",
      " :arith-max-rows              215\n",
      " :arith-upper                 1223\n",
      " :binary-propagations         1887\n",
      " :conflicts                   119\n",
      " :decisions                   464\n",
      " :del-clause                  763\n",
      " :final-checks                1\n",
      " :max-memory                  23.37\n",
      " :memory                      21.81\n",
      " :minimized-lits              17\n",
      " :mk-bool-var                 1620\n",
      " :mk-clause                   989\n",
      " :mk-clause-binary            327\n",
      " :num-allocs                  25216880\n",
      " :num-checks                  1\n",
      " :propagations                2564\n",
      " :restarts                    1\n",
      " :rlimit-count                196988\n",
      " :time                        0.28)\n"
     ]
    }
   ],
   "source": [
    "print(s.statistics())"
   ]
  },
  {
   "cell_type": "code",
   "execution_count": null,
   "id": "7c9310f6-3f04-4896-af8b-6cbb071f78bf",
   "metadata": {},
   "outputs": [],
   "source": []
  }
 ],
 "metadata": {
  "kernelspec": {
   "display_name": "Python 3 (ipykernel)",
   "language": "python",
   "name": "python3"
  },
  "language_info": {
   "codemirror_mode": {
    "name": "ipython",
    "version": 3
   },
   "file_extension": ".py",
   "mimetype": "text/x-python",
   "name": "python",
   "nbconvert_exporter": "python",
   "pygments_lexer": "ipython3",
   "version": "3.9.13"
  }
 },
 "nbformat": 4,
 "nbformat_minor": 5
}
