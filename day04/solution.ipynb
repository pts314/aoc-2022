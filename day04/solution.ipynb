{
 "cells": [
  {
   "cell_type": "code",
   "execution_count": 2,
   "id": "434bc9ae-dace-4194-89c4-752f8eeb43ca",
   "metadata": {},
   "outputs": [],
   "source": [
    "import re"
   ]
  },
  {
   "cell_type": "code",
   "execution_count": 3,
   "id": "3fa19b08-5993-48d4-aaa4-79037f698b8b",
   "metadata": {},
   "outputs": [],
   "source": [
    "with open(\"example.txt\") as f:\n",
    "    data = f.read()"
   ]
  },
  {
   "cell_type": "code",
   "execution_count": 4,
   "id": "cd76a6b8-ca2a-4db8-96cd-1db2706a6d82",
   "metadata": {},
   "outputs": [],
   "source": [
    "with open(\"input.txt\") as f:\n",
    "    data = f.read()"
   ]
  },
  {
   "cell_type": "code",
   "execution_count": 9,
   "id": "d1b5a06e-2533-428f-a619-29b2ed3491fa",
   "metadata": {},
   "outputs": [
    {
     "name": "stdout",
     "output_type": "stream",
     "text": [
      "562\n"
     ]
    }
   ],
   "source": [
    "sum1 = 0\n",
    "for line in data.strip().split(\"\\n\"):\n",
    "    p11,p12,p21,p22 = (int(x) for x in re.split(r\"\\-|\\,\",line))\n",
    "    if p11 <= p21 and p12 >= p22:\n",
    "        #print(line)\n",
    "        #print(\"first\")\n",
    "        sum1+=1\n",
    "    elif p11 >= p21 and p12 <= p22:\n",
    "        #print(line)\n",
    "        #print(\"second\")\n",
    "        sum1+=1\n",
    "print(sum1)"
   ]
  },
  {
   "cell_type": "code",
   "execution_count": 6,
   "id": "23e89112-bfc7-42e3-926c-de2dfa8a15e2",
   "metadata": {},
   "outputs": [
    {
     "name": "stdout",
     "output_type": "stream",
     "text": [
      "7-24,8-8\n",
      "2-75,37-51\n",
      "47-78,20-39\n",
      "53-91,34-53\n",
      "13-50,\n"
     ]
    }
   ],
   "source": [
    "print(data[0:50])"
   ]
  },
  {
   "cell_type": "code",
   "execution_count": 6,
   "id": "aabc6753-2e51-4dda-b800-04281c8e2d73",
   "metadata": {},
   "outputs": [
    {
     "name": "stdout",
     "output_type": "stream",
     "text": [
      "562\n"
     ]
    }
   ],
   "source": [
    "print(sum1)"
   ]
  },
  {
   "cell_type": "code",
   "execution_count": 13,
   "id": "7a3293e7-0ee8-4f37-94c8-f27a89938cf9",
   "metadata": {},
   "outputs": [],
   "source": [
    "sum1 = [0]*4\n",
    "for line in data.strip().split(\"\\n\"):\n",
    "    p11,p12,p21,p22 = (int(x) for x in re.split(r\"\\-|\\,\",line))\n",
    "    if  p21 <= p11 and p11 <= p22:\n",
    "        #print(line)\n",
    "        #print(\"first\")\n",
    "        sum1[0]+=1\n",
    "    elif p11 <= p21 and p21 <= p12:\n",
    "        sum1[2]+=1\n",
    "    elif p21 <= p12 and p12 <= p22:\n",
    "        #print(line)\n",
    "        #print(\"second\")\n",
    "        sum1[1]+=1\n",
    "    elif p11 <= p22 and p22 <= p12:\n",
    "        sum1[3]+=1"
   ]
  },
  {
   "cell_type": "code",
   "execution_count": 14,
   "id": "12199433-3e7c-4475-9b36-ba70172ff9d4",
   "metadata": {},
   "outputs": [
    {
     "name": "stdout",
     "output_type": "stream",
     "text": [
      "[548, 0, 376, 0]\n"
     ]
    }
   ],
   "source": [
    "print(sum1)"
   ]
  },
  {
   "cell_type": "code",
   "execution_count": 9,
   "id": "bad6ffee-762d-41d8-ad63-b99334751b49",
   "metadata": {},
   "outputs": [],
   "source": [
    "sum1 = [0]*4\n",
    "for line in data.strip().split(\"\\n\"):\n",
    "    p11,p12,p21,p22 = (int(x) for x in re.split(r\"\\-|\\,\",line))\n",
    "    if p11 <= p22 and p21 <= p12:\n",
    "        #print(line)\n",
    "        #print(\"first\")\n",
    "        sum1[0]+=1\n",
    "    elif p12 >= p21 and p12 <= p22:\n",
    "        #print(line)\n",
    "        #print(\"second\")\n",
    "        sum1[1]+=1\n",
    "    elif p21 >= p11 and p21 <= p12:\n",
    "        sum1[2]+=1\n",
    "    elif p22 >= p11 and p22 <= p12:\n",
    "        sum1[3]+=1"
   ]
  },
  {
   "cell_type": "code",
   "execution_count": 10,
   "id": "d0604668-a8fd-4fed-968d-09c1fc62bc01",
   "metadata": {},
   "outputs": [
    {
     "name": "stdout",
     "output_type": "stream",
     "text": [
      "[924, 0, 0, 0]\n"
     ]
    }
   ],
   "source": [
    "print(sum1)"
   ]
  },
  {
   "cell_type": "code",
   "execution_count": 11,
   "id": "98f7ce2f-2c9f-43f8-afaf-0676f51cbd1d",
   "metadata": {},
   "outputs": [],
   "source": [
    "sum1 = 0\n",
    "for line in data.strip().split(\"\\n\"):\n",
    "    p11,p12,p21,p22 = (int(x) for x in re.split(r\"\\-|\\,\",line))\n",
    "    intersect = set(range(p11,p12+1)) & set(range(p21,p22+1))\n",
    "    #print(line)\n",
    "    #print(intersect)\n",
    "    if len(intersect):\n",
    "        sum1+=1"
   ]
  },
  {
   "cell_type": "code",
   "execution_count": 12,
   "id": "160f62ab-0bcd-4c5d-bb9f-afd75522b7ad",
   "metadata": {},
   "outputs": [
    {
     "name": "stdout",
     "output_type": "stream",
     "text": [
      "924\n"
     ]
    }
   ],
   "source": [
    "print(sum1)"
   ]
  },
  {
   "cell_type": "code",
   "execution_count": 7,
   "id": "3cb69705-395e-49ce-b0d7-67b7d42a58f9",
   "metadata": {},
   "outputs": [
    {
     "name": "stdout",
     "output_type": "stream",
     "text": [
      "562\n"
     ]
    }
   ],
   "source": [
    "# Use a regular expression to extract the four numbers from each line\n",
    "pattern = r\"(\\d+)-(\\d+),(\\d+)-(\\d+)\"\n",
    "\n",
    "# Initialize the sum to 0\n",
    "sum1 = 0\n",
    "\n",
    "# Loop through each line in the data\n",
    "for line in data.strip().split(\"\\n\"):\n",
    "    # Extract the four numbers from the line\n",
    "    point1_x, point1_y, point2_x, point2_y = re.findall(pattern, line)[0]\n",
    "\n",
    "    # Convert the numbers to integers\n",
    "    point1_x = int(point1_x)\n",
    "    point1_y = int(point1_y)\n",
    "    point2_x = int(point2_x)\n",
    "    point2_y = int(point2_y)\n",
    "\n",
    "    # Check the conditions and add the appropriate value to the sum\n",
    "    if point1_x <= point2_x and point1_y >= point2_y:\n",
    "        sum1 += 1\n",
    "    elif point1_x >= point2_x and point1_y <= point2_y:\n",
    "        sum1 += 1\n",
    "\n",
    "# Print the final sum\n",
    "print(sum1)"
   ]
  },
  {
   "cell_type": "code",
   "execution_count": null,
   "id": "39765021-68a1-4eab-ba50-13129a8739a5",
   "metadata": {},
   "outputs": [],
   "source": []
  }
 ],
 "metadata": {
  "kernelspec": {
   "display_name": "Python 3 (ipykernel)",
   "language": "python",
   "name": "python3"
  },
  "language_info": {
   "codemirror_mode": {
    "name": "ipython",
    "version": 3
   },
   "file_extension": ".py",
   "mimetype": "text/x-python",
   "name": "python",
   "nbconvert_exporter": "python",
   "pygments_lexer": "ipython3",
   "version": "3.9.13"
  }
 },
 "nbformat": 4,
 "nbformat_minor": 5
}
