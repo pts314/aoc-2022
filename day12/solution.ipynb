{
 "cells": [
  {
   "cell_type": "code",
   "execution_count": 1,
   "id": "731e01f2-f9f9-4bc1-9011-398fb073aca5",
   "metadata": {},
   "outputs": [],
   "source": [
    "import re\n",
    "import numpy as np\n",
    "import math\n",
    "from matplotlib import pyplot as plt\n",
    "import copy"
   ]
  },
  {
   "cell_type": "code",
   "execution_count": 2,
   "id": "266e0848-ca2c-4049-bef6-551100c4efde",
   "metadata": {},
   "outputs": [],
   "source": [
    "with open(\"example.txt\") as f:\n",
    "    data = f.read()\n",
    "    lines = data.strip().split(\"\\n\")"
   ]
  },
  {
   "cell_type": "code",
   "execution_count": 30,
   "id": "5b56b8d6-41e2-41f3-b509-307c41bad83f",
   "metadata": {},
   "outputs": [],
   "source": [
    "with open(\"input.txt\") as f:\n",
    "    data = f.read()\n",
    "    lines = data.strip().split(\"\\n\")"
   ]
  },
  {
   "cell_type": "code",
   "execution_count": 31,
   "id": "a8822b7d-f2a4-4a54-b8f1-5d6f777f0f95",
   "metadata": {},
   "outputs": [],
   "source": [
    "board = []\n",
    "for line in lines:\n",
    "    board.append([])\n",
    "    for char in line:\n",
    "        if char.islower():\n",
    "            hieght = ord(char) - ord(\"a\") + 1\n",
    "        elif char == \"S\":\n",
    "            hieght = 28\n",
    "        elif char == \"E\":\n",
    "            hieght = 27\n",
    "        board[-1].append(hieght)\n",
    "        #print(ord(char))\n",
    "board = np.array(board)"
   ]
  },
  {
   "cell_type": "code",
   "execution_count": 32,
   "id": "2d12a54f-eb68-4e3b-9d7a-60d47e4e039d",
   "metadata": {},
   "outputs": [
    {
     "name": "stdout",
     "output_type": "stream",
     "text": [
      "(41, 70)\n"
     ]
    }
   ],
   "source": [
    "print(board.shape)"
   ]
  },
  {
   "cell_type": "code",
   "execution_count": 33,
   "id": "161c0531-c74b-45d0-aba8-cead5aeff0a3",
   "metadata": {},
   "outputs": [
    {
     "name": "stdout",
     "output_type": "stream",
     "text": [
      "3\n"
     ]
    }
   ],
   "source": [
    "print(board[(0,3)])"
   ]
  },
  {
   "cell_type": "code",
   "execution_count": 34,
   "id": "022d8fa0-eafe-4b52-8d0e-0def5422c64f",
   "metadata": {},
   "outputs": [],
   "source": [
    "points = {(0,0):0}"
   ]
  },
  {
   "cell_type": "code",
   "execution_count": 35,
   "id": "dbbd6683-2bc5-4351-93d0-01d05c55128a",
   "metadata": {},
   "outputs": [
    {
     "name": "stdout",
     "output_type": "stream",
     "text": [
      "(20, 46)\n",
      "<class 'dict'>\n",
      "1\n"
     ]
    }
   ],
   "source": [
    "end = np.where(board==27)\n",
    "end = (end[0][-1],end[1][-1])\n",
    "print(end)\n",
    "part1 = True\n",
    "if part1:\n",
    "    start = np.where(board==28)\n",
    "else:\n",
    "    start = np.where(board==1)\n",
    "tmp_start = {}\n",
    "for point in zip(start[0],start[1]):\n",
    "    tmp_start[point] = 0\n",
    "        #print(point)\n",
    "        #print(board[point])\n",
    "start = tmp_start\n",
    "print(type(start))\n",
    "#print(start)\n",
    "#start = {(start[0],start[1]):0}\n",
    "points = copy.deepcopy(start)\n",
    "past_points = copy.deepcopy(start)\n",
    "#distance = traverse(board,start,start,end)\n",
    "print(len(start))"
   ]
  },
  {
   "cell_type": "code",
   "execution_count": null,
   "id": "9814e80f-80bd-4a7c-bcd1-1f7f10529d76",
   "metadata": {},
   "outputs": [],
   "source": []
  },
  {
   "cell_type": "code",
   "execution_count": 36,
   "id": "43b7b41c-33a6-4523-98fe-f5953c932ee4",
   "metadata": {},
   "outputs": [],
   "source": [
    "#breadth first search\n",
    "#def traverse(board,points,past_points,end):\n",
    "new_points = {}\n",
    "\n",
    "abort_count = 1000\n",
    "it = 0\n",
    "#while end not in new_points and it < abort_count:\n",
    "while len(points) > 0 and it < abort_count:\n",
    "    it += 1\n",
    "    new_points = {}\n",
    "    #print(\"started with\",points)\n",
    "    #print(\"past_points\",past_points)\n",
    "    for point in points:\n",
    "        for d in [(-1,0),(1,0),(0,-1),(0,1)]:\n",
    "            new_point = (point[0]+d[0],point[1]+d[1])\n",
    "            #print(\"trying \",new_point)\n",
    "            #print(\"thing in other\",new_point not in past_points )\n",
    "            if (new_point not in past_points \n",
    "                and new_point[0] >= 0 and new_point[0] < board.shape[0]\n",
    "                and new_point[1] >= 0 and new_point[1] < board.shape[1]\n",
    "                and board[point]+1 >= board[new_point]):\n",
    "                #print(\"adding\",new_point)\n",
    "                new_points[new_point] = points[point]+1\n",
    "    \n",
    "    #new_points_dict = past_points | new_points\n",
    "    past_points.update(new_points)\n",
    "    points = new_points\n",
    "    \n",
    "    #if end in new_points:\n",
    "    #    return new_points[end]\n",
    "    #else:\n",
    "        #print(type(past_points))\n",
    "        #print(type(new_points))\n",
    "    #    new_points_dict = past_points | new_points\n",
    "        #print(new_points_dict)\n",
    "    #    return traverse(board,new_points,new_points_dict,end)"
   ]
  },
  {
   "cell_type": "code",
   "execution_count": 37,
   "id": "e34c9ed0-0a5c-45b7-80a1-88d564bf1fdb",
   "metadata": {},
   "outputs": [
    {
     "name": "stdout",
     "output_type": "stream",
     "text": [
      "352\n"
     ]
    }
   ],
   "source": [
    "print(past_points[end])"
   ]
  },
  {
   "cell_type": "code",
   "execution_count": 38,
   "id": "b991052b-e5ab-4f5f-a7b8-4a8b930e559d",
   "metadata": {},
   "outputs": [],
   "source": [
    "#import sys\n",
    "#print(sys.getrecursionlimit())\n",
    "\n",
    "\n",
    "\n",
    "#sys.setrecursionlimit(1500)"
   ]
  },
  {
   "cell_type": "code",
   "execution_count": 39,
   "id": "f8407a0f-6430-4226-9235-e0c8d2f1ae93",
   "metadata": {},
   "outputs": [],
   "source": [
    "screen = np.zeros(board.shape)"
   ]
  },
  {
   "cell_type": "code",
   "execution_count": 40,
   "id": "2961de43-5852-4b98-9d89-c418317bd230",
   "metadata": {},
   "outputs": [],
   "source": [
    "for point in past_points:\n",
    "    screen[point] = past_points[point]"
   ]
  },
  {
   "cell_type": "code",
   "execution_count": null,
   "id": "5d35dcf1-6fe1-45ab-bccd-19b0c3e9b9de",
   "metadata": {},
   "outputs": [],
   "source": []
  },
  {
   "cell_type": "code",
   "execution_count": 41,
   "id": "7c566eff-d931-4da5-a685-2190ce588eda",
   "metadata": {},
   "outputs": [
    {
     "data": {
      "text/plain": [
       "<matplotlib.image.AxesImage at 0x1bbd6123a30>"
      ]
     },
     "execution_count": 41,
     "metadata": {},
     "output_type": "execute_result"
    },
    {
     "data": {
      "image/png": "[encoded data removed]",
      "text/plain": [
       "<Figure size 819.512x480 with 1 Axes>"
      ]
     },
     "metadata": {},
     "output_type": "display_data"
    }
   ],
   "source": [
    "plt.matshow(screen)"
   ]
  },
  {
   "cell_type": "code",
   "execution_count": 29,
   "id": "4dee0e9f-f070-4d24-9aea-b4fab6f51e9a",
   "metadata": {},
   "outputs": [
    {
     "data": {
      "text/plain": [
       "<matplotlib.image.AxesImage at 0x1bbd600cc10>"
      ]
     },
     "execution_count": 29,
     "metadata": {},
     "output_type": "execute_result"
    },
    {
     "data": {
      "image/png": "[encoded data removed]",
      "text/plain": [
       "<Figure size 819.512x480 with 1 Axes>"
      ]
     },
     "metadata": {},
     "output_type": "display_data"
    }
   ],
   "source": [
    "plt.matshow(board)"
   ]
  },
  {
   "cell_type": "code",
   "execution_count": null,
   "id": "f7f59286-5453-4152-ac5c-0b7f13923967",
   "metadata": {},
   "outputs": [],
   "source": []
  }
 ],
 "metadata": {
  "kernelspec": {
   "display_name": "Python 3 (ipykernel)",
   "language": "python",
   "name": "python3"
  },
  "language_info": {
   "codemirror_mode": {
    "name": "ipython",
    "version": 3
   },
   "file_extension": ".py",
   "mimetype": "text/x-python",
   "name": "python",
   "nbconvert_exporter": "python",
   "pygments_lexer": "ipython3",
   "version": "3.9.13"
  }
 },
 "nbformat": 4,
 "nbformat_minor": 5
}
