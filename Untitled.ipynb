{
 "cells": [
  {
   "cell_type": "code",
   "execution_count": 23,
   "id": "5439fa81-e787-45b7-9b31-bbf4815afc49",
   "metadata": {},
   "outputs": [],
   "source": [
    "import intervaltree\n",
    "import collections"
   ]
  },
  {
   "cell_type": "code",
   "execution_count": 3,
   "id": "1a2934df-d82a-4dc8-aa5a-6b7b9c81c692",
   "metadata": {},
   "outputs": [],
   "source": [
    "foo = intervaltree.IntervalTree()"
   ]
  },
  {
   "cell_type": "code",
   "execution_count": 33,
   "id": "dd41475c-240e-41ba-b735-ec8be8063764",
   "metadata": {},
   "outputs": [
    {
     "name": "stdout",
     "output_type": "stream",
     "text": [
      "Counter({'t': 2, 'r': 1, 'e': 1, 'a': 1})\n",
      "Counter({'t': 2, 'e': 1, 'r': 1, 'a': 1})\n",
      "True\n"
     ]
    }
   ],
   "source": [
    "foo = collections.Counter(\"treat\")\n",
    "print(foo)\n",
    "bar = collections.Counter(\"tetra\")\n",
    "print(bar)\n",
    "print(foo==bar)"
   ]
  },
  {
   "cell_type": "code",
   "execution_count": 13,
   "id": "d755aa9f-7147-48bf-947b-7e385ffbbfca",
   "metadata": {},
   "outputs": [
    {
     "name": "stdout",
     "output_type": "stream",
     "text": [
      "IntervalTree([Interval(-15, 15), Interval(0, 1), Interval(10, 14)])\n"
     ]
    }
   ],
   "source": [
    "print(foo)"
   ]
  },
  {
   "cell_type": "code",
   "execution_count": 14,
   "id": "a590ebbb-dd5a-46a6-a7b6-866c7c8af165",
   "metadata": {},
   "outputs": [],
   "source": [
    "with open(\"day04/input.txt\") as f:\n",
    "    data = f.read()"
   ]
  },
  {
   "cell_type": "code",
   "execution_count": 28,
   "id": "8106d773-7323-439f-90b5-211b03fdc575",
   "metadata": {},
   "outputs": [],
   "source": [
    "foo = intervaltree.IntervalTree()\n",
    "for i in data.strip().split(\"\\n\"):\n",
    "    for interval in i.split(\",\"):\n",
    "        a,b = interval.split(\"-\")\n",
    "        foo.addi(int(a),int(b)+.5)"
   ]
  },
  {
   "cell_type": "code",
   "execution_count": 32,
   "id": "fd58b6b0-6475-4a67-9c04-086259c35389",
   "metadata": {},
   "outputs": [
    {
     "data": {
      "text/plain": [
       "337"
      ]
     },
     "execution_count": 32,
     "metadata": {},
     "output_type": "execute_result"
    }
   ],
   "source": [
    "len(foo.at(10))"
   ]
  },
  {
   "cell_type": "code",
   "execution_count": null,
   "id": "302f6546-2a73-40c7-83b8-dc2e53878da2",
   "metadata": {},
   "outputs": [],
   "source": []
  },
  {
   "cell_type": "code",
   "execution_count": null,
   "id": "eee156f5-bede-4ff8-8e17-6f9dcb45903f",
   "metadata": {},
   "outputs": [],
   "source": []
  },
  {
   "cell_type": "code",
   "execution_count": 8,
   "id": "4bf915df-f567-48e8-93f8-3cc975331257",
   "metadata": {},
   "outputs": [
    {
     "name": "stdout",
     "output_type": "stream",
     "text": [
      "3.1415826535897198\n"
     ]
    }
   ],
   "source": [
    "def calculate_pi(precision):\n",
    "    # Set the initial value of pi to 3\n",
    "    pi = 0\n",
    "\n",
    "    # Calculate the next term in the series and add it to the current value of pi\n",
    "    for i in range(precision):\n",
    "        pi += (4 / (2 * i + 1)) * ((-1) ** i)\n",
    "\n",
    "    # Return the final value of pi\n",
    "    return pi\n",
    "\n",
    "# Test the function by calculating pi to 10 decimal places\n",
    "print(calculate_pi(100000))"
   ]
  },
  {
   "cell_type": "code",
   "execution_count": 2,
   "id": "1f264f50-bdb6-4259-809e-9efde72f2a54",
   "metadata": {},
   "outputs": [
    {
     "name": "stdout",
     "output_type": "stream",
     "text": [
      "3.1415926535897913\n"
     ]
    }
   ],
   "source": [
    "def calculate_pi(precision):\n",
    "    # Set the initial value of pi to 0\n",
    "    pi = 0\n",
    "\n",
    "    # Calculate the next digit of pi and add it to the current value of pi\n",
    "    for i in range(precision):\n",
    "        pi += (1 / (16 ** i)) * ((4 / (8 * i + 1)) - (2 / (8 * i + 4)) - (1 / (8 * i + 5)) - (1 / (8 * i + 6)))\n",
    "\n",
    "    # Return the final value of pi\n",
    "    return pi\n",
    "\n",
    "# Test the function by calculating pi to 10 decimal places\n",
    "print(calculate_pi(10))\n"
   ]
  },
  {
   "cell_type": "code",
   "execution_count": null,
   "id": "5f366d3b-522f-4b4f-80ba-852af4c2c096",
   "metadata": {},
   "outputs": [],
   "source": []
  }
 ],
 "metadata": {
  "kernelspec": {
   "display_name": "Python 3 (ipykernel)",
   "language": "python",
   "name": "python3"
  },
  "language_info": {
   "codemirror_mode": {
    "name": "ipython",
    "version": 3
   },
   "file_extension": ".py",
   "mimetype": "text/x-python",
   "name": "python",
   "nbconvert_exporter": "python",
   "pygments_lexer": "ipython3",
   "version": "3.9.13"
  }
 },
 "nbformat": 4,
 "nbformat_minor": 5
}
