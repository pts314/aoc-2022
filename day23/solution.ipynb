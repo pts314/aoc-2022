{
 "cells": [
  {
   "cell_type": "code",
   "execution_count": 1,
   "id": "731e01f2-f9f9-4bc1-9011-398fb073aca5",
   "metadata": {},
   "outputs": [],
   "source": [
    "import re\n",
    "import numpy as np\n",
    "import math\n",
    "from matplotlib import pyplot as plt\n",
    "from collections import defaultdict"
   ]
  },
  {
   "cell_type": "code",
   "execution_count": 94,
   "id": "266e0848-ca2c-4049-bef6-551100c4efde",
   "metadata": {},
   "outputs": [],
   "source": [
    "with open(\"example.txt\") as f:\n",
    "    data = f.read()\n",
    "    lines = data.strip().split(\"\\n\")\n",
    "    records = data.strip().split(\"\\n\\n\")"
   ]
  },
  {
   "cell_type": "code",
   "execution_count": 100,
   "id": "5b56b8d6-41e2-41f3-b509-307c41bad83f",
   "metadata": {},
   "outputs": [],
   "source": [
    "with open(\"input.txt\") as f:\n",
    "    data = f.read()\n",
    "    lines = data.strip().split(\"\\n\")   \n",
    "    records = data.strip().split(\"\\n\\n\")"
   ]
  },
  {
   "cell_type": "code",
   "execution_count": 101,
   "id": "a8822b7d-f2a4-4a54-b8f1-5d6f777f0f95",
   "metadata": {},
   "outputs": [],
   "source": [
    "#board = np.array([list(x) for x in lines])\n",
    "#plt.matshow(screen)"
   ]
  },
  {
   "cell_type": "code",
   "execution_count": 102,
   "id": "2d12a54f-eb68-4e3b-9d7a-60d47e4e039d",
   "metadata": {},
   "outputs": [
    {
     "name": "stdout",
     "output_type": "stream",
     "text": [
      "[[1 0 1 ... 0 0 0]\n",
      " [0 0 0 ... 0 0 1]\n",
      " [1 1 0 ... 0 0 0]\n",
      " ...\n",
      " [1 0 1 ... 0 0 0]\n",
      " [0 1 0 ... 0 0 0]\n",
      " [1 1 1 ... 0 0 0]]\n"
     ]
    }
   ],
   "source": [
    "board = []\n",
    "for line in lines:\n",
    "    board.append([1 if x == \"#\" else 0 for x in line])\n",
    "board = np.array(board)\n",
    "print(board)"
   ]
  },
  {
   "cell_type": "code",
   "execution_count": 103,
   "id": "903f4bdd-f638-4902-bf24-bf9c327c9b95",
   "metadata": {},
   "outputs": [],
   "source": [
    "def print_board(points):\n",
    "    maxy,miny,maxx,minx = 0,0,0,0\n",
    "    for point in points:\n",
    "        maxy = max(maxy,point[0])\n",
    "        maxx = max(maxx,point[1])\n",
    "        miny = min(miny,point[0])\n",
    "        minx = min(minx,point[1])\n",
    "    print((maxy-miny),(maxx-minx))\n",
    "    print(len(points))\n",
    "    example_board = np.zeros(((maxy-miny+1),(maxx-minx+1)))\n",
    "    for point in points:\n",
    "        example_board[point[0]-miny,point[1]-minx] = 1\n",
    "    print(example_board)"
   ]
  },
  {
   "cell_type": "code",
   "execution_count": 105,
   "id": "629bffdf-2f98-4344-a1a1-b70c8e08eaec",
   "metadata": {},
   "outputs": [
    {
     "name": "stdout",
     "output_type": "stream",
     "text": [
      "2715\n",
      "Part 2: simulation ended at round 1036\n"
     ]
    }
   ],
   "source": [
    "dirs_index = [(-1,0),(1,0),(0,-1),(0,1)]\n",
    "dirs = {(-1,0):[(-1,-1),(-1,0),(-1,1)],(1,0):[(1,-1),(1,0),(1,1)],(0,-1):[(-1,-1),(0,-1),(1,-1)],(0,1):[(-1,1),(0,1),(1,1)]}\n",
    "locations = np.where(board==1)\n",
    "points = [(x,y) for x,y in zip(locations[0],locations[1])]\n",
    "print(len(points))\n",
    "points = set(points)\n",
    "for i in range(100000):\n",
    "    new_points = {}\n",
    "    for point in points:\n",
    "        elfFound = False\n",
    "        new_point = None\n",
    "        for d in dirs_index:\n",
    "            checks = dirs[d]\n",
    "            directionGood = True\n",
    "            for check in checks:\n",
    "                #print(point,check)\n",
    "                tmp_point = (point[0]+check[0],point[1]+check[1])\n",
    "                if tmp_point in points:\n",
    "                    directionGood = False\n",
    "                    elfFound = True\n",
    "            if new_point == None and directionGood == True:\n",
    "                new_point = (point[0]+d[0],point[1]+d[1])\n",
    "\n",
    "        if elfFound and new_point is not None:\n",
    "            if new_point not in new_points:\n",
    "                new_points[new_point] = [point]\n",
    "            else:\n",
    "                # thus both points will not actually be updated, we'll take care of that below\n",
    "                new_points[new_point].append(point)\n",
    "        else:\n",
    "            new_points[point] = [point]\n",
    "    \n",
    "    checked_new_points = set()\n",
    "    for new_point,old_points in new_points.items():\n",
    "        if len(old_points) == 1:\n",
    "            checked_new_points.add(new_point)\n",
    "        else:\n",
    "            for old_point in old_points:\n",
    "                checked_new_points.add(old_point)\n",
    "    \n",
    "    if (points == checked_new_points):\n",
    "        print(\"Part 2: simulation ended at round\",i+1)\n",
    "        break\n",
    "    points = checked_new_points\n",
    "    dirs_index = dirs_index[1:]+[dirs_index[0]]\n",
    "    #print_board(points)"
   ]
  },
  {
   "cell_type": "code",
   "execution_count": 92,
   "id": "5a9fd7fa-f597-40e0-8b03-a2dd9b2ef7cf",
   "metadata": {},
   "outputs": [
    {
     "name": "stdout",
     "output_type": "stream",
     "text": [
      "82 81\n",
      "2715\n",
      "p1 4091\n",
      "82 81\n",
      "2715\n",
      "[[0. 0. 0. ... 0. 0. 0.]\n",
      " [0. 0. 0. ... 0. 0. 0.]\n",
      " [0. 0. 0. ... 0. 0. 0.]\n",
      " ...\n",
      " [0. 0. 0. ... 0. 0. 0.]\n",
      " [0. 0. 0. ... 0. 0. 0.]\n",
      " [0. 0. 0. ... 0. 0. 0.]]\n"
     ]
    }
   ],
   "source": [
    "maxy,miny,maxx,minx = 0,0,0,0\n",
    "for point in points:\n",
    "    maxy = max(maxy,point[0])\n",
    "    maxx = max(maxx,point[1])\n",
    "    miny = min(miny,point[0])\n",
    "    minx = min(minx,point[1])\n",
    "print((maxy-miny),(maxx-minx))\n",
    "print(len(points))\n",
    "print(\"p1\",(maxy-miny+1)*(maxx-minx+1)-len(points))\n",
    "print_board(points)"
   ]
  },
  {
   "cell_type": "code",
   "execution_count": 43,
   "id": "4cd993d6-0b11-42da-9f63-b14ce6445f65",
   "metadata": {},
   "outputs": [],
   "source": [
    "end_example = \"\"\"......#.....\n",
    "..........#.\n",
    ".#.#..#.....\n",
    ".....#......\n",
    "..#.....#..#\n",
    "#......##...\n",
    "....##......\n",
    ".#........#.\n",
    "...#.#..#...\n",
    "............\n",
    "...#..#..#..\"\"\""
   ]
  },
  {
   "cell_type": "code",
   "execution_count": 46,
   "id": "49c38d03-35f0-4025-8eba-5dc7dd4e0e24",
   "metadata": {},
   "outputs": [
    {
     "data": {
      "text/plain": [
       "12"
      ]
     },
     "execution_count": 46,
     "metadata": {},
     "output_type": "execute_result"
    }
   ],
   "source": [
    "len(end_example.split(\"\\n\"))\n",
    "len(end_example.split(\"\\n\")[0])"
   ]
  },
  {
   "cell_type": "code",
   "execution_count": null,
   "id": "ac7b7ba9-e4d4-4df9-b6ed-35c4e8c30e8e",
   "metadata": {},
   "outputs": [],
   "source": []
  }
 ],
 "metadata": {
  "kernelspec": {
   "display_name": "Python 3 (ipykernel)",
   "language": "python",
   "name": "python3"
  },
  "language_info": {
   "codemirror_mode": {
    "name": "ipython",
    "version": 3
   },
   "file_extension": ".py",
   "mimetype": "text/x-python",
   "name": "python",
   "nbconvert_exporter": "python",
   "pygments_lexer": "ipython3",
   "version": "3.9.13"
  }
 },
 "nbformat": 4,
 "nbformat_minor": 5
}
