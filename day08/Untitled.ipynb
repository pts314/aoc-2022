{
 "cells": [
  {
   "cell_type": "code",
   "execution_count": 4,
   "id": "99def69b-cfda-4692-bd1b-711b96d90368",
   "metadata": {},
   "outputs": [],
   "source": [
    "import numpy as np"
   ]
  },
  {
   "cell_type": "code",
   "execution_count": 82,
   "id": "9e104813-308a-4f49-bef7-fd404af6fe27",
   "metadata": {},
   "outputs": [],
   "source": [
    "with open(\"example.txt\") as f:\n",
    "    data = f.read()"
   ]
  },
  {
   "cell_type": "code",
   "execution_count": 113,
   "id": "e52965da-ecbd-4c14-9c20-9e663b1b5a02",
   "metadata": {},
   "outputs": [],
   "source": [
    "with open(\"input.txt\") as f:\n",
    "    data = f.read()"
   ]
  },
  {
   "cell_type": "code",
   "execution_count": 114,
   "id": "4c8cc98e-c06d-403e-af5c-5be012f369de",
   "metadata": {},
   "outputs": [],
   "source": [
    "board = []\n",
    "lines = data.strip().split(\"\\n\")\n",
    "for i in range(len(lines)):\n",
    "    board.append([])\n",
    "    for j in range(len(lines[i])):\n",
    "        board[i].append(lines[i][j])\n",
    "        "
   ]
  },
  {
   "cell_type": "code",
   "execution_count": 115,
   "id": "17084ff0-0c8d-469e-9216-6589b52cc171",
   "metadata": {},
   "outputs": [],
   "source": [
    "b = np.array(board)"
   ]
  },
  {
   "cell_type": "code",
   "execution_count": 116,
   "id": "3071fed0-5b47-4d38-bf37-3e42b97f64a3",
   "metadata": {},
   "outputs": [],
   "source": [
    "seen = np.zeros(b.shape)"
   ]
  },
  {
   "cell_type": "code",
   "execution_count": 117,
   "id": "a7f6d5b8-aeee-48b7-bceb-544b26d5f10e",
   "metadata": {},
   "outputs": [],
   "source": [
    "seen[0,:] = 1\n",
    "seen[:,0] = 1\n",
    "seen[-1,:] = 1\n",
    "seen[:,-1] = 1"
   ]
  },
  {
   "cell_type": "code",
   "execution_count": 118,
   "id": "6505677f-0d59-4ea4-9b20-b61e0b967e29",
   "metadata": {},
   "outputs": [],
   "source": [
    "# from left\n",
    "for i in range(0,b.shape[0]):\n",
    "    h = b[i,0]\n",
    "    for j in range(1,b.shape[1]):\n",
    "        if b[i,j] > h:\n",
    "            seen[i,j] = 1\n",
    "            h = b[i,j]\n",
    "        #print(i,j)\n",
    "\n",
    "# 1,1 1,2 1,3\n",
    "# 2,1 2,2 2,3\n",
    "# 3,1 3,2 3,3\n",
    "        \n",
    "# from right\n",
    "for i in range(0,b.shape[0]):\n",
    "    h = b[i,-1]\n",
    "    for j in range(b.shape[1]-1,0,-1):\n",
    "        if b[i,j] > h:\n",
    "            seen[i,j] = 1\n",
    "            h = b[i,j]\n",
    "\n",
    "# from top\n",
    "for i in range(0,b.shape[0]):\n",
    "    h = b[0,i]\n",
    "    for j in range(0,b.shape[1]):\n",
    "        if b[j,i] > h:\n",
    "            seen[j,i] = 1\n",
    "            h = b[j,i]\n",
    "\n",
    "# from bottom\n",
    "for i in range(0,b.shape[0]):\n",
    "    h = b[-1,i]\n",
    "    for j in range(b.shape[1]-1,0,-1):\n",
    "        if b[j,i] > h:\n",
    "            seen[j,i] = 1\n",
    "            h = b[j,i]\n",
    "\n"
   ]
  },
  {
   "cell_type": "code",
   "execution_count": 119,
   "id": "09e7ac9f-0d8f-404f-a867-56938aa4de76",
   "metadata": {},
   "outputs": [
    {
     "name": "stdout",
     "output_type": "stream",
     "text": [
      "[[1. 1. 1. ... 1. 1. 1.]\n",
      " [1. 1. 0. ... 1. 0. 1.]\n",
      " [1. 0. 0. ... 1. 0. 1.]\n",
      " ...\n",
      " [1. 0. 0. ... 0. 0. 1.]\n",
      " [1. 0. 1. ... 0. 0. 1.]\n",
      " [1. 1. 1. ... 1. 1. 1.]]\n"
     ]
    }
   ],
   "source": [
    "print(seen)"
   ]
  },
  {
   "cell_type": "code",
   "execution_count": 120,
   "id": "ec228e32-eec8-4e4c-ac62-2df42d81aa99",
   "metadata": {},
   "outputs": [
    {
     "data": {
      "text/plain": [
       "1843.0"
      ]
     },
     "execution_count": 120,
     "metadata": {},
     "output_type": "execute_result"
    }
   ],
   "source": [
    "sum(sum(seen))\n",
    "# guessed 1349"
   ]
  },
  {
   "cell_type": "code",
   "execution_count": 123,
   "id": "8bacc868-4d53-4c03-93f9-d535d9300bb4",
   "metadata": {},
   "outputs": [
    {
     "name": "stdout",
     "output_type": "stream",
     "text": [
      "1\n"
     ]
    }
   ],
   "source": [
    "def findSenicValue(board,x,y):\n",
    "    i,j = x,y\n",
    "    vals = 1\n",
    "    for direction in [(0,1),(0,-1),(1,0),(-1,0)]:\n",
    "        treeHeight = board[x,y]\n",
    "        i,j = x,y\n",
    "        i += direction[0]\n",
    "        j += direction[1]\n",
    "        found = 0\n",
    "        while (found == 0\n",
    "            and 0 <= i and i < board.shape[0] \n",
    "            and 0 <= j and j < board.shape[1]):\n",
    "            if board[i,j] >= treeHeight:\n",
    "                val = abs(i-x) + abs(j-y)\n",
    "                #print(\"found val\")\n",
    "                #print(i,j,x,y,val)\n",
    "                vals *= val\n",
    "                found = 1\n",
    "            i += direction[0]\n",
    "            j += direction[1]\n",
    "        if found == 0:\n",
    "            #print(i,j,x,y,val)\n",
    "            #print(\"got to end\")\n",
    "            i -= direction[0]\n",
    "            j -= direction[1]\n",
    "            val = abs(i-x) + abs(j-y)\n",
    "            #print(i,j,x,y,val)\n",
    "            vals *= abs(i-x) + abs(j-y)\n",
    "    return vals\n",
    "            \n",
    "maxVal = 0\n",
    "valLoc = (0,0)\n",
    "for i in range(0,b.shape[0]):\n",
    "    for j in range(0,b.shape[1]):\n",
    "        #print(\"maxVal is\",maxVal)\n",
    "        v = findSenicValue(b,i,j)\n",
    "        if v > maxVal:\n",
    "            maxVal = v\n",
    "            valLoc = (i,j)\n",
    "print(findSenicValue(b,3,2))"
   ]
  },
  {
   "cell_type": "code",
   "execution_count": 124,
   "id": "70bd982e-a24c-4da3-90a1-f016a2d44940",
   "metadata": {},
   "outputs": [
    {
     "name": "stdout",
     "output_type": "stream",
     "text": [
      "180000\n"
     ]
    }
   ],
   "source": [
    "print(maxVal)"
   ]
  },
  {
   "cell_type": "code",
   "execution_count": 127,
   "id": "107bd26c-5c1d-4858-9b85-f23db6484fe9",
   "metadata": {},
   "outputs": [
    {
     "name": "stdout",
     "output_type": "stream",
     "text": [
      "(50, 15)\n"
     ]
    }
   ],
   "source": [
    "print(valLoc)"
   ]
  },
  {
   "cell_type": "code",
   "execution_count": 128,
   "id": "28e45c5b-330c-42fb-b3e5-071cf7da4c23",
   "metadata": {},
   "outputs": [
    {
     "data": {
      "text/plain": [
       "180000"
      ]
     },
     "execution_count": 128,
     "metadata": {},
     "output_type": "execute_result"
    }
   ],
   "source": [
    "findSenicValue(b,50,15)"
   ]
  },
  {
   "cell_type": "code",
   "execution_count": 129,
   "id": "d4da5bb2-abf3-42b3-a439-db7644093062",
   "metadata": {},
   "outputs": [
    {
     "data": {
      "text/plain": [
       "20.597671439071178"
      ]
     },
     "execution_count": 129,
     "metadata": {},
     "output_type": "execute_result"
    }
   ],
   "source": [
    "180000**.25"
   ]
  },
  {
   "cell_type": "code",
   "execution_count": null,
   "id": "127250af-f05d-4a54-954a-a2740c116fe0",
   "metadata": {},
   "outputs": [],
   "source": []
  }
 ],
 "metadata": {
  "kernelspec": {
   "display_name": "Python 3 (ipykernel)",
   "language": "python",
   "name": "python3"
  },
  "language_info": {
   "codemirror_mode": {
    "name": "ipython",
    "version": 3
   },
   "file_extension": ".py",
   "mimetype": "text/x-python",
   "name": "python",
   "nbconvert_exporter": "python",
   "pygments_lexer": "ipython3",
   "version": "3.9.13"
  }
 },
 "nbformat": 4,
 "nbformat_minor": 5
}
