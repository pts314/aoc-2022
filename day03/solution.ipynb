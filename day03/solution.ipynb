{
 "cells": [
  {
   "cell_type": "code",
   "execution_count": null,
   "id": "34ad89f6-dc52-4edc-9040-319c37154e03",
   "metadata": {},
   "outputs": [],
   "source": []
  },
  {
   "cell_type": "code",
   "execution_count": 35,
   "id": "ba6ea610-9726-4e80-a214-264529d5b3de",
   "metadata": {},
   "outputs": [],
   "source": [
    "with open(\"example.txt\") as f:\n",
    "    data = f.read()"
   ]
  },
  {
   "cell_type": "code",
   "execution_count": 52,
   "id": "d3d40cd9-1f3b-4d76-8aac-7c9fe83a6e38",
   "metadata": {},
   "outputs": [],
   "source": [
    "with open(\"input.txt\") as f:\n",
    "    data = f.read()"
   ]
  },
  {
   "cell_type": "code",
   "execution_count": 53,
   "id": "240646a7-a882-4b41-929d-54b66984c765",
   "metadata": {},
   "outputs": [],
   "source": [
    "common = []\n",
    "for i in data.strip().split(\"\\n\"):\n",
    "    l = len(i)//2\n",
    "    first = set(i[:l])\n",
    "    second = set(i[l:])\n",
    "    common.append(list(first.intersection(second))[0])\n"
   ]
  },
  {
   "cell_type": "code",
   "execution_count": 54,
   "id": "1f42cba8-ce55-4668-9ad6-71dcbe9ec040",
   "metadata": {},
   "outputs": [],
   "source": [
    "sum1 = 0\n",
    "for letter in common:\n",
    "    if letter.isupper():\n",
    "        sum1 += ord(letter) - ord(\"A\") + 27\n",
    "    else:\n",
    "        sum1 += ord(letter) - ord(\"a\") + 1"
   ]
  },
  {
   "cell_type": "code",
   "execution_count": 55,
   "id": "9be1e6ec-3cf8-4a68-8232-94d4da418879",
   "metadata": {},
   "outputs": [
    {
     "data": {
      "text/plain": [
       "98"
      ]
     },
     "execution_count": 55,
     "metadata": {},
     "output_type": "execute_result"
    }
   ],
   "source": [
    "ord(\"b\")"
   ]
  },
  {
   "cell_type": "code",
   "execution_count": 56,
   "id": "ed1c19e6-c99c-4a7b-a5d1-27b45ddd8a9f",
   "metadata": {},
   "outputs": [
    {
     "data": {
      "text/plain": [
       "7553"
      ]
     },
     "execution_count": 56,
     "metadata": {},
     "output_type": "execute_result"
    }
   ],
   "source": [
    "sum1"
   ]
  },
  {
   "cell_type": "code",
   "execution_count": 57,
   "id": "4bba3f50-fcac-4a08-8012-16c00bed39cf",
   "metadata": {},
   "outputs": [],
   "source": [
    "common = []\n",
    "lines = data.strip().split(\"\\n\")\n",
    "for i in range(0,len(lines),3):\n",
    "    group1 = set(lines[i+0]).intersection(set(lines[i+1])).intersection(lines[i+2])\n",
    "    #group2 = set(lines[i+3]).intersection(set(lines[i+4])).intersection(lines[i+5])\n",
    "    common.append(list(group1)[0])\n"
   ]
  },
  {
   "cell_type": "code",
   "execution_count": 58,
   "id": "2a9fa07f-cced-4b2c-a7c6-7970a38d6274",
   "metadata": {},
   "outputs": [
    {
     "data": {
      "text/plain": [
       "300"
      ]
     },
     "execution_count": 58,
     "metadata": {},
     "output_type": "execute_result"
    }
   ],
   "source": [
    "len(lines)"
   ]
  },
  {
   "cell_type": "code",
   "execution_count": 59,
   "id": "7b8ce34d-0622-45b7-9be9-f90480b98f13",
   "metadata": {},
   "outputs": [],
   "source": [
    "sum1 = 0\n",
    "for letter in common:\n",
    "    if letter.isupper():\n",
    "        sum1 += ord(letter) - ord(\"A\") + 27\n",
    "    else:\n",
    "        sum1 += ord(letter) - ord(\"a\") + 1"
   ]
  },
  {
   "cell_type": "code",
   "execution_count": 60,
   "id": "d002dcbc-92da-41f8-a45d-b24980a05cbf",
   "metadata": {},
   "outputs": [
    {
     "data": {
      "text/plain": [
       "2758"
      ]
     },
     "execution_count": 60,
     "metadata": {},
     "output_type": "execute_result"
    }
   ],
   "source": [
    "sum1"
   ]
  },
  {
   "cell_type": "code",
   "execution_count": null,
   "id": "4afb6e0a-58d7-4f7e-8f65-0b34742b9ccf",
   "metadata": {},
   "outputs": [],
   "source": []
  },
  {
   "cell_type": "code",
   "execution_count": null,
   "id": "9af498dc-ed80-45a7-8c61-ee5019154fd1",
   "metadata": {},
   "outputs": [],
   "source": []
  }
 ],
 "metadata": {
  "kernelspec": {
   "display_name": "Python 3 (ipykernel)",
   "language": "python",
   "name": "python3"
  },
  "language_info": {
   "codemirror_mode": {
    "name": "ipython",
    "version": 3
   },
   "file_extension": ".py",
   "mimetype": "text/x-python",
   "name": "python",
   "nbconvert_exporter": "python",
   "pygments_lexer": "ipython3",
   "version": "3.9.13"
  }
 },
 "nbformat": 4,
 "nbformat_minor": 5
}
