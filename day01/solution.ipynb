{
 "cells": [
  {
   "cell_type": "code",
   "execution_count": null,
   "id": "dacd749d-d73f-4d7e-83c4-55aa90682a75",
   "metadata": {},
   "outputs": [],
   "source": []
  },
  {
   "cell_type": "code",
   "execution_count": 19,
   "id": "56341429-8bf9-4842-b330-83ace8aa52d5",
   "metadata": {},
   "outputs": [],
   "source": [
    "def solution(filepath_in):\n",
    "    with open(filepath_in) as fh:\n",
    "        data = fh.read()\n",
    "    perElf = data.split(\"\\n\\n\")\n",
    "    maxSum = 0\n",
    "    calories = []\n",
    "    for e in perElf:\n",
    "        tmp = [int(x) for x in e.split(\"\\n\")]\n",
    "        calories.append(sum(tmp))\n",
    "\n",
    "    return calories\n",
    "        "
   ]
  },
  {
   "cell_type": "code",
   "execution_count": null,
   "id": "70c1e6fc-8279-4360-9c90-7ab1dd1805b8",
   "metadata": {},
   "outputs": [],
   "source": []
  },
  {
   "cell_type": "code",
   "execution_count": 20,
   "id": "cd533929-2ffb-4126-940b-180a1f2f9f83",
   "metadata": {},
   "outputs": [
    {
     "data": {
      "text/plain": [
       "[6000, 4000, 11000, 24000, 10000]"
      ]
     },
     "execution_count": 20,
     "metadata": {},
     "output_type": "execute_result"
    }
   ],
   "source": [
    "solution(\"example.txt\")"
   ]
  },
  {
   "cell_type": "code",
   "execution_count": 22,
   "id": "d604a87d-1824-4f0c-b758-b84d46a03634",
   "metadata": {},
   "outputs": [],
   "source": [
    "foo = solution(\"input.txt\")"
   ]
  },
  {
   "cell_type": "code",
   "execution_count": 26,
   "id": "241fea83-342d-495e-8736-721aa2621a55",
   "metadata": {},
   "outputs": [
    {
     "data": {
      "text/plain": [
       "204837"
      ]
     },
     "execution_count": 26,
     "metadata": {},
     "output_type": "execute_result"
    }
   ],
   "source": [
    "sum(sorted(foo)[-3:])"
   ]
  },
  {
   "cell_type": "code",
   "execution_count": 29,
   "id": "afd0d0e6-880c-4115-9dc2-8095b9dca650",
   "metadata": {},
   "outputs": [],
   "source": []
  },
  {
   "cell_type": "code",
   "execution_count": null,
   "id": "5e1bdbe3-91ea-454f-b49f-77f8856def9e",
   "metadata": {},
   "outputs": [],
   "source": []
  },
  {
   "cell_type": "code",
   "execution_count": null,
   "id": "c201b06e-5397-48ea-b0d0-b402d7468b6c",
   "metadata": {},
   "outputs": [],
   "source": []
  },
  {
   "cell_type": "code",
   "execution_count": null,
   "id": "00ca9d62-4bc3-4c07-a06c-c18b5a868b89",
   "metadata": {},
   "outputs": [],
   "source": []
  }
 ],
 "metadata": {
  "kernelspec": {
   "display_name": "Python 3 (ipykernel)",
   "language": "python",
   "name": "python3"
  },
  "language_info": {
   "codemirror_mode": {
    "name": "ipython",
    "version": 3
   },
   "file_extension": ".py",
   "mimetype": "text/x-python",
   "name": "python",
   "nbconvert_exporter": "python",
   "pygments_lexer": "ipython3",
   "version": "3.9.13"
  }
 },
 "nbformat": 4,
 "nbformat_minor": 5
}
