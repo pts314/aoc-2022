{
 "cells": [
  {
   "cell_type": "code",
   "execution_count": 11,
   "id": "056cf372-47d3-49fc-b454-de53e2685780",
   "metadata": {},
   "outputs": [],
   "source": [
    "import re\n",
    "from collections import defaultdict\n",
    "import math"
   ]
  },
  {
   "cell_type": "code",
   "execution_count": 28,
   "id": "0d251203-53ea-4fee-9b4d-36cf3186297b",
   "metadata": {},
   "outputs": [],
   "source": [
    "round_number = 0"
   ]
  },
  {
   "cell_type": "code",
   "execution_count": 29,
   "id": "d354ed34-d3fb-4aa2-9127-baba8557451a",
   "metadata": {},
   "outputs": [],
   "source": [
    "with open(\"example.txt\") as f:\n",
    "    data = f.read()\n",
    "    lines = data.strip().split(\"\\n\")"
   ]
  },
  {
   "cell_type": "code",
   "execution_count": 52,
   "id": "c77f0605-30bc-4445-9e99-a82ab7fd4788",
   "metadata": {},
   "outputs": [],
   "source": [
    "with open(\"input.txt\") as f:\n",
    "    data = f.read()\n",
    "    lines = data.strip().split(\"\\n\")"
   ]
  },
  {
   "cell_type": "code",
   "execution_count": 53,
   "id": "b48cf3db-c025-4659-9072-8719d202a4b7",
   "metadata": {},
   "outputs": [],
   "source": [
    "monkeys = {}\n",
    "for group in data.split(\"\\n\\n\"):\n",
    "    monk = {}\n",
    "    lines = group.split(\"\\n\")\n",
    "    monk[\"id\"] = int(re.findall(r\"\\d+\",lines[0])[0])\n",
    "    monk[\"items\"] = [int(x) for x in re.findall(r\"\\d+\",lines[1])]\n",
    "    # this could be dangerous as we're doing an eval of a string, but we trust the input\n",
    "    monk[\"operation\"] = eval(\"lambda old : \"+lines[2].split(\"=\")[1])\n",
    "    monk[\"testdiv\"] = int(re.findall(r\"\\d+\",lines[3])[0])\n",
    "    monk[\"testtrue\"] = int(re.findall(r\"\\d+\",lines[4])[0])\n",
    "    monk[\"testfalse\"] = int(re.findall(r\"\\d+\",lines[5])[0])\n",
    "    monk[\"total_items_inspected\"] = 0\n",
    "    monk[\"lcm\"] = 1\n",
    "    monkeys[monk[\"id\"]] = monk\n",
    "    \n"
   ]
  },
  {
   "cell_type": "code",
   "execution_count": 54,
   "id": "15b222e0-6658-45b4-bfbd-16230adc819d",
   "metadata": {},
   "outputs": [
    {
     "name": "stdout",
     "output_type": "stream",
     "text": [
      "9699690\n"
     ]
    }
   ],
   "source": [
    "lcm = 1\n",
    "for m in monkeys:\n",
    "    lcm *= monkeys[m][\"testdiv\"]\n",
    "print(lcm)\n",
    "for m in monkeys:\n",
    "    monkeys[m][\"lcm\"] = lcm"
   ]
  },
  {
   "cell_type": "code",
   "execution_count": 55,
   "id": "bf86cc7a-7b5c-452f-a781-d69504da622a",
   "metadata": {},
   "outputs": [],
   "source": [
    "def doMonkeys(monkeys):\n",
    "    test = 0\n",
    "    part1 = False\n",
    "    for monkey in monkeys:\n",
    "        m = monkeys[monkey]\n",
    "        items = m[\"items\"]\n",
    "        m[\"items\"] = []\n",
    "        if test:\n",
    "            print(\"Monkey \",monkey,\":\")\n",
    "        for item in items:\n",
    "            m[\"total_items_inspected\"] += 1\n",
    "            i = m[\"operation\"](item)\n",
    "            if part1:\n",
    "                bored = i // 3\n",
    "            else:\n",
    "                #print(\"divided\")\n",
    "                bored = i % lcm\n",
    "\n",
    "            isDiv = (bored % m[\"testdiv\"]) == 0\n",
    "            destMonkey = m[\"testtrue\"] if isDiv else m[\"testfalse\"]\n",
    "            monkeys[destMonkey][\"items\"].append(bored)\n",
    "            if test:\n",
    "                print(\"Monkey inspects an item with a worry level of \",item)\n",
    "                print(\"worry went from \",item, \" to \",i)\n",
    "                print(\"monkey got boared\",bored)\n",
    "                print(\"isDiv is\",isDiv)\n",
    "                print(\"item goes to \",destMonkey)\n",
    "\n",
    "        "
   ]
  },
  {
   "cell_type": "code",
   "execution_count": 56,
   "id": "81606d3d-2aa9-4df3-8ada-2fa08d69c41f",
   "metadata": {},
   "outputs": [],
   "source": [
    "for _ in range(10000):\n",
    "    round_number += 1\n",
    "    doMonkeys(monkeys)"
   ]
  },
  {
   "cell_type": "code",
   "execution_count": 57,
   "id": "f6ffedf6-711f-467a-a6b5-5a04e3b7a980",
   "metadata": {},
   "outputs": [
    {
     "name": "stdout",
     "output_type": "stream",
     "text": [
      "round_number is 13000\n",
      "[5.578231079376565, 6.802615298600739, 6.763805515872144, 6.763805515872144, 6.737661205171962, 6.825220542015686, 5.578231079376565]\n",
      "[6.178617570955836]\n",
      "[6.613260683239166, 6.7833012925416485, 6.613260683239166, 6.7833012925416485, 6.369387314202217]\n",
      "[6.9218866209100165, 6.315886205863789, 6.747936606312916, 6.613260154192604, 6.783300934895788, 6.747936606312916, 6.811477747868039, 6.369386386587852]\n",
      "[6.812508873586942, 6.950151890760387, 6.803867794039356, 6.950151890760387, 6.950151890760387]\n",
      "[]\n",
      "[6.829296180653721, 6.829296180653721, 6.894047980380707, 6.747937615079187, 6.895204625834858, 6.388483262366112, 6.388483262366112, 6.434164918128276, 6.7348534932340725, 6.434164918128276]\n",
      "[]\n"
     ]
    }
   ],
   "source": [
    "print(\"round_number is\",round_number)\n",
    "for m in monkeys:\n",
    "    #passes[m].append(monkeys[m][\"items\"])\n",
    "    print([math.log10(x) for x in monkeys[m][\"items\"]])"
   ]
  },
  {
   "cell_type": "code",
   "execution_count": 40,
   "id": "16b4a2e6-99e8-4642-9940-65040fa4f3f3",
   "metadata": {},
   "outputs": [
    {
     "data": {
      "text/plain": [
       "50830"
      ]
     },
     "execution_count": 40,
     "metadata": {},
     "output_type": "execute_result"
    }
   ],
   "source": [
    "230*221"
   ]
  },
  {
   "cell_type": "code",
   "execution_count": 58,
   "id": "90c1c9c4-a31e-41e9-a358-9f32182d270d",
   "metadata": {},
   "outputs": [
    {
     "name": "stdout",
     "output_type": "stream",
     "text": [
      "round_number is 13000\n",
      "60020\n",
      "7592\n",
      "119998\n",
      "59985\n",
      "62507\n",
      "57608\n",
      "117503\n",
      "119999\n"
     ]
    }
   ],
   "source": [
    "print(\"round_number is\",round_number)\n",
    "for m in monkeys:\n",
    "    #passes[m].append(monkeys[m][\"total_items_inspected\"])\n",
    "    print(monkeys[m][\"total_items_inspected\"])"
   ]
  },
  {
   "cell_type": "code",
   "execution_count": 24,
   "id": "d7c8fe4b-8fba-44fd-a8ff-41224cc3731a",
   "metadata": {},
   "outputs": [
    {
     "data": {
      "text/plain": [
       "1.0"
      ]
     },
     "execution_count": 24,
     "metadata": {},
     "output_type": "execute_result"
    }
   ],
   "source": [
    "math.log10(10)"
   ]
  },
  {
   "cell_type": "code",
   "execution_count": 59,
   "id": "493c61bb-72f5-4872-9a2a-4a228f48822f",
   "metadata": {},
   "outputs": [
    {
     "data": {
      "text/plain": [
       "14399640002"
      ]
     },
     "execution_count": 59,
     "metadata": {},
     "output_type": "execute_result"
    }
   ],
   "source": [
    "119998*119999"
   ]
  },
  {
   "cell_type": "code",
   "execution_count": 112,
   "id": "b29accaa-12eb-4720-83e6-154e44691e17",
   "metadata": {},
   "outputs": [
    {
     "name": "stdout",
     "output_type": "stream",
     "text": [
      "defaultdict(<class 'list'>, {0: [46, 99, 149, 201, 251, 301, 354, 405, 457, 509, 562, 615, 668, 721, 774, 825, 876, 926, 979, 1029, 1080], 1: [50, 97, 147, 195, 245, 295, 342, 391, 439, 487, 534, 581, 628, 675, 722, 771, 820, 870, 917, 967, 1016], 2: [4, 8, 9, 13, 14, 16, 19, 21, 25, 25, 26, 28, 29, 32, 34, 36, 38, 39, 42, 45, 46], 3: [50, 103, 153, 205, 255, 304, 357, 408, 459, 511, 564, 617, 670, 722, 775, 826, 877, 927, 980, 1030, 1080]})\n"
     ]
    }
   ],
   "source": [
    "print(passes)"
   ]
  },
  {
   "cell_type": "code",
   "execution_count": 115,
   "id": "c9af7721-7ac8-4116-aae4-b5c1e27ddeef",
   "metadata": {},
   "outputs": [
    {
     "name": "stdout",
     "output_type": "stream",
     "text": [
      "working on  0\n",
      "53\n",
      "50\n",
      "52\n",
      "50\n",
      "50\n",
      "53\n",
      "51\n",
      "52\n",
      "52\n",
      "53\n",
      "53\n",
      "53\n",
      "53\n",
      "53\n",
      "51\n",
      "51\n",
      "50\n",
      "53\n",
      "50\n",
      "51\n",
      "working on  1\n",
      "47\n",
      "50\n",
      "48\n",
      "50\n",
      "50\n",
      "47\n",
      "49\n",
      "48\n",
      "48\n",
      "47\n",
      "47\n",
      "47\n",
      "47\n",
      "47\n",
      "49\n",
      "49\n",
      "50\n",
      "47\n",
      "50\n",
      "49\n",
      "working on  2\n",
      "4\n",
      "1\n",
      "4\n",
      "1\n",
      "2\n",
      "3\n",
      "2\n",
      "4\n",
      "0\n",
      "1\n",
      "2\n",
      "1\n",
      "3\n",
      "2\n",
      "2\n",
      "2\n",
      "1\n",
      "3\n",
      "3\n",
      "1\n",
      "working on  3\n",
      "53\n",
      "50\n",
      "52\n",
      "50\n",
      "49\n",
      "53\n",
      "51\n",
      "51\n",
      "52\n",
      "53\n",
      "53\n",
      "53\n",
      "52\n",
      "53\n",
      "51\n",
      "51\n",
      "50\n",
      "53\n",
      "50\n",
      "50\n"
     ]
    }
   ],
   "source": [
    "for l_key in passes:\n",
    "    print(\"working on \",l_key)\n",
    "    l = passes[l_key]\n",
    "    delta = 0\n",
    "    for i,v in enumerate(l):\n",
    "        if i == 0:\n",
    "            continue\n",
    "        delta = v - l[i-1]\n",
    "        print(delta)"
   ]
  },
  {
   "cell_type": "code",
   "execution_count": null,
   "id": "f0e32c2b-a444-4735-a344-ae46b4f63b54",
   "metadata": {},
   "outputs": [],
   "source": []
  }
 ],
 "metadata": {
  "kernelspec": {
   "display_name": "Python 3 (ipykernel)",
   "language": "python",
   "name": "python3"
  },
  "language_info": {
   "codemirror_mode": {
    "name": "ipython",
    "version": 3
   },
   "file_extension": ".py",
   "mimetype": "text/x-python",
   "name": "python",
   "nbconvert_exporter": "python",
   "pygments_lexer": "ipython3",
   "version": "3.9.13"
  }
 },
 "nbformat": 4,
 "nbformat_minor": 5
}
